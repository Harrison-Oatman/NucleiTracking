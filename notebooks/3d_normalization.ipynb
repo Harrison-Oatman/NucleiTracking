{
 "cells": [
  {
   "cell_type": "code",
   "execution_count": null,
   "id": "initial_id",
   "metadata": {
    "collapsed": true,
    "ExecuteTime": {
     "end_time": "2024-08-21T18:14:28.141045Z",
     "start_time": "2024-08-21T18:14:28.141045Z"
    }
   },
   "outputs": [],
   "source": [
    "%load_ext autoreload\n",
    "%autoreload 2"
   ]
  },
  {
   "cell_type": "code",
   "outputs": [],
   "source": [
    "import pandas as pd\n",
    "import numpy as np\n",
    "from pathlib import Path\n",
    "import matplotlib.pyplot as plt\n",
    "import seaborn as sns\n",
    "from json import load\n",
    "import tifffile\n",
    "from tqdm import tqdm\n",
    "from skimage.draw import polygon\n",
    "from matplotlib import rcParams\n",
    "import glasbey\n",
    "\n",
    "palette = {\n",
    "    \"green\": \"#558150\",\n",
    "    \"beige\": \"#F1E2C3\",\n",
    "    \"brown\": \"#A7785A\",\n",
    "    \"pink\": \"#F0D6C2\",\n",
    "    \"black\": \"#0E0E0E\",\n",
    "}\n",
    "\n",
    "rcParams['font.family'] = 'sans-serif'\n",
    "rcParams['figure.facecolor'] = \"#FFFFFF00\"\n",
    "rcParams['axes.facecolor'] = \"#FFFFFF00\"\n",
    "rcParams['legend.framealpha'] = 0.2\n",
    "rcParams['axes.edgecolor'] = palette[\"black\"]\n",
    "rcParams['axes.labelcolor'] = palette[\"black\"]\n",
    "rcParams['xtick.color'] = palette[\"black\"]\n",
    "rcParams['ytick.color'] = palette[\"black\"]\n",
    "rcParams['text.color'] = palette[\"black\"]\n",
    "rcParams['axes.titlecolor'] = palette[\"black\"]\n",
    "\n",
    "s_palette = sns.cubehelix_palette(as_cmap=True)\n",
    "g_palette = glasbey.create_palette()\n",
    "cpal = sns.cubehelix_palette(start=-0.25, rot=2, as_cmap=True)\n",
    "blue_palette = sns.cubehelix_palette(as_cmap=True, rot=-.25, light=.7)\n",
    "blue_root_palette = sns.cubehelix_palette(5, rot=-.25, light=.7)"
   ],
   "metadata": {
    "collapsed": false,
    "ExecuteTime": {
     "end_time": "2024-08-21T18:14:36.760875Z",
     "start_time": "2024-08-21T18:14:32.311768Z"
    }
   },
   "id": "a017f08c6f9cc579",
   "execution_count": 2
  },
  {
   "cell_type": "code",
   "outputs": [],
   "source": [
    "lightsheet_path = Path(r\"D:\\Tracking\\NucleiTracking\\data\\interim\\lightsheet\")\n",
    "sources = 60, 240\n",
    "imgs = {}\n",
    "\n",
    "for source in sources:\n",
    "    source_path = lightsheet_path / f\"raw/Recon_fused_tp_{source}_ch_0.tif\"\n",
    "    imgs[source] = tifffile.imread(source_path)"
   ],
   "metadata": {
    "collapsed": false,
    "ExecuteTime": {
     "end_time": "2024-08-21T18:16:44.633914Z",
     "start_time": "2024-08-21T18:16:44.236266Z"
    }
   },
   "id": "e0db5181e3f5a533",
   "execution_count": 3
  },
  {
   "cell_type": "code",
   "outputs": [],
   "source": [
    "def rolling_avg(arr, window=5):\n",
    "    return np.convolve(arr, np.ones(window) / window, mode=\"same\")"
   ],
   "metadata": {
    "collapsed": false,
    "ExecuteTime": {
     "end_time": "2024-08-21T18:23:38.830318Z",
     "start_time": "2024-08-21T18:23:38.827317Z"
    }
   },
   "id": "c5d5a2fa6321809e",
   "execution_count": 21
  },
  {
   "cell_type": "code",
   "outputs": [
    {
     "name": "stdout",
     "output_type": "stream",
     "text": [
      "(371, 983, 415)\n",
      "(371, 983, 415)\n"
     ]
    }
   ],
   "source": [
    "for source in sources:\n",
    "    print(imgs[source].shape)\n",
    "    axis_normalizer_max = rolling_avg(np.quantile(imgs[source], 0.99, axis=(0, 1)))\n",
    "    axis_normalizer_min = rolling_avg(np.quantile(imgs[source], 0.01, axis=(0, 1)))\n",
    "    data = (imgs[source] - axis_normalizer_min) / (axis_normalizer_max - axis_normalizer_min)\n",
    "    data = np.clip(data, 0, 1)\n",
    "    tifffile.imwrite(lightsheet_path / f\"raw/Recon_fused_tp_{source}_ch_0_normalized.tif\", data)"
   ],
   "metadata": {
    "collapsed": false,
    "ExecuteTime": {
     "end_time": "2024-08-21T18:30:46.644689Z",
     "start_time": "2024-08-21T18:30:35.630454Z"
    }
   },
   "id": "f5a8ac7a69883b02",
   "execution_count": 28
  },
  {
   "cell_type": "code",
   "outputs": [],
   "source": [],
   "metadata": {
    "collapsed": false
   },
   "id": "75483630f144e5cc"
  }
 ],
 "metadata": {
  "kernelspec": {
   "display_name": "Python 3",
   "language": "python",
   "name": "python3"
  },
  "language_info": {
   "codemirror_mode": {
    "name": "ipython",
    "version": 2
   },
   "file_extension": ".py",
   "mimetype": "text/x-python",
   "name": "python",
   "nbconvert_exporter": "python",
   "pygments_lexer": "ipython2",
   "version": "2.7.6"
  }
 },
 "nbformat": 4,
 "nbformat_minor": 5
}
