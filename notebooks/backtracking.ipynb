{
 "cells": [
  {
   "cell_type": "code",
   "execution_count": 31,
   "id": "initial_id",
   "metadata": {
    "collapsed": true,
    "ExecuteTime": {
     "end_time": "2024-12-11T19:41:55.373121Z",
     "start_time": "2024-12-11T19:41:55.211242Z"
    }
   },
   "outputs": [
    {
     "name": "stdout",
     "output_type": "stream",
     "text": [
      "The autoreload extension is already loaded. To reload it, use:\n",
      "  %reload_ext autoreload\n"
     ]
    }
   ],
   "source": [
    "%load_ext autoreload\n",
    "%autoreload 2"
   ]
  },
  {
   "cell_type": "code",
   "outputs": [],
   "source": [
    "import pandas as pd\n",
    "import numpy as np\n",
    "from pathlib import Path\n",
    "import matplotlib.pyplot as plt\n",
    "import seaborn as sns\n",
    "from json import load\n",
    "import tifffile\n",
    "from tqdm import tqdm\n",
    "from skimage.draw import polygon\n",
    "from matplotlib import rcParams\n",
    "from glasbey import create_palette\n",
    "\n",
    "palette = {\n",
    "    \"green\": \"#558150\",\n",
    "    \"beige\": \"#F1E2C3\",\n",
    "    \"brown\": \"#A7785A\",\n",
    "    \"pink\": \"#F0D6C2\",\n",
    "    \"black\": \"#0E0E0E\",\n",
    "}\n",
    "\n",
    "rcParams['font.family'] = 'sans-serif'\n",
    "rcParams['figure.facecolor'] = \"#FFFFFF00\"\n",
    "rcParams['axes.facecolor'] = \"#FFFFFF00\"\n",
    "rcParams['legend.framealpha'] = 0.2\n",
    "rcParams['axes.edgecolor'] = palette[\"black\"]\n",
    "rcParams['axes.labelcolor'] = palette[\"black\"]\n",
    "rcParams['xtick.color'] = palette[\"black\"]\n",
    "rcParams['ytick.color'] = palette[\"black\"]\n",
    "rcParams['text.color'] = palette[\"black\"]\n",
    "rcParams['axes.titlecolor'] = palette[\"black\"]\n",
    "\n",
    "s_palette = sns.cubehelix_palette(as_cmap=True)\n",
    "pal = sns.color_palette(\"dark\")\n",
    "cpal = sns.cubehelix_palette(start=-0.25, rot=2, as_cmap=True)"
   ],
   "metadata": {
    "collapsed": false,
    "ExecuteTime": {
     "end_time": "2024-12-11T18:19:56.568154Z",
     "start_time": "2024-12-11T18:19:53.082020Z"
    }
   },
   "id": "97d2e181b5f7c73f",
   "execution_count": 2
  },
  {
   "cell_type": "code",
   "outputs": [],
   "source": [
    "source_path = Path(r\"D:\\Tracking\\NucleiTracking\\data\\interim\\lightsheet\\2024_11_04\\recon2\\backtracking\")\n",
    "source1 = tifffile.imread(source_path / \"recon_fused_tp_180_ch_0.tif\")\n",
    "source2 = tifffile.imread(source_path / \"recon_fused_tp_181_ch_0.tif\")"
   ],
   "metadata": {
    "collapsed": false,
    "ExecuteTime": {
     "end_time": "2024-12-11T18:21:25.110492Z",
     "start_time": "2024-12-11T18:21:23.177482Z"
    }
   },
   "id": "e59515ca414f089e",
   "execution_count": 3
  },
  {
   "cell_type": "code",
   "outputs": [
    {
     "name": "stdout",
     "output_type": "stream",
     "text": [
      "(365, 891, 354)\n"
     ]
    }
   ],
   "source": [
    "print(source1.shape)"
   ],
   "metadata": {
    "collapsed": false,
    "ExecuteTime": {
     "end_time": "2024-12-11T20:14:49.251856Z",
     "start_time": "2024-12-11T20:14:49.090856Z"
    }
   },
   "id": "688018fb30f44084",
   "execution_count": 63
  },
  {
   "cell_type": "code",
   "outputs": [],
   "source": [
    "from skimage.filters import difference_of_gaussians\n",
    "\n",
    "dog1 = difference_of_gaussians(source1, 2, 6)"
   ],
   "metadata": {
    "collapsed": false,
    "ExecuteTime": {
     "end_time": "2024-12-11T18:46:50.248979Z",
     "start_time": "2024-12-11T18:46:42.404789Z"
    }
   },
   "id": "e4e8266f6bfad9be",
   "execution_count": 10
  },
  {
   "cell_type": "code",
   "outputs": [],
   "source": [
    "spots_df = pd.read_csv(r\"D:\\Tracking\\NucleiTracking\\data\\interim\\lightsheet\\2024_11_04\\recon2\\dis3\\out\\tracked_spots.csv\")\n",
    "example_points = spots_df[spots_df[\"FRAME\"] == 181]\n",
    "example_points = example_points[example_points[\"track_id\"] != 0]\n",
    "X = example_points[[\"POSITION_X\", \"POSITION_Y\", \"POSITION_Z\"]].values"
   ],
   "metadata": {
    "collapsed": false,
    "ExecuteTime": {
     "end_time": "2024-12-11T20:17:39.408922Z",
     "start_time": "2024-12-11T20:17:38.381423Z"
    }
   },
   "id": "2e02d96111b78669",
   "execution_count": 66
  },
  {
   "cell_type": "code",
   "outputs": [],
   "source": [
    "import napari\n",
    "from scipy.ndimage import sobel\n",
    "\n",
    "viewer = napari.Viewer()\n",
    "\n",
    "s = np.zeros_like(source1)\n",
    "\n",
    "for axis in range(3):\n",
    "    s += sobel(-dog1, axis=axis)**2\n",
    "viewer.add_image(np.sqrt(s), name=\"source1_sobel\", colormap=\"magenta\")\n",
    "viewer.add_image(source1, name=\"source1\", colormap=\"green\")\n",
    "napari.run()"
   ],
   "metadata": {
    "collapsed": false,
    "ExecuteTime": {
     "end_time": "2024-12-11T18:51:51.944922Z",
     "start_time": "2024-12-11T18:51:47.041470Z"
    }
   },
   "id": "a116806386b0de41",
   "execution_count": 16
  },
  {
   "cell_type": "code",
   "outputs": [],
   "source": [
    "from skimage.feature import peak_local_max\n",
    "from scipy.ndimage import distance_transform_edt\n",
    "from skimage import segmentation\n",
    "\n",
    "peaks = peak_local_max(dog1, min_distance=2, threshold_abs=20)\n",
    "img = np.zeros(source1.shape)\n",
    "img[peaks[:, 0], peaks[:, 1], peaks[:, 2]] = np.arange(1, len(peaks) + 1)\n",
    "dist = distance_transform_edt(img == 0)\n",
    "w = segmentation.watershed(-dog1, img.astype(int), mask=dist < 18)"
   ],
   "metadata": {
    "collapsed": false,
    "ExecuteTime": {
     "end_time": "2024-12-11T20:06:15.767871Z",
     "start_time": "2024-12-11T20:05:10.503871Z"
    }
   },
   "id": "b7ed901f7d6fdfb2",
   "execution_count": 55
  },
  {
   "cell_type": "code",
   "outputs": [
    {
     "data": {
      "text/plain": "array([[116, 183,  67],\n       [270, 161, 251],\n       [289, 203, 247],\n       ...,\n       [108, 819, 166],\n       [105, 304,  99],\n       [  0,   0,   0]], dtype=int64)"
     },
     "execution_count": 75,
     "metadata": {},
     "output_type": "execute_result"
    }
   ],
   "source": [
    "np.array(list(peaks_map.values()))"
   ],
   "metadata": {
    "collapsed": false,
    "ExecuteTime": {
     "end_time": "2024-12-11T22:44:20.419224Z",
     "start_time": "2024-12-11T22:44:20.257229Z"
    }
   },
   "id": "71a63df5c624e10d",
   "execution_count": 75
  },
  {
   "cell_type": "code",
   "outputs": [],
   "source": [
    "peaks_map = {i + 1: p for i, p in enumerate(peaks)}\n",
    "peaks_map[0] = (0, 0, 0)\n",
    "example_points[\"new_label\"] = [w[tuple(p.astype(int))] for p in X]\n",
    "example_points[\"new_x\"] = example_points[\"new_label\"].map(lambda x: peaks_map[x][0])\n",
    "example_points[\"new_y\"] = example_points[\"new_label\"].map(lambda x: peaks_map[x][1])\n",
    "example_points[\"new_z\"] = example_points[\"new_label\"].map(lambda x: peaks_map[x][2])\n",
    "X_new = example_points[[\"new_x\", \"new_y\", \"new_z\"]].values"
   ],
   "metadata": {
    "collapsed": false,
    "ExecuteTime": {
     "end_time": "2024-12-11T20:18:17.053616Z",
     "start_time": "2024-12-11T20:18:16.837620Z"
    }
   },
   "id": "1b9e52602973bf3d",
   "execution_count": 67
  },
  {
   "cell_type": "code",
   "outputs": [
    {
     "name": "stdout",
     "output_type": "stream",
     "text": [
      "[332. 874. 343.]\n"
     ]
    }
   ],
   "source": [
    "print(np.max(X, axis=0))"
   ],
   "metadata": {
    "collapsed": false,
    "ExecuteTime": {
     "end_time": "2024-12-11T20:14:35.831855Z",
     "start_time": "2024-12-11T20:14:35.670855Z"
    }
   },
   "id": "228d51ed8a9dcaa9",
   "execution_count": 62
  },
  {
   "cell_type": "code",
   "outputs": [
    {
     "name": "stdout",
     "output_type": "stream",
     "text": [
      "[320 329 121]\n",
      "[[320 329 121]]\n"
     ]
    }
   ],
   "source": [
    "print(peaks_map[150])\n",
    "print(np.argwhere(img == 150))"
   ],
   "metadata": {
    "collapsed": false,
    "ExecuteTime": {
     "end_time": "2024-12-11T20:14:09.170858Z",
     "start_time": "2024-12-11T20:14:08.644857Z"
    }
   },
   "id": "ebf5add0af7f064a",
   "execution_count": 61
  },
  {
   "cell_type": "code",
   "outputs": [
    {
     "name": "stdout",
     "output_type": "stream",
     "text": [
      "0\n"
     ]
    },
    {
     "data": {
      "text/plain": "        Unnamed: 0      ID  VISIBILITY    RADIUS     QUALITY  POSITION_T  \\\n375311      422574  422574         1.0  1.462862  811.326660         0.0   \n375312      422575  422575         1.0  1.462862  805.188960         0.0   \n375313      422576  422582         1.0  1.462862  757.105800         0.0   \n375314      422577  422583         1.0  1.462862  757.056400         0.0   \n375315      422578  422580         1.0  1.462862  759.925230         0.0   \n...            ...     ...         ...       ...         ...         ...   \n377782      425524  425522         1.0  1.462862   50.353150         0.0   \n377783      425526  425520         1.0  1.462862   50.371950         0.0   \n377784      425535  425529         1.0  1.462862   50.230713         0.0   \n377785      425538  425540         1.0  1.462862   50.060013         0.0   \n377786      425542  425536         1.0  1.462862   50.126038         0.0   \n\n        POSITION_X  POSITION_Y  FRAME  POSITION_Z  track_id  position_cluster  \\\n375311       269.0       358.0  181.0        56.0       139                 0   \n375312       324.0       333.0  181.0       236.0       258                 0   \n375313       133.0       301.0  181.0        41.0       169                 0   \n375314       321.0       355.0  181.0       245.0       127                 0   \n375315        81.0       383.0  181.0        69.0       167                 0   \n...            ...         ...    ...         ...       ...               ...   \n377782       286.0       453.0  181.0       258.0      1518                 0   \n377783       255.0       318.0  181.0       273.0     24211                 0   \n377784       248.0       362.0  181.0        74.0      5324                 0   \n377785        77.0       137.0  181.0       142.0      8905                 0   \n377786       221.0       251.0  181.0        78.0     20860                 0   \n\n        distance_from_edge  tracklet_id  parent_id  daughter_id  new_label  \\\n375311           70.691565        20865     419959       425548         50   \n375312           12.329924        15467     419919       425705         12   \n375313          114.000000        20242     419925       425604         16   \n375314           18.905884        20341     419916       425590          9   \n375315           62.000000        20955     419949       425550         40   \n...                    ...          ...        ...          ...        ...   \n377782           59.761961        18176     422339       428464       2639   \n377783           77.892621        24721          0       428638       3232   \n377784           92.063433        23389     419756       428493       3223   \n377785           44.466842        24737          0       428654       3286   \n377786           94.871215        24739          0       428424       2894   \n\n        new_x  new_y  new_z  \n375311    269    358     57  \n375312    324    333    235  \n375313    134    301     41  \n375314    321    355    245  \n375315     81    382     69  \n...       ...    ...    ...  \n377782    287    452    257  \n377783    255    318    273  \n377784    249    362     74  \n377785     76    138    142  \n377786    221    251     79  \n\n[2449 rows x 20 columns]",
      "text/html": "<div>\n<style scoped>\n    .dataframe tbody tr th:only-of-type {\n        vertical-align: middle;\n    }\n\n    .dataframe tbody tr th {\n        vertical-align: top;\n    }\n\n    .dataframe thead th {\n        text-align: right;\n    }\n</style>\n<table border=\"1\" class=\"dataframe\">\n  <thead>\n    <tr style=\"text-align: right;\">\n      <th></th>\n      <th>Unnamed: 0</th>\n      <th>ID</th>\n      <th>VISIBILITY</th>\n      <th>RADIUS</th>\n      <th>QUALITY</th>\n      <th>POSITION_T</th>\n      <th>POSITION_X</th>\n      <th>POSITION_Y</th>\n      <th>FRAME</th>\n      <th>POSITION_Z</th>\n      <th>track_id</th>\n      <th>position_cluster</th>\n      <th>distance_from_edge</th>\n      <th>tracklet_id</th>\n      <th>parent_id</th>\n      <th>daughter_id</th>\n      <th>new_label</th>\n      <th>new_x</th>\n      <th>new_y</th>\n      <th>new_z</th>\n    </tr>\n  </thead>\n  <tbody>\n    <tr>\n      <th>375311</th>\n      <td>422574</td>\n      <td>422574</td>\n      <td>1.0</td>\n      <td>1.462862</td>\n      <td>811.326660</td>\n      <td>0.0</td>\n      <td>269.0</td>\n      <td>358.0</td>\n      <td>181.0</td>\n      <td>56.0</td>\n      <td>139</td>\n      <td>0</td>\n      <td>70.691565</td>\n      <td>20865</td>\n      <td>419959</td>\n      <td>425548</td>\n      <td>50</td>\n      <td>269</td>\n      <td>358</td>\n      <td>57</td>\n    </tr>\n    <tr>\n      <th>375312</th>\n      <td>422575</td>\n      <td>422575</td>\n      <td>1.0</td>\n      <td>1.462862</td>\n      <td>805.188960</td>\n      <td>0.0</td>\n      <td>324.0</td>\n      <td>333.0</td>\n      <td>181.0</td>\n      <td>236.0</td>\n      <td>258</td>\n      <td>0</td>\n      <td>12.329924</td>\n      <td>15467</td>\n      <td>419919</td>\n      <td>425705</td>\n      <td>12</td>\n      <td>324</td>\n      <td>333</td>\n      <td>235</td>\n    </tr>\n    <tr>\n      <th>375313</th>\n      <td>422576</td>\n      <td>422582</td>\n      <td>1.0</td>\n      <td>1.462862</td>\n      <td>757.105800</td>\n      <td>0.0</td>\n      <td>133.0</td>\n      <td>301.0</td>\n      <td>181.0</td>\n      <td>41.0</td>\n      <td>169</td>\n      <td>0</td>\n      <td>114.000000</td>\n      <td>20242</td>\n      <td>419925</td>\n      <td>425604</td>\n      <td>16</td>\n      <td>134</td>\n      <td>301</td>\n      <td>41</td>\n    </tr>\n    <tr>\n      <th>375314</th>\n      <td>422577</td>\n      <td>422583</td>\n      <td>1.0</td>\n      <td>1.462862</td>\n      <td>757.056400</td>\n      <td>0.0</td>\n      <td>321.0</td>\n      <td>355.0</td>\n      <td>181.0</td>\n      <td>245.0</td>\n      <td>127</td>\n      <td>0</td>\n      <td>18.905884</td>\n      <td>20341</td>\n      <td>419916</td>\n      <td>425590</td>\n      <td>9</td>\n      <td>321</td>\n      <td>355</td>\n      <td>245</td>\n    </tr>\n    <tr>\n      <th>375315</th>\n      <td>422578</td>\n      <td>422580</td>\n      <td>1.0</td>\n      <td>1.462862</td>\n      <td>759.925230</td>\n      <td>0.0</td>\n      <td>81.0</td>\n      <td>383.0</td>\n      <td>181.0</td>\n      <td>69.0</td>\n      <td>167</td>\n      <td>0</td>\n      <td>62.000000</td>\n      <td>20955</td>\n      <td>419949</td>\n      <td>425550</td>\n      <td>40</td>\n      <td>81</td>\n      <td>382</td>\n      <td>69</td>\n    </tr>\n    <tr>\n      <th>...</th>\n      <td>...</td>\n      <td>...</td>\n      <td>...</td>\n      <td>...</td>\n      <td>...</td>\n      <td>...</td>\n      <td>...</td>\n      <td>...</td>\n      <td>...</td>\n      <td>...</td>\n      <td>...</td>\n      <td>...</td>\n      <td>...</td>\n      <td>...</td>\n      <td>...</td>\n      <td>...</td>\n      <td>...</td>\n      <td>...</td>\n      <td>...</td>\n      <td>...</td>\n    </tr>\n    <tr>\n      <th>377782</th>\n      <td>425524</td>\n      <td>425522</td>\n      <td>1.0</td>\n      <td>1.462862</td>\n      <td>50.353150</td>\n      <td>0.0</td>\n      <td>286.0</td>\n      <td>453.0</td>\n      <td>181.0</td>\n      <td>258.0</td>\n      <td>1518</td>\n      <td>0</td>\n      <td>59.761961</td>\n      <td>18176</td>\n      <td>422339</td>\n      <td>428464</td>\n      <td>2639</td>\n      <td>287</td>\n      <td>452</td>\n      <td>257</td>\n    </tr>\n    <tr>\n      <th>377783</th>\n      <td>425526</td>\n      <td>425520</td>\n      <td>1.0</td>\n      <td>1.462862</td>\n      <td>50.371950</td>\n      <td>0.0</td>\n      <td>255.0</td>\n      <td>318.0</td>\n      <td>181.0</td>\n      <td>273.0</td>\n      <td>24211</td>\n      <td>0</td>\n      <td>77.892621</td>\n      <td>24721</td>\n      <td>0</td>\n      <td>428638</td>\n      <td>3232</td>\n      <td>255</td>\n      <td>318</td>\n      <td>273</td>\n    </tr>\n    <tr>\n      <th>377784</th>\n      <td>425535</td>\n      <td>425529</td>\n      <td>1.0</td>\n      <td>1.462862</td>\n      <td>50.230713</td>\n      <td>0.0</td>\n      <td>248.0</td>\n      <td>362.0</td>\n      <td>181.0</td>\n      <td>74.0</td>\n      <td>5324</td>\n      <td>0</td>\n      <td>92.063433</td>\n      <td>23389</td>\n      <td>419756</td>\n      <td>428493</td>\n      <td>3223</td>\n      <td>249</td>\n      <td>362</td>\n      <td>74</td>\n    </tr>\n    <tr>\n      <th>377785</th>\n      <td>425538</td>\n      <td>425540</td>\n      <td>1.0</td>\n      <td>1.462862</td>\n      <td>50.060013</td>\n      <td>0.0</td>\n      <td>77.0</td>\n      <td>137.0</td>\n      <td>181.0</td>\n      <td>142.0</td>\n      <td>8905</td>\n      <td>0</td>\n      <td>44.466842</td>\n      <td>24737</td>\n      <td>0</td>\n      <td>428654</td>\n      <td>3286</td>\n      <td>76</td>\n      <td>138</td>\n      <td>142</td>\n    </tr>\n    <tr>\n      <th>377786</th>\n      <td>425542</td>\n      <td>425536</td>\n      <td>1.0</td>\n      <td>1.462862</td>\n      <td>50.126038</td>\n      <td>0.0</td>\n      <td>221.0</td>\n      <td>251.0</td>\n      <td>181.0</td>\n      <td>78.0</td>\n      <td>20860</td>\n      <td>0</td>\n      <td>94.871215</td>\n      <td>24739</td>\n      <td>0</td>\n      <td>428424</td>\n      <td>2894</td>\n      <td>221</td>\n      <td>251</td>\n      <td>79</td>\n    </tr>\n  </tbody>\n</table>\n<p>2449 rows × 20 columns</p>\n</div>"
     },
     "execution_count": 68,
     "metadata": {},
     "output_type": "execute_result"
    }
   ],
   "source": [
    "print(sum(example_points[\"new_label\"] == 0))\n",
    "example_points"
   ],
   "metadata": {
    "collapsed": false,
    "ExecuteTime": {
     "end_time": "2024-12-11T20:18:29.798870Z",
     "start_time": "2024-12-11T20:18:29.623870Z"
    }
   },
   "id": "9d5fdcb368194bfd",
   "execution_count": 68
  },
  {
   "cell_type": "code",
   "outputs": [],
   "source": [
    "viewer = napari.Viewer()\n",
    "viewer.add_image(source1)\n",
    "viewer.add_image(img, name=\"peaks\")\n",
    "viewer.add_image(w, name=\"watershed\")\n",
    "viewer.add_points(X[:], size=5, face_color=\"white\", out_of_slice_display=True)\n",
    "viewer.add_points(X_new[:], size=5, face_color=\"red\", out_of_slice_display=True)\n",
    "napari.run()"
   ],
   "metadata": {
    "collapsed": false,
    "ExecuteTime": {
     "end_time": "2024-12-11T20:19:07.401871Z",
     "start_time": "2024-12-11T20:19:05.487872Z"
    }
   },
   "id": "4d7f41ebb462142e",
   "execution_count": 70
  }
 ],
 "metadata": {
  "kernelspec": {
   "display_name": "Python 3",
   "language": "python",
   "name": "python3"
  },
  "language_info": {
   "codemirror_mode": {
    "name": "ipython",
    "version": 2
   },
   "file_extension": ".py",
   "mimetype": "text/x-python",
   "name": "python",
   "nbconvert_exporter": "python",
   "pygments_lexer": "ipython2",
   "version": "2.7.6"
  }
 },
 "nbformat": 4,
 "nbformat_minor": 5
}
