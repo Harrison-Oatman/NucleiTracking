{
 "cells": [
  {
   "cell_type": "code",
   "execution_count": 1,
   "id": "initial_id",
   "metadata": {
    "collapsed": true,
    "ExecuteTime": {
     "end_time": "2024-12-20T05:09:17.263927Z",
     "start_time": "2024-12-20T05:09:17.167754Z"
    }
   },
   "outputs": [],
   "source": [
    "%load_ext autoreload\n",
    "%autoreload 2"
   ]
  },
  {
   "cell_type": "code",
   "outputs": [],
   "source": [
    "import pandas as pd\n",
    "import numpy as np\n",
    "from pathlib import Path\n",
    "import matplotlib.pyplot as plt\n",
    "import seaborn as sns\n",
    "from json import load\n",
    "import tifffile\n",
    "from tqdm import tqdm\n",
    "from skimage.draw import polygon\n",
    "from matplotlib import rcParams\n",
    "from glasbey import create_palette\n",
    "\n",
    "palette = {\n",
    "    \"green\": \"#558150\",\n",
    "    \"beige\": \"#F1E2C3\",\n",
    "    \"brown\": \"#A7785A\",\n",
    "    \"pink\": \"#F0D6C2\",\n",
    "    \"black\": \"#0E0E0E\",\n",
    "}\n",
    "\n",
    "rcParams['font.family'] = 'sans-serif'\n",
    "rcParams['figure.facecolor'] = \"#FFFFFF00\"\n",
    "rcParams['axes.facecolor'] = \"#FFFFFF00\"\n",
    "rcParams['legend.framealpha'] = 0.2\n",
    "rcParams['axes.edgecolor'] = palette[\"black\"]\n",
    "rcParams['axes.labelcolor'] = palette[\"black\"]\n",
    "rcParams['xtick.color'] = palette[\"black\"]\n",
    "rcParams['ytick.color'] = palette[\"black\"]\n",
    "rcParams['text.color'] = palette[\"black\"]\n",
    "rcParams['axes.titlecolor'] = palette[\"black\"]\n",
    "\n",
    "s_palette = sns.cubehelix_palette(as_cmap=True)\n",
    "pal = sns.color_palette(\"dark\")\n",
    "cpal = sns.cubehelix_palette(start=-0.25, rot=2, as_cmap=True)\n",
    "g_palette = create_palette(4000)"
   ],
   "metadata": {
    "collapsed": false,
    "ExecuteTime": {
     "end_time": "2024-12-20T05:09:23.094949Z",
     "start_time": "2024-12-20T05:09:17.264924Z"
    }
   },
   "id": "97d2e181b5f7c73f",
   "execution_count": 2
  },
  {
   "cell_type": "code",
   "outputs": [],
   "source": [
    "save_path = Path(r\"D:\\Tracking\\NucleiTracking\\data\\interim\\lightsheet\\2024_11_04\\recon2\\backtracking\")"
   ],
   "metadata": {
    "collapsed": false,
    "ExecuteTime": {
     "end_time": "2024-12-20T05:09:23.205475Z",
     "start_time": "2024-12-20T05:09:23.095946Z"
    }
   },
   "id": "55b6f9ae0dd799f9",
   "execution_count": 3
  },
  {
   "cell_type": "code",
   "outputs": [],
   "source": [
    "source_path = Path(r\"D:\\Tracking\\NucleiTracking\\data\\interim\\lightsheet\\2024_11_04\\recon2\\backtracking\")\n",
    "\n",
    "tracked = pd.read_csv(source_path / \"points.csv\")\n",
    "tracked[[\"frame\", \"framelabel\"]] = tracked[\"ID\"].str.split(\":\", expand=True)\n",
    "tracked[[\"parent_frame\", \"parent_framelabel\"]] = tracked[\"parent\"].str.split(\":\", expand=True)\n",
    "tracked[\"hasparent\"] = tracked[\"parent_framelabel\"] != \"00000\"\n",
    "tracked = tracked.set_index(\"ID\")\n",
    "tracked[\"ID\"] = tracked.index"
   ],
   "metadata": {
    "collapsed": false,
    "ExecuteTime": {
     "end_time": "2024-12-20T05:09:35.196034Z",
     "start_time": "2024-12-20T05:09:23.208999Z"
    }
   },
   "id": "11d767f59fc4c8f8",
   "execution_count": 4
  },
  {
   "cell_type": "code",
   "outputs": [
    {
     "data": {
      "text/plain": "           Unnamed: 0      z      y      x         val     parent  parent_z  \\\nID                                                                            \n000:00000           0    0.0    0.0    0.0    0.000000  000:00000       0.0   \n000:00001           1  283.0  162.0  224.0  136.768707  000:00000       0.0   \n000:00002           2   88.0  358.0   58.0  135.497040  000:00000       0.0   \n000:00003           3  115.0  194.0   64.0  133.141541  000:00000       0.0   \n000:00004           4  306.0  313.0  102.0  130.992294  000:00000       0.0   \n...               ...    ...    ...    ...         ...        ...       ...   \n277:09343        9343  307.0  525.0  226.0   20.020203  276:08954     308.0   \n277:09344        9344   82.0  120.0  245.0   20.017181  276:05231      87.0   \n277:09345        9345  303.0  510.0  158.0   20.010376  276:08603     304.0   \n277:09346        9346  111.0  415.0   77.0   20.006607  276:08453     110.0   \n277:09347        9347  274.0  513.0  265.0   20.002960  276:06260     269.0   \n\n           parent_y  parent_x frame framelabel parent_frame parent_framelabel  \\\nID                                                                              \n000:00000       0.0       0.0   000      00000          000             00000   \n000:00001       0.0       0.0   000      00001          000             00000   \n000:00002       0.0       0.0   000      00002          000             00000   \n000:00003       0.0       0.0   000      00003          000             00000   \n000:00004       0.0       0.0   000      00004          000             00000   \n...             ...       ...   ...        ...          ...               ...   \n277:09343     525.0     227.0   277      09343          276             08954   \n277:09344     122.0     236.0   277      09344          276             05231   \n277:09345     509.0     158.0   277      09345          276             08603   \n277:09346     416.0      76.0   277      09346          276             08453   \n277:09347     499.0     264.0   277      09347          276             06260   \n\n           hasparent         ID  \nID                               \n000:00000      False  000:00000  \n000:00001      False  000:00001  \n000:00002      False  000:00002  \n000:00003      False  000:00003  \n000:00004      False  000:00004  \n...              ...        ...  \n277:09343       True  277:09343  \n277:09344       True  277:09344  \n277:09345       True  277:09345  \n277:09346       True  277:09346  \n277:09347       True  277:09347  \n\n[2523360 rows x 15 columns]",
      "text/html": "<div>\n<style scoped>\n    .dataframe tbody tr th:only-of-type {\n        vertical-align: middle;\n    }\n\n    .dataframe tbody tr th {\n        vertical-align: top;\n    }\n\n    .dataframe thead th {\n        text-align: right;\n    }\n</style>\n<table border=\"1\" class=\"dataframe\">\n  <thead>\n    <tr style=\"text-align: right;\">\n      <th></th>\n      <th>Unnamed: 0</th>\n      <th>z</th>\n      <th>y</th>\n      <th>x</th>\n      <th>val</th>\n      <th>parent</th>\n      <th>parent_z</th>\n      <th>parent_y</th>\n      <th>parent_x</th>\n      <th>frame</th>\n      <th>framelabel</th>\n      <th>parent_frame</th>\n      <th>parent_framelabel</th>\n      <th>hasparent</th>\n      <th>ID</th>\n    </tr>\n    <tr>\n      <th>ID</th>\n      <th></th>\n      <th></th>\n      <th></th>\n      <th></th>\n      <th></th>\n      <th></th>\n      <th></th>\n      <th></th>\n      <th></th>\n      <th></th>\n      <th></th>\n      <th></th>\n      <th></th>\n      <th></th>\n      <th></th>\n    </tr>\n  </thead>\n  <tbody>\n    <tr>\n      <th>000:00000</th>\n      <td>0</td>\n      <td>0.0</td>\n      <td>0.0</td>\n      <td>0.0</td>\n      <td>0.000000</td>\n      <td>000:00000</td>\n      <td>0.0</td>\n      <td>0.0</td>\n      <td>0.0</td>\n      <td>000</td>\n      <td>00000</td>\n      <td>000</td>\n      <td>00000</td>\n      <td>False</td>\n      <td>000:00000</td>\n    </tr>\n    <tr>\n      <th>000:00001</th>\n      <td>1</td>\n      <td>283.0</td>\n      <td>162.0</td>\n      <td>224.0</td>\n      <td>136.768707</td>\n      <td>000:00000</td>\n      <td>0.0</td>\n      <td>0.0</td>\n      <td>0.0</td>\n      <td>000</td>\n      <td>00001</td>\n      <td>000</td>\n      <td>00000</td>\n      <td>False</td>\n      <td>000:00001</td>\n    </tr>\n    <tr>\n      <th>000:00002</th>\n      <td>2</td>\n      <td>88.0</td>\n      <td>358.0</td>\n      <td>58.0</td>\n      <td>135.497040</td>\n      <td>000:00000</td>\n      <td>0.0</td>\n      <td>0.0</td>\n      <td>0.0</td>\n      <td>000</td>\n      <td>00002</td>\n      <td>000</td>\n      <td>00000</td>\n      <td>False</td>\n      <td>000:00002</td>\n    </tr>\n    <tr>\n      <th>000:00003</th>\n      <td>3</td>\n      <td>115.0</td>\n      <td>194.0</td>\n      <td>64.0</td>\n      <td>133.141541</td>\n      <td>000:00000</td>\n      <td>0.0</td>\n      <td>0.0</td>\n      <td>0.0</td>\n      <td>000</td>\n      <td>00003</td>\n      <td>000</td>\n      <td>00000</td>\n      <td>False</td>\n      <td>000:00003</td>\n    </tr>\n    <tr>\n      <th>000:00004</th>\n      <td>4</td>\n      <td>306.0</td>\n      <td>313.0</td>\n      <td>102.0</td>\n      <td>130.992294</td>\n      <td>000:00000</td>\n      <td>0.0</td>\n      <td>0.0</td>\n      <td>0.0</td>\n      <td>000</td>\n      <td>00004</td>\n      <td>000</td>\n      <td>00000</td>\n      <td>False</td>\n      <td>000:00004</td>\n    </tr>\n    <tr>\n      <th>...</th>\n      <td>...</td>\n      <td>...</td>\n      <td>...</td>\n      <td>...</td>\n      <td>...</td>\n      <td>...</td>\n      <td>...</td>\n      <td>...</td>\n      <td>...</td>\n      <td>...</td>\n      <td>...</td>\n      <td>...</td>\n      <td>...</td>\n      <td>...</td>\n      <td>...</td>\n    </tr>\n    <tr>\n      <th>277:09343</th>\n      <td>9343</td>\n      <td>307.0</td>\n      <td>525.0</td>\n      <td>226.0</td>\n      <td>20.020203</td>\n      <td>276:08954</td>\n      <td>308.0</td>\n      <td>525.0</td>\n      <td>227.0</td>\n      <td>277</td>\n      <td>09343</td>\n      <td>276</td>\n      <td>08954</td>\n      <td>True</td>\n      <td>277:09343</td>\n    </tr>\n    <tr>\n      <th>277:09344</th>\n      <td>9344</td>\n      <td>82.0</td>\n      <td>120.0</td>\n      <td>245.0</td>\n      <td>20.017181</td>\n      <td>276:05231</td>\n      <td>87.0</td>\n      <td>122.0</td>\n      <td>236.0</td>\n      <td>277</td>\n      <td>09344</td>\n      <td>276</td>\n      <td>05231</td>\n      <td>True</td>\n      <td>277:09344</td>\n    </tr>\n    <tr>\n      <th>277:09345</th>\n      <td>9345</td>\n      <td>303.0</td>\n      <td>510.0</td>\n      <td>158.0</td>\n      <td>20.010376</td>\n      <td>276:08603</td>\n      <td>304.0</td>\n      <td>509.0</td>\n      <td>158.0</td>\n      <td>277</td>\n      <td>09345</td>\n      <td>276</td>\n      <td>08603</td>\n      <td>True</td>\n      <td>277:09345</td>\n    </tr>\n    <tr>\n      <th>277:09346</th>\n      <td>9346</td>\n      <td>111.0</td>\n      <td>415.0</td>\n      <td>77.0</td>\n      <td>20.006607</td>\n      <td>276:08453</td>\n      <td>110.0</td>\n      <td>416.0</td>\n      <td>76.0</td>\n      <td>277</td>\n      <td>09346</td>\n      <td>276</td>\n      <td>08453</td>\n      <td>True</td>\n      <td>277:09346</td>\n    </tr>\n    <tr>\n      <th>277:09347</th>\n      <td>9347</td>\n      <td>274.0</td>\n      <td>513.0</td>\n      <td>265.0</td>\n      <td>20.002960</td>\n      <td>276:06260</td>\n      <td>269.0</td>\n      <td>499.0</td>\n      <td>264.0</td>\n      <td>277</td>\n      <td>09347</td>\n      <td>276</td>\n      <td>06260</td>\n      <td>True</td>\n      <td>277:09347</td>\n    </tr>\n  </tbody>\n</table>\n<p>2523360 rows × 15 columns</p>\n</div>"
     },
     "execution_count": 5,
     "metadata": {},
     "output_type": "execute_result"
    }
   ],
   "source": [
    "tracked"
   ],
   "metadata": {
    "collapsed": false,
    "ExecuteTime": {
     "end_time": "2024-12-20T05:09:35.311083Z",
     "start_time": "2024-12-20T05:09:35.197010Z"
    }
   },
   "id": "34eb2400744d9784",
   "execution_count": 5
  },
  {
   "cell_type": "code",
   "outputs": [],
   "source": [
    "import networkx as nx\n",
    "\n",
    "G = nx.DiGraph()\n",
    "G.add_nodes_from(tracked[\"ID\"].values)\n",
    "G.add_edges_from(tracked[tracked[\"hasparent\"]][[\"ID\", \"parent\"]].values)"
   ],
   "metadata": {
    "collapsed": false,
    "ExecuteTime": {
     "end_time": "2024-12-20T05:09:55.390858Z",
     "start_time": "2024-12-20T05:09:35.312092Z"
    }
   },
   "id": "fcf47f39d12ccbe0",
   "execution_count": 6
  },
  {
   "cell_type": "code",
   "outputs": [
    {
     "name": "stderr",
     "output_type": "stream",
     "text": [
      "15172it [02:30, 100.66it/s]  \n"
     ]
    }
   ],
   "source": [
    "tracked[\"track_id\"] = 0\n",
    "\n",
    "for i, cc in tqdm(enumerate(sorted(nx.connected_components(G.to_undirected()), key=len, reverse=True), start=1)):\n",
    "    for c in cc:\n",
    "        tracked.loc[c, \"track_id\"] = i"
   ],
   "metadata": {
    "collapsed": false,
    "ExecuteTime": {
     "end_time": "2024-12-20T05:15:35.603099Z",
     "start_time": "2024-12-20T05:12:22.159052Z"
    }
   },
   "id": "9d8f9c0314b76639",
   "execution_count": 8
  },
  {
   "cell_type": "code",
   "outputs": [
    {
     "name": "stdout",
     "output_type": "stream",
     "text": [
      "ID\n",
      "16    23\n",
      "32    15\n",
      "31    12\n",
      "29    11\n",
      "30    10\n",
      "14     8\n",
      "34     7\n",
      "1      6\n",
      "4      6\n",
      "24     5\n",
      "2      5\n",
      "15     5\n",
      "28     5\n",
      "27     5\n",
      "33     5\n",
      "64     4\n",
      "20     4\n",
      "47     4\n",
      "17     3\n",
      "22     3\n",
      "48     3\n",
      "40     2\n",
      "26     2\n",
      "36     2\n",
      "37     2\n",
      "46     2\n",
      "49     2\n",
      "8      2\n",
      "11     2\n",
      "43     2\n",
      "25     2\n",
      "65     2\n",
      "18     2\n",
      "9      1\n",
      "13     1\n",
      "10     1\n",
      "66     1\n",
      "38     1\n",
      "35     1\n",
      "45     1\n",
      "23     1\n",
      "62     1\n",
      "42     1\n",
      "19     1\n",
      "51     1\n",
      "55     1\n",
      "68     1\n",
      "58     1\n",
      "56     1\n",
      "59     1\n",
      "60     1\n",
      "5      1\n",
      "Name: count, dtype: int64\n"
     ]
    },
    {
     "name": "stderr",
     "output_type": "stream",
     "text": [
      "100%|██████████| 5231/5231 [00:05<00:00, 882.42it/s] \n"
     ]
    }
   ],
   "source": [
    "tracked['frame'] = tracked['frame'].astype(int)\n",
    "last_frame = tracked[\"frame\"].max()\n",
    "last_frame_pts = tracked[tracked[\"frame\"] == last_frame]\n",
    "final_pts = last_frame_pts[last_frame_pts[\"val\"] > 77]\n",
    "\n",
    "print(final_pts.groupby(\"track_id\")[\"ID\"].count().value_counts())\n",
    "\n",
    "tracked[\"is_downstream\"] = False\n",
    "\n",
    "for pt_id in tqdm(final_pts[\"ID\"]):\n",
    "    downstream_points = list(nx.descendants(G, pt_id))\n",
    "    tracked.loc[downstream_points, \"is_downstream\"] = True\n"
   ],
   "metadata": {
    "collapsed": false,
    "ExecuteTime": {
     "end_time": "2024-12-20T05:15:41.853784Z",
     "start_time": "2024-12-20T05:15:35.604108Z"
    }
   },
   "id": "1eeb3ada9e927b54",
   "execution_count": 9
  },
  {
   "cell_type": "code",
   "outputs": [
    {
     "name": "stdout",
     "output_type": "stream",
     "text": [
      "['014:10459']\n",
      "drawing\n"
     ]
    },
    {
     "data": {
      "text/plain": "<Figure size 640x480 with 1 Axes>",
      "image/png": "[encoded data removed]"
     },
     "metadata": {},
     "output_type": "display_data"
    }
   ],
   "source": [
    "def plot_lineage(tracked, track_id):\n",
    "    track = tracked[tracked[\"track_id\"] == track_id]\n",
    "    track = track[track[\"is_downstream\"]]\n",
    "    \n",
    "    g = nx.subgraph(G, track[\"ID\"].values)\n",
    "    last_node = [n for n in g if g.out_degree(n) == 0]\n",
    "    print(last_node)\n",
    "    last_node = last_node[0]\n",
    "    \n",
    "    dfs_postorder = list(nx.dfs_postorder_nodes(g.reverse(), last_node))\n",
    "    dfs_order_map = {n: i for i, n in enumerate(dfs_postorder)}\n",
    "    \n",
    "    # base nodes\n",
    "    base_nodes = [n for n in g if g.in_degree(n) == 0]\n",
    "    nx.set_node_attributes(g, 0, \"x\")\n",
    "    frames = track.loc[list(g.nodes), \"frame\"]\n",
    "    nx.set_node_attributes(g, {n: f for n, f in zip(g.nodes, -frames)}, \"y\")\n",
    "    \n",
    "    for i, n in enumerate(sorted(base_nodes, key=lambda x: dfs_order_map[x]), 1):\n",
    "        g.nodes[n][\"x\"] = i\n",
    "        \n",
    "    for n in sorted(g, key=lambda x: g.nodes[x][\"y\"]):\n",
    "        if n in base_nodes:\n",
    "            continue\n",
    "        g.nodes[n][\"x\"] = np.mean([g.nodes[p][\"x\"] for p in g.predecessors(n)])\n",
    "    \n",
    "    pos = {n: (g.nodes[n][\"x\"], g.nodes[n][\"y\"]) for n in g}\n",
    "    print(\"drawing\")\n",
    "    nx.draw(g, pos, with_labels=False, node_size=2, node_color=g_palette[track_id], arrows=False)\n",
    "    plt.show()\n",
    "\n",
    "plot_lineage(tracked, 2)"
   ],
   "metadata": {
    "collapsed": false,
    "ExecuteTime": {
     "end_time": "2024-12-20T05:15:42.439196Z",
     "start_time": "2024-12-20T05:15:41.854793Z"
    }
   },
   "id": "3761148d4ccee0d2",
   "execution_count": 10
  },
  {
   "cell_type": "code",
   "outputs": [],
   "source": [
    "G"
   ],
   "metadata": {
    "collapsed": false,
    "ExecuteTime": {
     "start_time": "2024-12-20T05:09:56.284099Z"
    }
   },
   "id": "ebf0857a3edc8c9d",
   "execution_count": null
  },
  {
   "cell_type": "code",
   "outputs": [],
   "source": [
    "import plotly.express as px\n",
    "\n",
    "spots_df = tracked.copy()\n",
    "\n",
    "spots_df[\"reflection_z\"] = 2.1*spots_df[\"z\"].max() - spots_df[\"z\"]\n",
    "spots_df[\"reflection_x\"] = spots_df[\"x\"].max() - spots_df[\"x\"]\n",
    "\n",
    "spots_df[\"is_reflected\"] = spots_df[\"x\"] > spots_df[\"x\"].max() / 2\n",
    "\n",
    "spots_df[\"display_x\"] = spots_df[\"reflection_x\"]*spots_df[\"is_reflected\"] + spots_df[\"x\"]*(~spots_df[\"is_reflected\"])\n",
    "spots_df[\"display_z\"] = spots_df[\"reflection_z\"]*spots_df[\"is_reflected\"] + spots_df[\"z\"]*(~spots_df[\"is_reflected\"])\n",
    "\n",
    "n_tracks = 250\n",
    "best_spots = spots_df[spots_df[\"is_downstream\"]]\n",
    "# n_tracklets = best_spots[\"track_id\"].map(best_spots.groupby(\"track_id\")[\"tracklet_id\"].nunique())\n",
    "# best_spots = best_spots[n_tracklets > 1]\n",
    "# best_spots = best_spots[best_spots[\"track_id\"] == 2]\n",
    "# best_spots = best_spots[best_spots[\"x\"] < 180]\n",
    "# best_spots = best_spots[best_spots[\"y\"] < 100]\n",
    "fig = px.scatter_3d(best_spots, x='display_x', y='y', z='display_z', color='track_id', animation_frame=\"frame\", color_continuous_scale=g_palette, range_color=[0, n_tracks])\n",
    "\n",
    "fig.update_layout(scene=dict(aspectmode='data'))\n",
    "fig.update_layout(transition={'duration': 100})\n",
    "fig.update_traces(marker=dict(size=10, colorscale=g_palette), \n",
    "                  line=dict(width=50, color='DarkSlateGrey'),\n",
    "                  )\n",
    "fig.write_html(save_path / \"track_allspots.html\")"
   ],
   "metadata": {
    "collapsed": false
   },
   "id": "fe10d2106d1258ff",
   "execution_count": null
  },
  {
   "cell_type": "code",
   "outputs": [],
   "source": [
    "source_path = Path(r\"D:\\Tracking\\NucleiTracking\\data\\interim\\lightsheet\\2024_11_04\\recon2\\backtracking\")\n",
    "source1 = tifffile.imread(source_path / \"recon_fused_tp_180_ch_0.tif\")\n",
    "source2 = tifffile.imread(source_path / \"recon_fused_tp_181_ch_0.tif\")"
   ],
   "metadata": {
    "collapsed": false
   },
   "id": "e59515ca414f089e",
   "execution_count": null
  },
  {
   "cell_type": "code",
   "outputs": [],
   "source": [
    "print(source1.shape)"
   ],
   "metadata": {
    "collapsed": false,
    "ExecuteTime": {
     "start_time": "2024-12-20T05:09:56.287099Z"
    }
   },
   "id": "688018fb30f44084",
   "execution_count": null
  },
  {
   "cell_type": "code",
   "outputs": [],
   "source": [
    "from skimage.filters import difference_of_gaussians\n",
    "\n",
    "dog1 = difference_of_gaussians(source1, 2, 6)"
   ],
   "metadata": {
    "collapsed": false,
    "ExecuteTime": {
     "start_time": "2024-12-20T05:09:56.288099Z"
    }
   },
   "id": "e4e8266f6bfad9be",
   "execution_count": null
  },
  {
   "cell_type": "code",
   "outputs": [],
   "source": [
    "spots_df = pd.read_csv(r\"D:\\Tracking\\NucleiTracking\\data\\interim\\lightsheet\\2024_11_04\\recon2\\dis3\\out\\tracked_spots.csv\")\n",
    "example_points = spots_df[spots_df[\"FRAME\"] == 181]\n",
    "example_points = example_points[example_points[\"track_id\"] != 0]\n",
    "X = example_points[[\"POSITION_X\", \"POSITION_Y\", \"POSITION_Z\"]].values"
   ],
   "metadata": {
    "collapsed": false,
    "ExecuteTime": {
     "start_time": "2024-12-20T05:09:56.289099Z"
    }
   },
   "id": "2e02d96111b78669",
   "execution_count": null
  },
  {
   "cell_type": "code",
   "outputs": [],
   "source": [
    "import napari\n",
    "from scipy.ndimage import sobel\n",
    "\n",
    "viewer = napari.Viewer()\n",
    "\n",
    "s = np.zeros_like(source1)\n",
    "\n",
    "for axis in range(3):\n",
    "    s += sobel(-dog1, axis=axis)**2\n",
    "viewer.add_image(np.sqrt(s), name=\"source1_sobel\", colormap=\"magenta\")\n",
    "viewer.add_image(source1, name=\"source1\", colormap=\"green\")\n",
    "napari.run()"
   ],
   "metadata": {
    "collapsed": false,
    "ExecuteTime": {
     "start_time": "2024-12-20T05:09:56.290100Z"
    }
   },
   "id": "a116806386b0de41",
   "execution_count": null
  },
  {
   "cell_type": "code",
   "outputs": [],
   "source": [
    "from skimage.feature import peak_local_max\n",
    "from scipy.ndimage import distance_transform_edt\n",
    "from skimage import segmentation\n",
    "\n",
    "peaks = peak_local_max(dog1, min_distance=2, threshold_abs=20)\n",
    "img = np.zeros(source1.shape)\n",
    "img[peaks[:, 0], peaks[:, 1], peaks[:, 2]] = np.arange(1, len(peaks) + 1)\n",
    "dist = distance_transform_edt(img == 0)\n",
    "w = segmentation.watershed(-dog1, img.astype(int), mask=dist < 18)"
   ],
   "metadata": {
    "collapsed": false,
    "ExecuteTime": {
     "start_time": "2024-12-20T05:09:56.291098Z"
    }
   },
   "id": "b7ed901f7d6fdfb2",
   "execution_count": null
  },
  {
   "cell_type": "code",
   "outputs": [],
   "source": [
    "np.array(list(peaks_map.values()))"
   ],
   "metadata": {
    "collapsed": false,
    "ExecuteTime": {
     "start_time": "2024-12-20T05:09:56.292100Z"
    }
   },
   "id": "71a63df5c624e10d",
   "execution_count": null
  },
  {
   "cell_type": "code",
   "outputs": [],
   "source": [
    "peaks_map = {i + 1: p for i, p in enumerate(peaks)}\n",
    "peaks_map[0] = (0, 0, 0)\n",
    "example_points[\"new_label\"] = [w[tuple(p.astype(int))] for p in X]\n",
    "example_points[\"new_x\"] = example_points[\"new_label\"].map(lambda x: peaks_map[x][0])\n",
    "example_points[\"new_y\"] = example_points[\"new_label\"].map(lambda x: peaks_map[x][1])\n",
    "example_points[\"new_z\"] = example_points[\"new_label\"].map(lambda x: peaks_map[x][2])\n",
    "X_new = example_points[[\"new_x\", \"new_y\", \"new_z\"]].values"
   ],
   "metadata": {
    "collapsed": false,
    "ExecuteTime": {
     "start_time": "2024-12-20T05:09:56.293100Z"
    }
   },
   "id": "1b9e52602973bf3d",
   "execution_count": null
  },
  {
   "cell_type": "code",
   "outputs": [],
   "source": [
    "print(np.max(X, axis=0))"
   ],
   "metadata": {
    "collapsed": false,
    "ExecuteTime": {
     "start_time": "2024-12-20T05:09:56.294102Z"
    }
   },
   "id": "228d51ed8a9dcaa9",
   "execution_count": null
  },
  {
   "cell_type": "code",
   "outputs": [],
   "source": [
    "print(peaks_map[150])\n",
    "print(np.argwhere(img == 150))"
   ],
   "metadata": {
    "collapsed": false,
    "ExecuteTime": {
     "start_time": "2024-12-20T05:09:56.295099Z"
    }
   },
   "id": "ebf5add0af7f064a",
   "execution_count": null
  },
  {
   "cell_type": "code",
   "outputs": [],
   "source": [
    "print(sum(example_points[\"new_label\"] == 0))\n",
    "example_points"
   ],
   "metadata": {
    "collapsed": false
   },
   "id": "9d5fdcb368194bfd",
   "execution_count": null
  },
  {
   "cell_type": "code",
   "outputs": [],
   "source": [
    "viewer = napari.Viewer()\n",
    "viewer.add_image(source1)\n",
    "viewer.add_image(img, name=\"peaks\")\n",
    "viewer.add_image(w, name=\"watershed\")\n",
    "viewer.add_points(X[:], size=5, face_color=\"white\", out_of_slice_display=True)\n",
    "viewer.add_points(X_new[:], size=5, face_color=\"red\", out_of_slice_display=True)\n",
    "napari.run()"
   ],
   "metadata": {
    "collapsed": false
   },
   "id": "4d7f41ebb462142e",
   "execution_count": null
  }
 ],
 "metadata": {
  "kernelspec": {
   "display_name": "Python 3",
   "language": "python",
   "name": "python3"
  },
  "language_info": {
   "codemirror_mode": {
    "name": "ipython",
    "version": 2
   },
   "file_extension": ".py",
   "mimetype": "text/x-python",
   "name": "python",
   "nbconvert_exporter": "python",
   "pygments_lexer": "ipython2",
   "version": "2.7.6"
  }
 },
 "nbformat": 4,
 "nbformat_minor": 5
}
