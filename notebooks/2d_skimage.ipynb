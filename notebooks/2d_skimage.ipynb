{
 "cells": [
  {
   "cell_type": "code",
   "execution_count": 4,
   "id": "initial_id",
   "metadata": {
    "collapsed": true,
    "ExecuteTime": {
     "end_time": "2024-12-06T20:40:18.367772Z",
     "start_time": "2024-12-06T20:40:18.280845Z"
    }
   },
   "outputs": [],
   "source": [
    "%load_ext autoreload\n",
    "%autoreload 2"
   ]
  },
  {
   "cell_type": "code",
   "outputs": [],
   "source": [
    "import pandas as pd\n",
    "import numpy as np\n",
    "from pathlib import Path\n",
    "import matplotlib.pyplot as plt\n",
    "import seaborn as sns\n",
    "from json import load\n",
    "import tifffile\n",
    "from tqdm import tqdm\n",
    "from skimage.draw import polygon\n",
    "from matplotlib import rcParams\n",
    "from glasbey import create_palette\n",
    "\n",
    "palette = {\n",
    "    \"green\": \"#558150\",\n",
    "    \"beige\": \"#F1E2C3\",\n",
    "    \"brown\": \"#A7785A\",\n",
    "    \"pink\": \"#F0D6C2\",\n",
    "    \"black\": \"#0E0E0E\",\n",
    "}\n",
    "\n",
    "rcParams['font.family'] = 'sans-serif'\n",
    "rcParams['figure.facecolor'] = \"#FFFFFF00\"\n",
    "rcParams['axes.facecolor'] = \"#FFFFFF00\"\n",
    "rcParams['legend.framealpha'] = 0.2\n",
    "rcParams['axes.edgecolor'] = palette[\"black\"]\n",
    "rcParams['axes.labelcolor'] = palette[\"black\"]\n",
    "rcParams['xtick.color'] = palette[\"black\"]\n",
    "rcParams['ytick.color'] = palette[\"black\"]\n",
    "rcParams['text.color'] = palette[\"black\"]\n",
    "rcParams['axes.titlecolor'] = palette[\"black\"]\n",
    "\n",
    "s_palette = sns.cubehelix_palette(as_cmap=True)\n",
    "pal = sns.color_palette(\"dark\")\n",
    "cpal = sns.cubehelix_palette(start=-0.25, rot=2, as_cmap=True)\n",
    "g_palette = create_palette(1024)"
   ],
   "metadata": {
    "collapsed": false,
    "ExecuteTime": {
     "end_time": "2024-12-06T20:40:11.408816Z",
     "start_time": "2024-12-06T20:40:06.675033Z"
    }
   },
   "id": "5ecb398e08032768",
   "execution_count": 2
  },
  {
   "cell_type": "code",
   "outputs": [],
   "source": [
    "volume = tifffile.imread(r\"D:\\Tracking\\NucleiTracking\\data\\interim\\lightsheet\\2024_11_04\\recon2\\recon_fused_tp_181_ch_0.tif\")\n",
    "save_path = Path(r\"D:\\Tracking\\NucleiTracking\\data\\interim\\lightsheet\\2024_11_04\\recon2\")"
   ],
   "metadata": {
    "collapsed": false,
    "ExecuteTime": {
     "end_time": "2024-12-06T20:40:11.652581Z",
     "start_time": "2024-12-06T20:40:11.409688Z"
    }
   },
   "id": "d2b1e456970f0c48",
   "execution_count": 3
  },
  {
   "cell_type": "code",
   "outputs": [
    {
     "name": "stdout",
     "output_type": "stream",
     "text": [
      "(365, 891, 354)\n"
     ]
    }
   ],
   "source": [
    "from skimage import segmentation\n",
    "\n",
    "print(volume.shape)\n",
    "\n",
    "seg = segmentation.slic(volume, n_segments=4000, compactness=0.01, channel_axis=None)"
   ],
   "metadata": {
    "collapsed": false,
    "ExecuteTime": {
     "end_time": "2024-12-06T21:01:00.345032Z",
     "start_time": "2024-12-06T20:56:44.770862Z"
    }
   },
   "id": "9ef89963955e69c7",
   "execution_count": 14
  },
  {
   "cell_type": "code",
   "outputs": [
    {
     "data": {
      "text/plain": "(365, 891, 354)"
     },
     "execution_count": 11,
     "metadata": {},
     "output_type": "execute_result"
    }
   ],
   "source": [
    "seg.shape"
   ],
   "metadata": {
    "collapsed": false,
    "ExecuteTime": {
     "end_time": "2024-12-06T20:50:21.547682Z",
     "start_time": "2024-12-06T20:50:21.466888Z"
    }
   },
   "id": "723ac0f908be7b21",
   "execution_count": 11
  },
  {
   "cell_type": "code",
   "outputs": [],
   "source": [
    "tifffile.imwrite(save_path / \"seg.tif\", seg.astype(np.uint16))"
   ],
   "metadata": {
    "collapsed": false,
    "ExecuteTime": {
     "end_time": "2024-12-06T22:48:25.121182Z",
     "start_time": "2024-12-06T22:48:24.698561Z"
    }
   },
   "id": "8d41cd2a118c7cf1",
   "execution_count": 15
  },
  {
   "cell_type": "code",
   "outputs": [
    {
     "name": "stdout",
     "output_type": "stream",
     "text": [
      "201.45969 -43.469284 0.019059304\n"
     ]
    },
    {
     "data": {
      "text/plain": "<Figure size 640x480 with 1 Axes>",
      "image/png": "[encoded data removed]"
     },
     "metadata": {
      "needs_background": "light"
     },
     "output_type": "display_data"
    },
    {
     "data": {
      "text/plain": "<Image layer 'volume' at 0x1e90ffa0450>"
     },
     "execution_count": 17,
     "metadata": {},
     "output_type": "execute_result"
    }
   ],
   "source": [
    "from skimage.filters import difference_of_gaussians\n",
    "from skimage.feature import peak_local_max\n",
    "import napari\n",
    "\n",
    "v = difference_of_gaussians(volume, 4, 6)\n",
    "tifffile.imwrite(save_path / \"dog.tif\", v)\n",
    "print(v.max(), v.min(), v.mean())\n",
    "pts = peak_local_max(v, min_distance=4, threshold_abs=25)\n",
    "vals = v[pts[:, 0], pts[:, 1], pts[:, 2]]\n",
    "plt.plot(sorted(vals))\n",
    "plt.show()\n",
    "viewer = napari.view_image(v)\n",
    "viewer.add_points(pts, text=[str(l) for l in vals], size=10)\n",
    "viewer.add_image(volume)"
   ],
   "metadata": {
    "collapsed": false,
    "ExecuteTime": {
     "end_time": "2024-12-07T05:18:27.113350Z",
     "start_time": "2024-12-07T05:18:14.585660Z"
    }
   },
   "id": "1aabce8410616637",
   "execution_count": 17
  },
  {
   "cell_type": "code",
   "outputs": [],
   "source": [],
   "metadata": {
    "collapsed": false
   },
   "id": "d8a0224923734876"
  }
 ],
 "metadata": {
  "kernelspec": {
   "display_name": "Python 3",
   "language": "python",
   "name": "python3"
  },
  "language_info": {
   "codemirror_mode": {
    "name": "ipython",
    "version": 2
   },
   "file_extension": ".py",
   "mimetype": "text/x-python",
   "name": "python",
   "nbconvert_exporter": "python",
   "pygments_lexer": "ipython2",
   "version": "2.7.6"
  }
 },
 "nbformat": 4,
 "nbformat_minor": 5
}
