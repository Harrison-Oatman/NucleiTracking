{
 "cells": [
  {
   "cell_type": "code",
   "execution_count": 1,
   "id": "initial_id",
   "metadata": {
    "collapsed": true,
    "ExecuteTime": {
     "end_time": "2025-03-28T20:30:32.971123Z",
     "start_time": "2025-03-28T20:30:26.461952Z"
    }
   },
   "outputs": [],
   "source": [
    "%load_ext autoreload\n",
    "%autoreload 2\n",
    "import pandas as pd\n",
    "import numpy as np\n",
    "from pathlib import Path\n",
    "import matplotlib.pyplot as plt\n",
    "import seaborn as sns\n",
    "from json import load\n",
    "import tifffile\n",
    "from tqdm import tqdm\n",
    "from skimage.draw import polygon\n",
    "from matplotlib import rcParams\n",
    "from glasbey import create_palette\n",
    "\n",
    "palette = {\n",
    "    \"green\": \"#558150\",\n",
    "    \"beige\": \"#F1E2C3\",\n",
    "    \"brown\": \"#A7785A\",\n",
    "    \"pink\": \"#F0D6C2\",\n",
    "    \"black\": \"#0E0E0E\",\n",
    "}\n",
    "\n",
    "rcParams['font.family'] = 'sans-serif'\n",
    "rcParams['figure.facecolor'] = \"#FFFFFF00\"\n",
    "rcParams['axes.facecolor'] = \"#FFFFFF00\"\n",
    "rcParams['legend.framealpha'] = 0.2\n",
    "rcParams['axes.edgecolor'] = palette[\"black\"]\n",
    "rcParams['axes.labelcolor'] = palette[\"black\"]\n",
    "rcParams['xtick.color'] = palette[\"black\"]\n",
    "rcParams['ytick.color'] = palette[\"black\"]\n",
    "rcParams['text.color'] = palette[\"black\"]\n",
    "rcParams['axes.titlecolor'] = palette[\"black\"]"
   ]
  },
  {
   "cell_type": "code",
   "outputs": [],
   "source": [
    "base = Path(r\"D:\\Tracking\\NucleiTracking\\data\\interim\\lightsheet\\2025_03_18_trk\\uv_unwrap\")\n",
    "# raw = tifffile.imread(list(base_path.glob(\"*.tif\"))[1])"
   ],
   "metadata": {
    "collapsed": false,
    "ExecuteTime": {
     "end_time": "2025-03-28T20:34:11.870384Z",
     "start_time": "2025-03-28T20:34:11.781239Z"
    }
   },
   "id": "a37784e068acb367",
   "execution_count": 3
  },
  {
   "cell_type": "code",
   "outputs": [
    {
     "name": "stderr",
     "output_type": "stream",
     "text": [
      "71it [00:10,  7.06it/s]\n"
     ]
    }
   ],
   "source": [
    "from skimage.measure import regionprops\n",
    "from scipy.spatial.distance import cdist\n",
    "import napari\n",
    "\n",
    "locs = tifffile.imread(base / f\"all_locs.tif\")\n",
    "masks = tifffile.imread(base / f\"all_vals2_substack_cp_masks.tif\")\n",
    "vals = tifffile.imread(base / f\"all_vals2_substack.tif\")\n",
    "\n",
    "centroids = []\n",
    "\n",
    "for t, (maskslice, locslice) in tqdm(enumerate(zip(masks, locs))): \n",
    "\n",
    "    frame_centroids = []\n",
    "    \n",
    "    props = regionprops(maskslice, locslice)\n",
    "    \n",
    "    for prop in props:\n",
    "        ct = [prop.centroid[0], prop.centroid[1]]\n",
    "        round_ct = [int(np.round(c)) for c in prop.centroid_local]\n",
    "        \n",
    "        ct = np.median(np.median(prop.image_intensity[round_ct[0] - 1:round_ct[0] + 2, round_ct[1] - 1:round_ct[1] + 2], axis=0), axis=0)\n",
    "        \n",
    "        frame_centroids.append([t, *ct])\n",
    "                \n",
    "    \n",
    "    centroids.extend(frame_centroids)\n",
    "                \n",
    "centroids = np.array(centroids)\n",
    "\n",
    "viewer = napari.Viewer()\n",
    "pts = viewer.add_points(centroids, shading=\"spherical\")\n",
    "\n",
    "napari.run()"
   ],
   "metadata": {
    "collapsed": false,
    "ExecuteTime": {
     "end_time": "2025-03-28T20:38:50.897228Z",
     "start_time": "2025-03-28T20:38:38.619031Z"
    }
   },
   "id": "39fefb82056ab55b",
   "execution_count": 14
  },
  {
   "cell_type": "code",
   "outputs": [],
   "source": [
    "import pandas as pd\n",
    "cdf = {\"frame\": centroids[:, 0], \"z\": centroids[:, 1], \"y\": centroids[:, 2], \"x\": centroids[:, 3]}\n",
    "df = pd.DataFrame(cdf)\n",
    "df[\"frame\"] = np.array(centroids[:, 0], dtype=int)\n",
    "df.to_csv(base / \"spots.csv\")"
   ],
   "metadata": {
    "collapsed": false,
    "ExecuteTime": {
     "end_time": "2025-03-28T20:41:07.346991Z",
     "start_time": "2025-03-28T20:41:07.100189Z"
    }
   },
   "id": "543dc6d8d29e5190",
   "execution_count": 15
  }
 ],
 "metadata": {
  "kernelspec": {
   "display_name": "Python 3",
   "language": "python",
   "name": "python3"
  },
  "language_info": {
   "codemirror_mode": {
    "name": "ipython",
    "version": 2
   },
   "file_extension": ".py",
   "mimetype": "text/x-python",
   "name": "python",
   "nbconvert_exporter": "python",
   "pygments_lexer": "ipython2",
   "version": "2.7.6"
  }
 },
 "nbformat": 4,
 "nbformat_minor": 5
}
