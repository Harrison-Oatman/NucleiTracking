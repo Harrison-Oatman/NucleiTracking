{
 "cells": [
  {
   "cell_type": "code",
   "execution_count": 14,
   "id": "initial_id",
   "metadata": {
    "collapsed": true,
    "ExecuteTime": {
     "end_time": "2025-04-01T20:31:34.277499Z",
     "start_time": "2025-04-01T20:31:33.348577Z"
    }
   },
   "outputs": [
    {
     "name": "stdout",
     "output_type": "stream",
     "text": [
      "The autoreload extension is already loaded. To reload it, use:\n",
      "  %reload_ext autoreload\n"
     ]
    }
   ],
   "source": [
    "%load_ext autoreload\n",
    "%autoreload 2\n",
    "import pandas as pd\n",
    "import numpy as np\n",
    "from pathlib import Path\n",
    "import matplotlib.pyplot as plt\n",
    "import seaborn as sns\n",
    "from json import load\n",
    "import tifffile\n",
    "from tqdm import tqdm\n",
    "from skimage.draw import polygon\n",
    "from matplotlib import rcParams\n",
    "from glasbey import create_palette\n",
    "\n",
    "palette = {\n",
    "    \"green\": \"#558150\",\n",
    "    \"beige\": \"#F1E2C3\",\n",
    "    \"brown\": \"#A7785A\",\n",
    "    \"pink\": \"#F0D6C2\",\n",
    "    \"black\": \"#0E0E0E\",\n",
    "}\n",
    "\n",
    "rcParams['font.family'] = 'sans-serif'\n",
    "rcParams['figure.facecolor'] = \"#FFFFFF00\"\n",
    "rcParams['axes.facecolor'] = \"#FFFFFF00\"\n",
    "rcParams['legend.framealpha'] = 0.2\n",
    "rcParams['axes.edgecolor'] = palette[\"black\"]\n",
    "rcParams['axes.labelcolor'] = palette[\"black\"]\n",
    "rcParams['xtick.color'] = palette[\"black\"]\n",
    "rcParams['ytick.color'] = palette[\"black\"]\n",
    "rcParams['text.color'] = palette[\"black\"]\n",
    "rcParams['axes.titlecolor'] = palette[\"black\"]"
   ]
  },
  {
   "cell_type": "code",
   "outputs": [],
   "source": [
    "base = Path(r\"D:\\Tracking\\NucleiTracking\\data\\interim\\lightsheet\\2025_02_06\")\n",
    "# raw = tifffile.imread(list(base_path.glob(\"*.tif\"))[1])"
   ],
   "metadata": {
    "collapsed": false,
    "ExecuteTime": {
     "end_time": "2025-04-01T20:31:35.968326Z",
     "start_time": "2025-04-01T20:31:35.793555Z"
    }
   },
   "id": "a37784e068acb367",
   "execution_count": 15
  },
  {
   "cell_type": "code",
   "outputs": [
    {
     "name": "stderr",
     "output_type": "stream",
     "text": [
      "242it [02:09,  1.87it/s]\n"
     ]
    }
   ],
   "source": [
    "# from skimage.measure import regionprops\n",
    "# from scipy.spatial.distance import cdist\n",
    "# import napari\n",
    "# \n",
    "# mesh = \"small\"\n",
    "# \n",
    "# locs = tifffile.imread(base / f\"{mesh}_all_locs.tif\")\n",
    "# masks = tifffile.imread(base / f\"{mesh}_all_vals2_cp_masks.tif\")\n",
    "# vals = tifffile.imread(base / f\"{mesh}_all_vals2.tif\")\n",
    "# \n",
    "# centroids = []\n",
    "# \n",
    "# for t, (maskslice, locslice) in tqdm(enumerate(zip(masks, locs))): \n",
    "# \n",
    "#     frame_centroids = []\n",
    "#     \n",
    "#     props = regionprops(maskslice, locslice)\n",
    "#     \n",
    "#     for prop in props:\n",
    "#         ct = [prop.centroid[0], prop.centroid[1]]\n",
    "#         round_ct = [int(np.round(c)) for c in prop.centroid_local]\n",
    "#         \n",
    "#         ct = np.median(np.median(prop.image_intensity[round_ct[0] - 1:round_ct[0] + 2, round_ct[1] - 1:round_ct[1] + 2], axis=0), axis=0)\n",
    "#         # ct = prop.image_intensity[round_ct[0], round_ct[1]]\n",
    "#         \n",
    "#         frame_centroids.append([t, *ct])\n",
    "#                 \n",
    "#     \n",
    "#     centroids.extend(frame_centroids)\n",
    "#                 \n",
    "# centroids = np.array(centroids)\n",
    "# \n",
    "# viewer = napari.Viewer()\n",
    "# pts = viewer.add_points(centroids, shading=\"spherical\")\n",
    "# \n",
    "# napari.run()"
   ],
   "metadata": {
    "collapsed": false,
    "ExecuteTime": {
     "end_time": "2025-04-01T19:15:28.189452Z",
     "start_time": "2025-04-01T19:13:15.833818Z"
    }
   },
   "id": "39fefb82056ab55b",
   "execution_count": 4
  },
  {
   "cell_type": "code",
   "outputs": [
    {
     "name": "stderr",
     "output_type": "stream",
     "text": [
      "154it [00:12,  6.81it/s]C:\\Users\\Harrison\\AppData\\Local\\Temp\\ipykernel_4036\\2657269221.py:23: RuntimeWarning: invalid value encountered in cast\n",
      "  cts[\"intensity_mean-2\"]], axis=-1)).astype(np.uint16)\n",
      "269it [00:48,  5.56it/s]\n"
     ]
    }
   ],
   "source": [
    "from skimage.measure import regionprops_table\n",
    "from scipy.spatial.distance import cdist\n",
    "import napari\n",
    "\n",
    "mesh = \"small\"\n",
    "\n",
    "locs = tifffile.imread(base / f\"{mesh}_all_locs.tif\")\n",
    "masks = tifffile.imread(base / f\"{mesh}_all_vals2_cp_masks.tif\")\n",
    "vals = tifffile.imread(base / f\"{mesh}_all_vals2.tif\")\n",
    "\n",
    "centroids = []\n",
    "\n",
    "for t, (maskslice, locslice) in tqdm(enumerate(zip(masks, locs))): \n",
    "\n",
    "    # frame_centroids = []\n",
    "    \n",
    "    cts = regionprops_table(maskslice, locslice, properties=(\"centroid\",\"intensity_mean\"))\n",
    "    # print(cts.keys())\n",
    "    \n",
    "    locs = np.round(np.stack([[t]*len(cts[\"intensity_mean-0\"]), \n",
    "                              cts[\"intensity_mean-0\"], \n",
    "                              cts[\"intensity_mean-1\"], \n",
    "                              cts[\"intensity_mean-2\"]], axis=-1)).astype(np.uint16)\n",
    "    \n",
    "    \n",
    "        # ct = [prop.centroid[0], prop.centroid[1]]\n",
    "        # round_ct = [int(np.round(c)) for c in prop.centroid_local]\n",
    "        # \n",
    "        # ct = np.median(np.median(prop.image_intensity[round_ct[0] - 1:round_ct[0] + 2, round_ct[1] - 1:round_ct[1] + 2], axis=0), axis=0)\n",
    "        # # ct = prop.image_intensity[round_ct[0], round_ct[1]]\n",
    "        # \n",
    "        # frame_centroids.append([t, *ct])\n",
    "    \n",
    "    centroids.extend([l for l in locs])\n",
    "                \n",
    "    \n",
    "    # centroids.extend(frame_centroids)\n",
    "                \n",
    "# centroids = np.array(centroids)\n",
    "\n",
    "viewer = napari.Viewer()\n",
    "pts = viewer.add_points(centroids, shading=\"spherical\")\n",
    "\n",
    "napari.run()"
   ],
   "metadata": {
    "collapsed": false,
    "ExecuteTime": {
     "end_time": "2025-04-01T21:39:13.008969Z",
     "start_time": "2025-04-01T21:38:21.792083Z"
    }
   },
   "id": "3d7be04099500979",
   "execution_count": 17
  },
  {
   "cell_type": "code",
   "outputs": [],
   "source": [
    "import pandas as pd\n",
    "centroids = np.array(centroids)\n",
    "\n",
    "cdf = {\"frame\": centroids[:, 0], \"z\": centroids[:, 1], \"y\": centroids[:, 2], \"x\": centroids[:, 3]}\n",
    "df = pd.DataFrame(cdf)\n",
    "df[\"frame\"] = np.array(centroids[:, 0], dtype=int)\n",
    "df.to_csv(base / f\"{mesh}_spots.csv\")"
   ],
   "metadata": {
    "collapsed": false,
    "ExecuteTime": {
     "end_time": "2025-04-01T21:40:05.175316Z",
     "start_time": "2025-04-01T21:40:04.397132Z"
    }
   },
   "id": "543dc6d8d29e5190",
   "execution_count": 19
  }
 ],
 "metadata": {
  "kernelspec": {
   "display_name": "Python 3",
   "language": "python",
   "name": "python3"
  },
  "language_info": {
   "codemirror_mode": {
    "name": "ipython",
    "version": 2
   },
   "file_extension": ".py",
   "mimetype": "text/x-python",
   "name": "python",
   "nbconvert_exporter": "python",
   "pygments_lexer": "ipython2",
   "version": "2.7.6"
  }
 },
 "nbformat": 4,
 "nbformat_minor": 5
}
