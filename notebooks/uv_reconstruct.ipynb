{
 "cells": [
  {
   "cell_type": "code",
   "id": "initial_id",
   "metadata": {
    "collapsed": true,
    "ExecuteTime": {
     "end_time": "2025-05-16T18:10:45.877922Z",
     "start_time": "2025-05-16T18:10:41.791271Z"
    }
   },
   "source": [
    "%load_ext autoreload\n",
    "%autoreload 2\n",
    "import pandas as pd\n",
    "import numpy as np\n",
    "from pathlib import Path\n",
    "import matplotlib.pyplot as plt\n",
    "import seaborn as sns\n",
    "from json import load\n",
    "import tifffile\n",
    "from tqdm import tqdm\n",
    "from skimage.draw import polygon\n",
    "from matplotlib import rcParams\n",
    "from glasbey import create_palette\n",
    "\n",
    "palette = {\n",
    "    \"green\": \"#558150\",\n",
    "    \"beige\": \"#F1E2C3\",\n",
    "    \"brown\": \"#A7785A\",\n",
    "    \"pink\": \"#F0D6C2\",\n",
    "    \"black\": \"#0E0E0E\",\n",
    "}\n",
    "\n",
    "rcParams['font.family'] = 'sans-serif'\n",
    "rcParams['figure.facecolor'] = \"#FFFFFF00\"\n",
    "rcParams['axes.facecolor'] = \"#FFFFFF00\"\n",
    "rcParams['legend.framealpha'] = 0.2\n",
    "rcParams['axes.edgecolor'] = palette[\"black\"]\n",
    "rcParams['axes.labelcolor'] = palette[\"black\"]\n",
    "rcParams['xtick.color'] = palette[\"black\"]\n",
    "rcParams['ytick.color'] = palette[\"black\"]\n",
    "rcParams['text.color'] = palette[\"black\"]\n",
    "rcParams['axes.titlecolor'] = palette[\"black\"]"
   ],
   "outputs": [],
   "execution_count": 1
  },
  {
   "cell_type": "code",
   "source": [
    "base = Path(r\"D:\\Tracking\\NucleiTracking\\data\\interim\\lightsheet\\2025_04_14\")\n",
    "# raw = tifffile.imread(list(base_path.glob(\"*.tif\"))[1])"
   ],
   "metadata": {
    "collapsed": false,
    "ExecuteTime": {
     "end_time": "2025-05-16T18:10:46.010124Z",
     "start_time": "2025-05-16T18:10:45.890922Z"
    }
   },
   "id": "a37784e068acb367",
   "outputs": [],
   "execution_count": 2
  },
  {
   "cell_type": "code",
   "outputs": [
    {
     "name": "stderr",
     "output_type": "stream",
     "text": [
      "242it [02:09,  1.87it/s]\n"
     ]
    }
   ],
   "source": [
    "# from skimage.measure import regionprops\n",
    "# from scipy.spatial.distance import cdist\n",
    "# import napari\n",
    "# \n",
    "# mesh = \"small\"\n",
    "# \n",
    "# locs = tifffile.imread(base / f\"{mesh}_all_locs.tif\")\n",
    "# masks = tifffile.imread(base / f\"{mesh}_all_vals2_cp_masks.tif\")\n",
    "# vals = tifffile.imread(base / f\"{mesh}_all_vals2.tif\")\n",
    "# \n",
    "# centroids = []\n",
    "# \n",
    "# for t, (maskslice, locslice) in tqdm(enumerate(zip(masks, locs))): \n",
    "# \n",
    "#     frame_centroids = []\n",
    "#     \n",
    "#     props = regionprops(maskslice, locslice)\n",
    "#     \n",
    "#     for prop in props:\n",
    "#         ct = [prop.centroid[0], prop.centroid[1]]\n",
    "#         round_ct = [int(np.round(c)) for c in prop.centroid_local]\n",
    "#         \n",
    "#         ct = np.median(np.median(prop.image_intensity[round_ct[0] - 1:round_ct[0] + 2, round_ct[1] - 1:round_ct[1] + 2], axis=0), axis=0)\n",
    "#         # ct = prop.image_intensity[round_ct[0], round_ct[1]]\n",
    "#         \n",
    "#         frame_centroids.append([t, *ct])\n",
    "#                 \n",
    "#     \n",
    "#     centroids.extend(frame_centroids)\n",
    "#                 \n",
    "# centroids = np.array(centroids)\n",
    "# \n",
    "# viewer = napari.Viewer()\n",
    "# pts = viewer.add_points(centroids, shading=\"spherical\")\n",
    "# \n",
    "# napari.run()"
   ],
   "metadata": {
    "collapsed": false,
    "ExecuteTime": {
     "end_time": "2025-04-01T19:15:28.189452Z",
     "start_time": "2025-04-01T19:13:15.833818Z"
    }
   },
   "id": "39fefb82056ab55b",
   "execution_count": 4
  },
  {
   "cell_type": "code",
   "source": [
    "from skimage.measure import regionprops_table\n",
    "from scipy.spatial.distance import cdist\n",
    "import napari\n",
    "\n",
    "mesh = \"large\"\n",
    "\n",
    "locs = tifffile.imread(base / f\"{mesh}_all_locs.tif\")\n",
    "masks = tifffile.imread(base / f\"{mesh}_all_vals2_cp_masks.tif\")\n",
    "vals = tifffile.imread(base / f\"{mesh}_all_vals2.tif\")\n",
    "\n",
    "centroids = []\n",
    "\n",
    "for t, (maskslice, locslice) in tqdm(enumerate(zip(masks, locs))): \n",
    "\n",
    "    # frame_centroids = []\n",
    "    \n",
    "    cts = regionprops_table(maskslice, locslice, properties=(\"centroid\",\"intensity_mean\"))\n",
    "    # print(cts.keys())\n",
    "    \n",
    "    locs = np.round(np.stack([[t]*len(cts[\"intensity_mean-0\"]), \n",
    "                              cts[\"intensity_mean-0\"], \n",
    "                              cts[\"intensity_mean-1\"], \n",
    "                              cts[\"intensity_mean-2\"]], axis=-1)).astype(np.uint16)\n",
    "    \n",
    "    \n",
    "        # ct = [prop.centroid[0], prop.centroid[1]]\n",
    "        # round_ct = [int(np.round(c)) for c in prop.centroid_local]\n",
    "        # \n",
    "        # ct = np.median(np.median(prop.image_intensity[round_ct[0] - 1:round_ct[0] + 2, round_ct[1] - 1:round_ct[1] + 2], axis=0), axis=0)\n",
    "        # # ct = prop.image_intensity[round_ct[0], round_ct[1]]\n",
    "        # \n",
    "        # frame_centroids.append([t, *ct])\n",
    "    \n",
    "    centroids.extend([l for l in locs])\n",
    "                \n",
    "    \n",
    "    # centroids.extend(frame_centroids)\n",
    "                \n",
    "# centroids = np.array(centroids)\n",
    "\n",
    "# viewer = napari.Viewer()\n",
    "# pts = viewer.add_points(centroids, shading=\"spherical\")\n",
    "#\n",
    "# napari.run()"
   ],
   "metadata": {
    "collapsed": false,
    "ExecuteTime": {
     "end_time": "2025-05-16T18:12:27.503352Z",
     "start_time": "2025-05-16T18:11:31.602559Z"
    }
   },
   "id": "3d7be04099500979",
   "outputs": [
    {
     "name": "stderr",
     "output_type": "stream",
     "text": [
      "124it [00:06,  7.78it/s]C:\\Users\\Harrison\\AppData\\Local\\Temp\\ipykernel_10484\\3696459689.py:23: RuntimeWarning: invalid value encountered in cast\n",
      "  cts[\"intensity_mean-2\"]], axis=-1)).astype(np.uint16)\n",
      "284it [00:53,  5.34it/s]\n"
     ]
    }
   ],
   "execution_count": 4
  },
  {
   "cell_type": "code",
   "source": [
    "import pandas as pd\n",
    "centroids = np.array(centroids)\n",
    "\n",
    "cdf = {\"frame\": centroids[:, 0], \"z\": centroids[:, 1], \"y\": centroids[:, 2], \"x\": centroids[:, 3]}\n",
    "df = pd.DataFrame(cdf)\n",
    "df[\"frame\"] = np.array(centroids[:, 0], dtype=int)\n",
    "df.to_csv(base / f\"{mesh}_spots.csv\")"
   ],
   "metadata": {
    "collapsed": false,
    "ExecuteTime": {
     "end_time": "2025-05-16T18:12:34.060331Z",
     "start_time": "2025-05-16T18:12:33.105724Z"
    }
   },
   "id": "543dc6d8d29e5190",
   "outputs": [],
   "execution_count": 5
  },
  {
   "metadata": {
    "ExecuteTime": {
     "end_time": "2025-05-16T19:17:52.167495Z",
     "start_time": "2025-05-16T19:17:52.032300Z"
    }
   },
   "cell_type": "code",
   "source": "df",
   "id": "d5aff97482a4b6bb",
   "outputs": [
    {
     "data": {
      "text/plain": [
       "        frame    z    y    x\n",
       "0           0  310  492  222\n",
       "1           0  308  449  239\n",
       "2           0  334  183  221\n",
       "3           0  283  780  278\n",
       "4           0  275  428  275\n",
       "...       ...  ...  ...  ...\n",
       "496394    283  320  504  204\n",
       "496395    283  319  492  204\n",
       "496396    283  318  523  207\n",
       "496397    283  321  475  204\n",
       "496398    283  322  464  204\n",
       "\n",
       "[496399 rows x 4 columns]"
      ],
      "text/html": [
       "<div>\n",
       "<style scoped>\n",
       "    .dataframe tbody tr th:only-of-type {\n",
       "        vertical-align: middle;\n",
       "    }\n",
       "\n",
       "    .dataframe tbody tr th {\n",
       "        vertical-align: top;\n",
       "    }\n",
       "\n",
       "    .dataframe thead th {\n",
       "        text-align: right;\n",
       "    }\n",
       "</style>\n",
       "<table border=\"1\" class=\"dataframe\">\n",
       "  <thead>\n",
       "    <tr style=\"text-align: right;\">\n",
       "      <th></th>\n",
       "      <th>frame</th>\n",
       "      <th>z</th>\n",
       "      <th>y</th>\n",
       "      <th>x</th>\n",
       "    </tr>\n",
       "  </thead>\n",
       "  <tbody>\n",
       "    <tr>\n",
       "      <th>0</th>\n",
       "      <td>0</td>\n",
       "      <td>310</td>\n",
       "      <td>492</td>\n",
       "      <td>222</td>\n",
       "    </tr>\n",
       "    <tr>\n",
       "      <th>1</th>\n",
       "      <td>0</td>\n",
       "      <td>308</td>\n",
       "      <td>449</td>\n",
       "      <td>239</td>\n",
       "    </tr>\n",
       "    <tr>\n",
       "      <th>2</th>\n",
       "      <td>0</td>\n",
       "      <td>334</td>\n",
       "      <td>183</td>\n",
       "      <td>221</td>\n",
       "    </tr>\n",
       "    <tr>\n",
       "      <th>3</th>\n",
       "      <td>0</td>\n",
       "      <td>283</td>\n",
       "      <td>780</td>\n",
       "      <td>278</td>\n",
       "    </tr>\n",
       "    <tr>\n",
       "      <th>4</th>\n",
       "      <td>0</td>\n",
       "      <td>275</td>\n",
       "      <td>428</td>\n",
       "      <td>275</td>\n",
       "    </tr>\n",
       "    <tr>\n",
       "      <th>...</th>\n",
       "      <td>...</td>\n",
       "      <td>...</td>\n",
       "      <td>...</td>\n",
       "      <td>...</td>\n",
       "    </tr>\n",
       "    <tr>\n",
       "      <th>496394</th>\n",
       "      <td>283</td>\n",
       "      <td>320</td>\n",
       "      <td>504</td>\n",
       "      <td>204</td>\n",
       "    </tr>\n",
       "    <tr>\n",
       "      <th>496395</th>\n",
       "      <td>283</td>\n",
       "      <td>319</td>\n",
       "      <td>492</td>\n",
       "      <td>204</td>\n",
       "    </tr>\n",
       "    <tr>\n",
       "      <th>496396</th>\n",
       "      <td>283</td>\n",
       "      <td>318</td>\n",
       "      <td>523</td>\n",
       "      <td>207</td>\n",
       "    </tr>\n",
       "    <tr>\n",
       "      <th>496397</th>\n",
       "      <td>283</td>\n",
       "      <td>321</td>\n",
       "      <td>475</td>\n",
       "      <td>204</td>\n",
       "    </tr>\n",
       "    <tr>\n",
       "      <th>496398</th>\n",
       "      <td>283</td>\n",
       "      <td>322</td>\n",
       "      <td>464</td>\n",
       "      <td>204</td>\n",
       "    </tr>\n",
       "  </tbody>\n",
       "</table>\n",
       "<p>496399 rows × 4 columns</p>\n",
       "</div>"
      ]
     },
     "execution_count": 6,
     "metadata": {},
     "output_type": "execute_result"
    }
   ],
   "execution_count": 6
  }
 ],
 "metadata": {
  "kernelspec": {
   "display_name": "Python 3",
   "language": "python",
   "name": "python3"
  },
  "language_info": {
   "codemirror_mode": {
    "name": "ipython",
    "version": 2
   },
   "file_extension": ".py",
   "mimetype": "text/x-python",
   "name": "python",
   "nbconvert_exporter": "python",
   "pygments_lexer": "ipython2",
   "version": "2.7.6"
  }
 },
 "nbformat": 4,
 "nbformat_minor": 5
}
