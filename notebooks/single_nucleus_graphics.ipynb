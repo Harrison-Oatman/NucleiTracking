{
 "cells": [
  {
   "cell_type": "code",
   "execution_count": 1,
   "id": "initial_id",
   "metadata": {
    "collapsed": true,
    "ExecuteTime": {
     "end_time": "2024-06-24T03:31:10.959235Z",
     "start_time": "2024-06-24T03:31:10.884434Z"
    }
   },
   "outputs": [],
   "source": [
    "%load_ext autoreload\n",
    "%autoreload 2"
   ]
  },
  {
   "cell_type": "code",
   "outputs": [],
   "source": [
    "import pandas as pd\n",
    "import numpy as np\n",
    "from pathlib import Path\n",
    "import matplotlib.pyplot as plt\n",
    "import seaborn as sns\n",
    "from json import load\n",
    "import tifffile\n",
    "from tqdm import tqdm\n",
    "from skimage.draw import polygon\n",
    "from matplotlib import rcParams\n",
    "import glasbey\n",
    "\n",
    "palette = {\n",
    "    \"green\": \"#558150\",\n",
    "    \"beige\": \"#F1E2C3\",\n",
    "    \"brown\": \"#A7785A\",\n",
    "    \"pink\": \"#F0D6C2\",\n",
    "    \"black\": \"#0E0E0E\",\n",
    "}\n",
    "\n",
    "rcParams['font.family'] = 'sans-serif'\n",
    "rcParams['figure.facecolor'] = \"#FFFFFF00\"\n",
    "rcParams['axes.facecolor'] = \"#FFFFFF00\"\n",
    "rcParams['legend.framealpha'] = 0.2\n",
    "rcParams['axes.edgecolor'] = palette[\"black\"]\n",
    "rcParams['axes.labelcolor'] = palette[\"black\"]\n",
    "rcParams['xtick.color'] = palette[\"black\"]\n",
    "rcParams['ytick.color'] = palette[\"black\"]\n",
    "rcParams['text.color'] = palette[\"black\"]\n",
    "rcParams['axes.titlecolor'] = palette[\"black\"]\n",
    "\n",
    "s_palette = sns.cubehelix_palette(as_cmap=True)"
   ],
   "metadata": {
    "collapsed": false,
    "ExecuteTime": {
     "end_time": "2024-06-24T03:31:15.059246Z",
     "start_time": "2024-06-24T03:31:10.960241Z"
    }
   },
   "id": "520e1e788d104371",
   "execution_count": 2
  },
  {
   "cell_type": "code",
   "outputs": [
    {
     "name": "stdout",
     "output_type": "stream",
     "text": [
      "Index(['Unnamed: 0', 'ID', 'track_id', 'tracklet_id', 'distance_from_edge',\n",
      "       'parent_id', 'daughter_id', 'roi', 'FRAME', 'POSITION_X', 'POSITION_Y',\n",
      "       'POSITION_Z', 'ELLIPSE_MAJOR', 'ELLIPSE_MINOR', 'ELLIPSE_THETA',\n",
      "       'ELLIPSE_Y0', 'ELLIPSE_X0', 'ELLIPSE_ASPECTRATIO', 'CIRCULARITY',\n",
      "       'AREA', 'SHAPE_INDEX', 'MEDIAN_INTENSITY_CH1', 'time', 'um_from_edge',\n",
      "       'um_x', 'um_y', 'ap_position', 'edge_position', 'track_n_tracklets',\n",
      "       'cycle'],\n",
      "      dtype='object')\n"
     ]
    }
   ],
   "source": [
    "from src.utils.tracklets import import_tracklets\n",
    "\n",
    "roots = [\"embryo007\", \"embryo008\", \"embryo014a\", \"embryo016\", \"embryo018\"]\n",
    "datapath = Path().cwd().parent / \"data\" / \"interim\" / \"confocal\"\n",
    "plotpath = datapath / \"plots\"\n",
    "plotpath.mkdir(exist_ok=True)\n",
    "\n",
    "spots, tracklets, metadata, tracklets_joined = import_tracklets(datapath, roots)\n",
    "print(spots[roots[0]].columns)"
   ],
   "metadata": {
    "collapsed": false,
    "ExecuteTime": {
     "end_time": "2024-06-24T03:31:25.242543Z",
     "start_time": "2024-06-24T03:31:15.060247Z"
    }
   },
   "id": "2a15fd366b8a6fa4",
   "execution_count": 3
  },
  {
   "cell_type": "code",
   "outputs": [
    {
     "name": "stdout",
     "output_type": "stream",
     "text": [
      "   Unnamed: 0    ID  track_id  tracklet_id  distance_from_edge  parent_id  \\\n",
      "0           0  2817         0            2           96.028167          0   \n",
      "1           1  2692         1            9          101.966403          0   \n",
      "2           2  2950         2           14           99.323588          0   \n",
      "3           3  3846         3           15           70.186652          0   \n",
      "4           4  2824         4           23           75.134796          0   \n",
      "\n",
      "   daughter_id                                                roi  FRAME  \\\n",
      "0         2422  [4.60629251700675, 7.200680272108798, 6.606292...    0.0   \n",
      "1         2336  [1.5259454705364988, 6.949868073878633, 4.5259...    0.0   \n",
      "2         2597  [5.333333333333371, 6.5637254901960205, 7.3333...    0.0   \n",
      "3         3104  [-0.16845878136200554, 7.976702508960557, 8.83...    0.0   \n",
      "4         2429  [1.8898225957050272, 6.575163398692894, 4.8898...    0.0   \n",
      "\n",
      "   POSITION_X  ...  SHAPE_INDEX  MEDIAN_INTENSITY_CH1  time  um_from_edge  \\\n",
      "0  393.893707  ...     3.785922                  35.0   0.0     32.009389   \n",
      "1  620.974055  ...     3.743141                  21.0   0.0     33.988801   \n",
      "2  710.166667  ...     3.764666                  55.0   0.0     33.107863   \n",
      "3  965.668459  ...     3.817042                  70.0   0.0     23.395551   \n",
      "4  953.610177  ...     3.785695                  36.0   0.0     25.044932   \n",
      "\n",
      "         um_x        um_y  ap_position  edge_position  track_n_tracklets  \\\n",
      "0  131.297902  184.433107     0.329622    -136.562861                 31   \n",
      "1  206.991352  153.516711     0.445581      34.103580                 29   \n",
      "2  236.722222  231.978758     0.557773    -151.113465                 31   \n",
      "3  321.889486  267.841099     0.740212    -155.775748                 29   \n",
      "4  317.870059  185.641612     0.672384      68.581056                 27   \n",
      "\n",
      "   cycle  \n",
      "0     10  \n",
      "1     10  \n",
      "2     10  \n",
      "3     10  \n",
      "4     10  \n",
      "\n",
      "[5 rows x 30 columns]\n"
     ]
    }
   ],
   "source": [
    "print(spots[roots[0]].head())"
   ],
   "metadata": {
    "collapsed": false,
    "ExecuteTime": {
     "end_time": "2024-06-03T18:47:21.914111Z",
     "start_time": "2024-06-03T18:47:21.818953Z"
    }
   },
   "id": "13f40a1a9bbc5b9f",
   "execution_count": 14
  },
  {
   "cell_type": "code",
   "outputs": [
    {
     "name": "stdout",
     "output_type": "stream",
     "text": [
      "count    199089.000000\n",
      "mean          0.009089\n",
      "std           0.020161\n",
      "min          -0.063772\n",
      "25%          -0.004530\n",
      "50%           0.008272\n",
      "75%           0.022001\n",
      "max           0.099637\n",
      "Name: AP_distance, dtype: float64\n"
     ]
    },
    {
     "name": "stderr",
     "output_type": "stream",
     "text": [
      "199089it [01:18, 2536.71it/s]\n"
     ]
    }
   ],
   "source": [
    "root = \"embryo018\"\n",
    "spots_df = spots[root].copy()\n",
    "spots_df = spots_df[spots_df[\"track_n_tracklets\"] > 7]\n",
    "\n",
    "\n",
    "from collections import defaultdict\n",
    "from skimage.draw import polygon\n",
    "import ast\n",
    "df_dict = defaultdict(list)\n",
    "\n",
    "def make_lineage_tif(spots_df: pd.DataFrame, h=1360, w=1360, key=\"ID\") -> np.ndarray:\n",
    "    shape = (round(spots_df[\"FRAME\"].max()) + 1, h, w)\n",
    "    output_tif = -np.ones(shape, dtype=np.float16)\n",
    "\n",
    "    for i, spot in tqdm(spots_df.iterrows()):\n",
    "        x, y = spot[\"POSITION_X\"], spot[\"POSITION_Y\"]\n",
    "        t = round(spot[\"FRAME\"])\n",
    "        new_track_id = spot[key]\n",
    "        \n",
    "        roi = ast.literal_eval(spot[\"roi\"])\n",
    "\n",
    "        xs = [round(float(pt) + x) for pt in roi[::2]]\n",
    "        ys = [round(float(pt) + y) for pt in roi[1::2]]\n",
    "\n",
    "        rr, cc = polygon(ys, xs, shape[1:])\n",
    "        output_tif[t, rr, cc] = new_track_id\n",
    "\n",
    "    return output_tif\n",
    "\n",
    "spots_df[\"AP_distance\"] = spots_df[\"ap_position\"] - spots_df[\"track_id\"].map(spots_df.groupby(\"track_id\")[\"ap_position\"].first())\n",
    "print(spots_df[\"AP_distance\"].describe())\n",
    "out = make_lineage_tif(spots_df, key=\"AP_distance\")\n",
    "tifffile.imwrite(datapath / root / f\"{root}_ap_distance.tif\", out)"
   ],
   "metadata": {
    "collapsed": false,
    "ExecuteTime": {
     "end_time": "2024-06-24T03:45:33.850424Z",
     "start_time": "2024-06-24T03:44:12.970163Z"
    }
   },
   "id": "efd7020dbe47e422",
   "execution_count": 9
  },
  {
   "cell_type": "code",
   "outputs": [
    {
     "name": "stderr",
     "output_type": "stream",
     "text": [
      "C:\\Users\\Harrison\\AppData\\Local\\Temp\\ipykernel_10440\\2671681709.py:6: MatplotlibDeprecationWarning: The get_cmap function was deprecated in Matplotlib 3.7 and will be removed two minor releases later. Use ``matplotlib.colormaps[name]`` or ``matplotlib.colormaps.get_cmap(obj)`` instead.\n",
      "  cmap = cm.get_cmap(\"inferno\")\n"
     ]
    },
    {
     "data": {
      "text/plain": "<Figure size 100x500 with 1 Axes>",
      "image/png": "[encoded data removed]"
     },
     "metadata": {
      "needs_background": "light"
     },
     "output_type": "display_data"
    }
   ],
   "source": [
    "# make inferno colormap legend\n",
    "import matplotlib.colors as mcolors\n",
    "import matplotlib.cm as cm\n",
    "\n",
    "fig, ax = plt.subplots(figsize=(1, 5))\n",
    "cmap = cm.get_cmap(\"inferno\")\n",
    "norm = mcolors.Normalize(vmin=-10, vmax=10)\n",
    "cb = plt.colorbar(cm.ScalarMappable(norm=norm, cmap=cmap), cax=ax)\n",
    "cb.set_label(\"% AP axis movement\")\n",
    "plt.savefig(plotpath / \"ap_distance_legend.png\", dpi=300, bbox_inches=\"tight\")"
   ],
   "metadata": {
    "collapsed": false,
    "ExecuteTime": {
     "end_time": "2024-06-24T03:51:31.401136Z",
     "start_time": "2024-06-24T03:51:31.165565Z"
    }
   },
   "id": "f6f936874fc80524",
   "execution_count": 14
  },
  {
   "cell_type": "code",
   "outputs": [],
   "source": [
    "root = \"embryo007\"\n",
    "rawfile = datapath / root / f\"{root}_MaxIP_bgs.tif\"\n",
    "raw = tifffile.imread(rawfile)\n",
    "\n",
    "spots_df = spots[root].copy()\n",
    "spots_df.set_index(\"ID\", inplace=True)\n",
    "\n",
    "spots_df = spots_df[spots_df[\"track_n_tracklets\"] == 31]\n",
    "\n",
    "last_frame_nucs = spots_df[spots_df[\"FRAME\"] == spots_df[\"FRAME\"].max()]\n",
    "sample = last_frame_nucs.sample(3)\n",
    "\n",
    "crop_size = 25\n",
    "\n",
    "for idx, nuc in sample.iterrows():\n",
    "    series_dir = datapath / root / f\"series_{idx}\"\n",
    "    series_dir.mkdir(exist_ok=True)\n",
    "    while True:\n",
    "        x, y = round(nuc[\"POSITION_X\"]), round(nuc[\"POSITION_Y\"])\n",
    "        crop = raw[round(nuc[\"FRAME\"]), y-crop_size:y+crop_size, x-crop_size:x+crop_size]\n",
    "        tifffile.imwrite(series_dir / f\"crop_{idx}_{str(round(nuc['FRAME'])).zfill(3)}.tif\", crop)\n",
    "        \n",
    "        if nuc['parent_id'] == 0:\n",
    "            break\n",
    "        \n",
    "        nuc = spots_df.loc[nuc['parent_id']]\n",
    "        "
   ],
   "metadata": {
    "collapsed": false,
    "ExecuteTime": {
     "end_time": "2024-06-03T19:06:20.866752Z",
     "start_time": "2024-06-03T19:06:20.002380Z"
    }
   },
   "id": "98c6d258536b7028",
   "execution_count": 26
  },
  {
   "cell_type": "code",
   "outputs": [],
   "source": [],
   "metadata": {
    "collapsed": false
   },
   "id": "960603e53d1640ea"
  }
 ],
 "metadata": {
  "kernelspec": {
   "display_name": "Python 3",
   "language": "python",
   "name": "python3"
  },
  "language_info": {
   "codemirror_mode": {
    "name": "ipython",
    "version": 2
   },
   "file_extension": ".py",
   "mimetype": "text/x-python",
   "name": "python",
   "nbconvert_exporter": "python",
   "pygments_lexer": "ipython2",
   "version": "2.7.6"
  }
 },
 "nbformat": 4,
 "nbformat_minor": 5
}
