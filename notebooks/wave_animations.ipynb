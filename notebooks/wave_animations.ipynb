{
 "cells": [
  {
   "cell_type": "code",
   "execution_count": 1,
   "id": "initial_id",
   "metadata": {
    "collapsed": true,
    "ExecuteTime": {
     "end_time": "2025-03-09T03:01:33.465983Z",
     "start_time": "2025-03-09T03:01:33.354921Z"
    }
   },
   "outputs": [],
   "source": [
    "%load_ext autoreload\n",
    "%autoreload 2"
   ]
  },
  {
   "cell_type": "code",
   "outputs": [],
   "source": [
    "import pandas as pd\n",
    "import numpy as np\n",
    "from pathlib import Path\n",
    "import matplotlib.pyplot as plt\n",
    "import seaborn as sns\n",
    "from json import load\n",
    "import tifffile\n",
    "from tqdm import tqdm\n",
    "from skimage.draw import polygon\n",
    "from matplotlib import rcParams\n",
    "from glasbey import create_palette\n",
    "\n",
    "palette = {\n",
    "    \"green\": \"#558150\",\n",
    "    \"beige\": \"#F1E2C3\",\n",
    "    \"brown\": \"#A7785A\",\n",
    "    \"pink\": \"#F0D6C2\",\n",
    "    \"black\": \"#0E0E0E\",\n",
    "}\n",
    "\n",
    "rcParams['font.family'] = 'sans-serif'\n",
    "rcParams['figure.facecolor'] = \"#FFFFFF00\"\n",
    "rcParams['axes.facecolor'] = \"#FFFFFF00\"\n",
    "rcParams['legend.framealpha'] = 0.2\n",
    "rcParams['axes.edgecolor'] = palette[\"black\"]\n",
    "rcParams['axes.labelcolor'] = palette[\"black\"]\n",
    "rcParams['xtick.color'] = palette[\"black\"]\n",
    "rcParams['ytick.color'] = palette[\"black\"]\n",
    "rcParams['text.color'] = palette[\"black\"]\n",
    "rcParams['axes.titlecolor'] = palette[\"black\"]"
   ],
   "metadata": {
    "collapsed": false,
    "ExecuteTime": {
     "end_time": "2025-03-09T03:01:37.799875Z",
     "start_time": "2025-03-09T03:01:33.466979Z"
    }
   },
   "id": "80042c2dbd961924",
   "execution_count": 2
  },
  {
   "cell_type": "code",
   "outputs": [],
   "source": [
    "source_path = Path(r\"D:\\Tracking\\NucleiTracking\\data\\interim\\lightsheet\\2025_01_31\\recon\")\n",
    "spots_df = pd.read_csv(source_path / r\"out\\best_spots.csv\")\n",
    "save_path = source_path / \"wave_animations_2\"\n",
    "save_path.mkdir(exist_ok=True)"
   ],
   "metadata": {
    "collapsed": false,
    "ExecuteTime": {
     "end_time": "2025-03-09T03:01:39.424968Z",
     "start_time": "2025-03-09T03:01:37.800869Z"
    }
   },
   "id": "598a8184111eb5f7",
   "execution_count": 3
  },
  {
   "cell_type": "code",
   "outputs": [
    {
     "name": "stdout",
     "output_type": "stream",
     "text": [
      "266652   -1.0\n",
      "266653   -1.0\n",
      "266654   -1.0\n",
      "266655   -1.0\n",
      "266656   -1.0\n",
      "         ... \n",
      "269184   -1.0\n",
      "269185   -1.0\n",
      "269186   -1.0\n",
      "269187   -1.0\n",
      "269188   -1.0\n",
      "Name: true_value, Length: 2537, dtype: float64 266652   -1\n",
      "266653   -1\n",
      "266654   -1\n",
      "266655   -1\n",
      "266656   -1\n",
      "         ..\n",
      "269184   -1\n",
      "269185   -1\n",
      "269186   -1\n",
      "269187   -1\n",
      "269188   -1\n",
      "Name: fit_value, Length: 2537, dtype: int32\n"
     ]
    },
    {
     "name": "stderr",
     "output_type": "stream",
     "text": [
      "911it [07:59,  1.87it/s]                           "
     ]
    }
   ],
   "source": [
    "import napari\n",
    "from sklearn.neighbors import NearestNeighbors\n",
    "import numpy as np\n",
    "\n",
    "\n",
    "def load_frame_data(df, frame, neighbors=5):\n",
    "    frame_subset = df[df[\"FRAME\"] == frame].copy()\n",
    "    values = np.array([frame - mid for mid in frame_subset[\"cycle_start\"]])\n",
    "    values[values > 12] = -1\n",
    "    values[(values >= 0) & (values <= 1)] = 0\n",
    "    values[(values <= 12) & (values > 1)] = 1\n",
    "    spatial = frame_subset[[\"POSITION_X\", \"POSITION_Y\", \"POSITION_Z\"]].values\n",
    "    \n",
    "    knn = NearestNeighbors(n_neighbors=neighbors)\n",
    "    knn.fit(spatial, values)\n",
    "    fit_values = values[knn.kneighbors(spatial, return_distance=False)]\n",
    "    fit_values = np.array(np.median(fit_values, axis=1), dtype=int)\n",
    "    frame_subset[\"true_value\"] = values\n",
    "    frame_subset[\"fit_value\"] = fit_values\n",
    "    return frame_subset\n",
    "    \n",
    "spots_df[\"cycle_start\"] = spots_df[\"tracklet_id\"].map(spots_df.groupby(\"tracklet_id\")[\"FRAME\"].min())\n",
    "\n",
    "start_frame = 198\n",
    "end_frame = 212\n",
    "rotation_per_image = 0.05\n",
    "rotation_per_frame = np.pi\n",
    "\n",
    "total_rotation = 0\n",
    "frame_index = 0\n",
    "frame_data = load_frame_data(spots_df, start_frame)\n",
    "s = 10\n",
    "border_color = \"black\"\n",
    "\n",
    "\n",
    "print(frame_data[\"true_value\"], frame_data[\"fit_value\"])\n",
    "\n",
    "viewer = napari.Viewer(ndisplay=3)\n",
    "# viewer._canvas_size = (900, 900)\n",
    "viewer.theme = 'dark'\n",
    "i = 0\n",
    "\n",
    "loader = tqdm(total=(end_frame - start_frame) * rotation_per_frame // rotation_per_image)\n",
    "\n",
    "while frame_index < end_frame - start_frame:\n",
    "    i += 1\n",
    "    \n",
    "    loader.update(1)\n",
    "    \n",
    "    if total_rotation // rotation_per_frame > frame_index:\n",
    "        frame_index += 1\n",
    "        frame_data = load_frame_data(spots_df, start_frame + frame_index)\n",
    "    \n",
    "    cmap = {-1: \"#2E4B36\", 0: \"#FF5638\", 1: \"#FF7530\"}\n",
    "    color = [cmap[v] for v in frame_data[\"fit_value\"]]\n",
    "    pts = frame_data[[\"POSITION_X\", \"POSITION_Y\", \"POSITION_Z\"]].values\n",
    "    pts = pts - pts.mean(axis=0)\n",
    "    \n",
    "    rot_matrix = np.array([[np.cos(total_rotation), 0, -np.sin(total_rotation)],\n",
    "                           [0, 1, 0],\n",
    "                           [np.sin(total_rotation), 0, np.cos(total_rotation)]])\n",
    "    pts = pts @ rot_matrix\n",
    "    \n",
    "    l = viewer.add_points(pts, name=f\"frame_{i}\", border_color=border_color, border_width=0.04,\n",
    "                              face_color=color, size=s, translate=[100, 0, 0], shading='none', antialiasing=0.5)\n",
    "    l.refresh()\n",
    "    viewer.screenshot(str(save_path / f\"frame_{i}.png\"), scale=1, flash=False)\n",
    "    viewer.layers.remove(l.name)\n",
    "    del l\n",
    "    \n",
    "    \n",
    "    if i % 30 == 0:\n",
    "        viewer.close()\n",
    "        viewer = napari.Viewer(ndisplay=3)\n",
    "        # viewer._canvas_size = (900, 900)\n",
    "        viewer.theme = 'dark'\n",
    "        \n",
    "    else:\n",
    "        total_rotation += rotation_per_image\n",
    "    "
   ],
   "metadata": {
    "collapsed": false,
    "ExecuteTime": {
     "end_time": "2025-03-09T03:09:50.150860Z",
     "start_time": "2025-03-09T03:01:39.424968Z"
    }
   },
   "id": "8c9e2e08eba35a39",
   "execution_count": 4
  }
 ],
 "metadata": {
  "kernelspec": {
   "display_name": "Python 3",
   "language": "python",
   "name": "python3"
  },
  "language_info": {
   "codemirror_mode": {
    "name": "ipython",
    "version": 2
   },
   "file_extension": ".py",
   "mimetype": "text/x-python",
   "name": "python",
   "nbconvert_exporter": "python",
   "pygments_lexer": "ipython2",
   "version": "2.7.6"
  }
 },
 "nbformat": 4,
 "nbformat_minor": 5
}
