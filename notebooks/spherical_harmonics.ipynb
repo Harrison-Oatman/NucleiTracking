{
 "cells": [
  {
   "cell_type": "code",
   "execution_count": null,
   "id": "initial_id",
   "metadata": {
    "collapsed": true
   },
   "outputs": [],
   "source": []
  },
  {
   "cell_type": "markdown",
   "source": [
    "Spherical Harmonics\n",
    "\n",
    "1. choose an order n, 3d radius max R\n",
    "2. create integer grid in 3d space centered around 0 with radius R\n",
    "3. calculate phi, theta, r for each pt in 3d space\n",
    "4. calculate Y_j(phi, theta) for each spherical harmonic j up to order n\n",
    "\n",
    "Model architecture\n",
    "input: raw data of grid size\n",
    "output: pixel probabilities of nucleus centered in input\n",
    "early layers: convolutional? *fully connected*?\n",
    "final layer: vector C of size Y\n",
    "loss fn: (sig(Y.C - r) - y)^2 \n",
    "\n",
    "Model training\n",
    "1. use 3d cellpose output as ground truth\n",
    "2. crop raw data, cellpose binary mask around every detection\n",
    "3. "
   ],
   "metadata": {
    "collapsed": false
   },
   "id": "762784bbe5299e19"
  },
  {
   "cell_type": "markdown",
   "source": [],
   "metadata": {
    "collapsed": false
   },
   "id": "ef1ef07b48ecaba3"
  }
 ],
 "metadata": {
  "kernelspec": {
   "display_name": "Python 3",
   "language": "python",
   "name": "python3"
  },
  "language_info": {
   "codemirror_mode": {
    "name": "ipython",
    "version": 2
   },
   "file_extension": ".py",
   "mimetype": "text/x-python",
   "name": "python",
   "nbconvert_exporter": "python",
   "pygments_lexer": "ipython2",
   "version": "2.7.6"
  }
 },
 "nbformat": 4,
 "nbformat_minor": 5
}
