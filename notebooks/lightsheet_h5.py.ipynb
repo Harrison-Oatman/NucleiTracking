{
 "cells": [
  {
   "cell_type": "code",
   "execution_count": 1,
   "id": "initial_id",
   "metadata": {
    "collapsed": true,
    "ExecuteTime": {
     "end_time": "2024-06-21T20:37:33.534059Z",
     "start_time": "2024-06-21T20:37:33.419603Z"
    }
   },
   "outputs": [],
   "source": [
    "%load_ext autoreload\n",
    "%autoreload 2"
   ]
  },
  {
   "cell_type": "code",
   "outputs": [],
   "source": [
    "import pandas as pd\n",
    "import numpy as np\n",
    "from pathlib import Path\n",
    "import matplotlib.pyplot as plt\n",
    "import seaborn as sns\n",
    "from json import load\n",
    "import tifffile\n",
    "from tqdm import tqdm\n",
    "from skimage.draw import polygon\n",
    "from matplotlib import rcParams\n",
    "import glasbey\n",
    "\n",
    "palette = {\n",
    "    \"green\": \"#558150\",\n",
    "    \"beige\": \"#F1E2C3\",\n",
    "    \"brown\": \"#A7785A\",\n",
    "    \"pink\": \"#F0D6C2\",\n",
    "    \"black\": \"#0E0E0E\",\n",
    "}\n",
    "\n",
    "rcParams['font.family'] = 'sans-serif'\n",
    "rcParams['figure.facecolor'] = \"#FFFFFF00\"\n",
    "rcParams['axes.facecolor'] = \"#FFFFFF00\"\n",
    "rcParams['legend.framealpha'] = 0.2\n",
    "rcParams['axes.edgecolor'] = palette[\"black\"]\n",
    "rcParams['axes.labelcolor'] = palette[\"black\"]\n",
    "rcParams['xtick.color'] = palette[\"black\"]\n",
    "rcParams['ytick.color'] = palette[\"black\"]\n",
    "rcParams['text.color'] = palette[\"black\"]\n",
    "rcParams['axes.titlecolor'] = palette[\"black\"]\n",
    "\n",
    "s_palette = sns.cubehelix_palette(as_cmap=True)"
   ],
   "metadata": {
    "collapsed": false,
    "ExecuteTime": {
     "end_time": "2024-06-21T20:37:36.876720Z",
     "start_time": "2024-06-21T20:37:33.535065Z"
    }
   },
   "id": "9e82b8d47c37754c",
   "execution_count": 2
  },
  {
   "cell_type": "code",
   "outputs": [],
   "source": [
    "datapath = Path().cwd().parent / \"data/interim/lightsheet\""
   ],
   "metadata": {
    "collapsed": false,
    "ExecuteTime": {
     "end_time": "2024-06-21T20:37:36.987686Z",
     "start_time": "2024-06-21T20:37:36.877726Z"
    }
   },
   "id": "69d386d00b9e1a7e",
   "execution_count": 3
  },
  {
   "cell_type": "code",
   "outputs": [
    {
     "name": "stdout",
     "output_type": "stream",
     "text": [
      "<HDF5 dataset \"exported_data\": shape (371, 983, 415, 1), type \"<u2\">\n"
     ]
    }
   ],
   "source": [
    "import h5py\n",
    "\n",
    "with h5py.File(datapath / \"Recon_fused_tp_202_ch_0_probabilities.h5\", \"r\") as f:\n",
    "    print(f[\"exported_data\"])\n",
    "    data = f[\"exported_data\"][:]\n",
    "    \n",
    "tifffile.imwrite(datapath / \"Recon_fused_tp_202_ch_0_probabilities.tif\", data)"
   ],
   "metadata": {
    "collapsed": false,
    "ExecuteTime": {
     "end_time": "2024-06-21T20:37:37.494116Z",
     "start_time": "2024-06-21T20:37:36.988694Z"
    }
   },
   "id": "637289d63622fa97",
   "execution_count": 4
  },
  {
   "cell_type": "code",
   "outputs": [],
   "source": [
    "# convolve ball over image\n",
    "from scipy.ndimage import convolve\n",
    "from skimage.morphology import ball\n",
    "\n",
    "ball = ball(4)\n",
    "data = tifffile.imread(datapath / \"Recon_fused_tp_202_ch_0_probabilities.tif\")\n",
    "data = data / np.max(data)\n",
    "data = convolve(data[..., 0], ball)\n",
    "\n",
    "tifffile.imwrite(datapath / \"Recon_fused_tp_202_ch_0_probabilities_convolved.tif\", data)"
   ],
   "metadata": {
    "collapsed": false,
    "is_executing": true,
    "ExecuteTime": {
     "start_time": "2024-06-21T20:40:28.407984Z"
    }
   },
   "id": "d2cca9ed08caf2e4",
   "execution_count": null
  },
  {
   "cell_type": "code",
   "outputs": [],
   "source": [],
   "metadata": {
    "collapsed": false
   },
   "id": "9c6517d743b707a0"
  }
 ],
 "metadata": {
  "kernelspec": {
   "display_name": "Python 3",
   "language": "python",
   "name": "python3"
  },
  "language_info": {
   "codemirror_mode": {
    "name": "ipython",
    "version": 2
   },
   "file_extension": ".py",
   "mimetype": "text/x-python",
   "name": "python",
   "nbconvert_exporter": "python",
   "pygments_lexer": "ipython2",
   "version": "2.7.6"
  }
 },
 "nbformat": 4,
 "nbformat_minor": 5
}
