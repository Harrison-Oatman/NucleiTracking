{
 "cells": [
  {
   "cell_type": "code",
   "outputs": [],
   "source": [
    "%load_ext autoreload\n",
    "%autoreload 2"
   ],
   "metadata": {
    "collapsed": false,
    "ExecuteTime": {
     "end_time": "2025-02-12T03:24:56.223026Z",
     "start_time": "2025-02-12T03:24:56.127022Z"
    }
   },
   "id": "79b41c06aabb14b3",
   "execution_count": 1
  },
  {
   "cell_type": "code",
   "outputs": [
    {
     "name": "stdout",
     "output_type": "stream",
     "text": [
      "The autoreload extension is already loaded. To reload it, use:\n",
      "  %reload_ext autoreload\n"
     ]
    }
   ],
   "source": [
    "%load_ext autoreload\n",
    "%autoreload 2\n",
    "import pandas as pd\n",
    "import numpy as np\n",
    "from pathlib import Path\n",
    "import matplotlib.pyplot as plt\n",
    "import seaborn as sns\n",
    "from json import load\n",
    "import tifffile\n",
    "from tqdm import tqdm\n",
    "from skimage.draw import polygon\n",
    "from matplotlib import rcParams\n",
    "from glasbey import create_palette\n",
    "import plotly.express as px\n",
    "\n",
    "palette = {\n",
    "    \"green\": \"#558150\",\n",
    "    \"beige\": \"#F1E2C3\",\n",
    "    \"brown\": \"#A7785A\",\n",
    "    \"pink\": \"#F0D6C2\",\n",
    "    \"black\": \"#0E0E0E\",\n",
    "}\n",
    "\n",
    "rcParams['font.family'] = 'sans-serif'\n",
    "rcParams['figure.facecolor'] = \"#FFFFFF00\"\n",
    "rcParams['axes.facecolor'] = \"#FFFFFF00\"\n",
    "rcParams['legend.framealpha'] = 0.2\n",
    "rcParams['axes.edgecolor'] = palette[\"black\"]\n",
    "rcParams['axes.labelcolor'] = palette[\"black\"]\n",
    "rcParams['xtick.color'] = palette[\"black\"]\n",
    "rcParams['ytick.color'] = palette[\"black\"]\n",
    "rcParams['text.color'] = palette[\"black\"]\n",
    "rcParams['axes.titlecolor'] = palette[\"black\"]\n",
    "\n",
    "s_palette = sns.cubehelix_palette(as_cmap=True)\n",
    "pal = sns.color_palette(\"dark\")\n",
    "cpal = sns.cubehelix_palette(start=-0.25, rot=2, as_cmap=True)\n",
    "g_palette = create_palette(8000)\n",
    "from scipy.spatial.distance import cdist\n",
    "from sklearn.decomposition import PCA\n",
    "from sklearn.preprocessing import StandardScaler"
   ],
   "metadata": {
    "collapsed": false,
    "ExecuteTime": {
     "end_time": "2025-02-12T03:25:04.254129Z",
     "start_time": "2025-02-12T03:24:56.225020Z"
    }
   },
   "id": "3c0c4fee162668d0",
   "execution_count": 2
  },
  {
   "cell_type": "code",
   "execution_count": 46,
   "id": "initial_id",
   "metadata": {
    "collapsed": true,
    "ExecuteTime": {
     "end_time": "2025-02-12T04:13:06.971140Z",
     "start_time": "2025-02-12T04:12:56.107141Z"
    }
   },
   "outputs": [
    {
     "name": "stderr",
     "output_type": "stream",
     "text": [
      "100%|██████████| 248/248 [00:09<00:00, 27.25it/s] \n"
     ]
    }
   ],
   "source": [
    "\n",
    "\n",
    "source_path = Path(r\"D:\\Tracking\\NucleiTracking\\data\\interim\\lightsheet\\2025_01_31\\recon\")\n",
    "spots_path = source_path / \"out\"\n",
    "spots_df = pd.read_csv(spots_path / \"tracked_spots.csv\")\n",
    "spots_df.set_index(\"ID\", inplace=True)\n",
    "save_path = spots_path\n",
    "cycle_starts = np.array([0, 30, 60, 110, 160, 280])\n",
    "\n",
    "um_per_px = 0.525\n",
    "spots_df[\"x\"] = spots_df[\"POSITION_X\"] * um_per_px\n",
    "spots_df[\"z\"] = spots_df[\"POSITION_Z\"] * um_per_px\n",
    "spots_df[\"y\"] = spots_df[\"POSITION_Y\"] * um_per_px\n",
    "\n",
    "pos = np.array(spots_df[[\"x\", \"y\", \"z\"]])\n",
    "pca = PCA(n_components=3)  # Choose the number of components you want to keep\n",
    "transformed_data = pca.fit_transform(pos)\n",
    "spots_df[\"AP\"] = transformed_data[:, 0]\n",
    "spots_df[\"theta\"] = np.arctan2(transformed_data[:, 1], transformed_data[:, 2])\n",
    "# fig, axes = plt.subplots(1, 3, figsize=(6, 2))\n",
    "# for i in range(3):\n",
    "#     axes[i].plot(pos[:, i], transformed_data[:, 0])\n",
    "# plt.show()\n",
    "\n",
    "spots_df[\"reflection_z\"] = 2.1 * spots_df[\"z\"].max() - spots_df[\"z\"]\n",
    "spots_df[\"reflection_x\"] = spots_df[\"x\"].max() - spots_df[\"x\"]\n",
    "\n",
    "spots_df[\"is_reflected\"] = spots_df[\"x\"] > spots_df[\"x\"].max() / 2\n",
    "\n",
    "spots_df[\"display_x\"] = spots_df[\"reflection_x\"] * spots_df[\"is_reflected\"] + spots_df[\"x\"] * (\n",
    "    ~spots_df[\"is_reflected\"])\n",
    "spots_df[\"display_z\"] = spots_df[\"reflection_z\"] * spots_df[\"is_reflected\"] + spots_df[\"z\"] * (\n",
    "    ~spots_df[\"is_reflected\"])\n",
    "\n",
    "spots_df[\"approx_time\"] = spots_df[\"FRAME\"] / 3.\n",
    "\n",
    "t_grouper = spots_df.groupby(\"tracklet_id\")[\"approx_time\"]\n",
    "spots_df[\"cycle_length\"] = spots_df[\"tracklet_id\"].map(t_grouper.max()) - spots_df[\"tracklet_id\"].map(t_grouper.min())\n",
    "\n",
    "best_spots = spots_df[spots_df[\"track_id\"] > 0].copy()\n",
    "n_tracklets = best_spots[\"track_id\"].map(best_spots.groupby(\"track_id\")[\"tracklet_id\"].nunique())\n",
    "best_spots = best_spots[n_tracklets > 1]\n",
    "\n",
    "best_spots[\"local_density\"] = 0\n",
    "neighborhood_um = 30\n",
    "\n",
    "for frame in tqdm(best_spots[\"FRAME\"].unique()):\n",
    "    frame_spots = best_spots[best_spots[\"FRAME\"] == frame]\n",
    "    coords = frame_spots[[\"x\", \"y\", \"z\"]].values\n",
    "    dists = cdist(coords, coords)\n",
    "    close = dists < neighborhood_um\n",
    "    local_density = close.sum(axis=1)\n",
    "    best_spots.loc[frame_spots.index, \"local_density\"] = local_density"
   ]
  },
  {
   "cell_type": "code",
   "outputs": [],
   "source": [
    "import networkx as nx\n",
    "from sklearn.neighbors import NearestNeighbors\n",
    "\n",
    "knn = NearestNeighbors()\n",
    "\n",
    "frame = best_spots[\"FRAME\"].max()\n",
    "frame_spots = best_spots[best_spots[\"FRAME\"] == frame]\n",
    "\n",
    "pid = np.array(frame_spots.index)\n",
    "tid = np.array(frame_spots[\"track_id\"].values)\n",
    "coords = frame_spots[[\"x\", \"y\", \"z\"]].values\n",
    "\n",
    "knn.fit(coords)\n",
    "distances, indices = knn.kneighbors(coords)\n",
    "\n",
    "pid_in = np.stack([pid]*5, -1).flatten()\n",
    "tid_in = np.stack([tid]*5, -1).flatten()\n",
    "\n",
    "pid_out = pid[np.array(indices)].flatten()\n",
    "tid_out = tid[np.array(indices)].flatten()\n",
    "\n",
    "tid_graph = nx.Graph(zip(tid_in, tid_out))\n",
    "pid_graph = nx.Graph(zip(pid_in, pid_out))"
   ],
   "metadata": {
    "collapsed": false,
    "ExecuteTime": {
     "end_time": "2025-02-12T03:43:10.819238Z",
     "start_time": "2025-02-12T03:43:10.617239Z"
    }
   },
   "id": "c9f8317bcc9f4457",
   "execution_count": 18
  },
  {
   "cell_type": "code",
   "outputs": [
    {
     "name": "stdout",
     "output_type": "stream",
     "text": [
      "5\n"
     ]
    }
   ],
   "source": [
    "tid_graph.remove_edges_from(nx.selfloop_edges(tid_graph))\n",
    "pid_graph.remove_edges_from(nx.selfloop_edges(pid_graph))\n",
    "\n",
    "tid_colors = nx.greedy_color(tid_graph)\n",
    "print(np.max(list(tid_colors.values())))"
   ],
   "metadata": {
    "collapsed": false,
    "ExecuteTime": {
     "end_time": "2025-02-12T03:49:30.637361Z",
     "start_time": "2025-02-12T03:49:30.512360Z"
    }
   },
   "id": "5033ad08d6fd8110",
   "execution_count": 31
  },
  {
   "cell_type": "code",
   "outputs": [],
   "source": [
    "#palette = [\"#FFCBE1\", \"#D6E5BD\", \"#F9E1A8\", \"#BCD8EC\", \"#DCCcEC\", \"#FFDAB4\", \"#444444\"]\n",
    "palette = sns.color_palette(\"hls\", 7)"
   ],
   "metadata": {
    "collapsed": false,
    "ExecuteTime": {
     "end_time": "2025-02-12T04:27:08.808167Z",
     "start_time": "2025-02-12T04:27:08.610666Z"
    }
   },
   "id": "6f2965e165e1ceff",
   "execution_count": 49
  },
  {
   "cell_type": "code",
   "outputs": [],
   "source": [
    "uncat = [tid for tid in best_spots[\"track_id\"].unique() if tid not in tid_colors]\n",
    "tid_colors.update({tid: 6 for tid in uncat})"
   ],
   "metadata": {
    "collapsed": false,
    "ExecuteTime": {
     "end_time": "2025-02-12T03:59:27.848637Z",
     "start_time": "2025-02-12T03:59:27.681636Z"
    }
   },
   "id": "67dc89fd5c798d26",
   "execution_count": 38
  },
  {
   "cell_type": "code",
   "outputs": [
    {
     "name": "stderr",
     "output_type": "stream",
     "text": [
      "225it [04:35,  1.22s/it]\n"
     ]
    }
   ],
   "source": [
    "import napari\n",
    "sz_start = 13\n",
    "sz_end = 5\n",
    "f_start = 20\n",
    "f_end = 245\n",
    "sz = np.linspace(sz_start, sz_end, f_end - f_start)\n",
    "viewer = napari.Viewer(ndisplay=3)\n",
    "\n",
    "tmppath = save_path / \"napari_temp\"\n",
    "tmppath.mkdir(exist_ok=True)\n",
    "\n",
    "for s, frame in tqdm(zip(sz, range(f_start, f_end))):\n",
    "    bs = best_spots[best_spots[\"FRAME\"] == frame]\n",
    "    tids = bs[\"track_id\"]\n",
    "    coloring = [tid_colors[tid] for tid in tids]\n",
    "    color = [palette[c] for c in coloring]\n",
    "    l = viewer.add_points(bs[[\"display_x\", \"y\", \"display_z\"]], name=f\"frame_{frame}\",\n",
    "                      face_color=color, size=s, translate=[100, 0, 0])\n",
    "    l.refresh()\n",
    "    viewer.screenshot(str(tmppath / f\"frame_{frame}.png\"), flash=False)\n",
    "    viewer.layers.remove(l.name)"
   ],
   "metadata": {
    "collapsed": false,
    "ExecuteTime": {
     "end_time": "2025-02-12T04:35:30.476133Z",
     "start_time": "2025-02-12T04:30:54.690635Z"
    }
   },
   "id": "581cee76f1f57e15",
   "execution_count": 51
  }
 ],
 "metadata": {
  "kernelspec": {
   "display_name": "Python 3",
   "language": "python",
   "name": "python3"
  },
  "language_info": {
   "codemirror_mode": {
    "name": "ipython",
    "version": 2
   },
   "file_extension": ".py",
   "mimetype": "text/x-python",
   "name": "python",
   "nbconvert_exporter": "python",
   "pygments_lexer": "ipython2",
   "version": "2.7.6"
  }
 },
 "nbformat": 4,
 "nbformat_minor": 5
}
