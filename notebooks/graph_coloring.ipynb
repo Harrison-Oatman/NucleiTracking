{
 "cells": [
  {
   "cell_type": "code",
   "outputs": [],
   "source": [
    "%load_ext autoreload\n",
    "%autoreload 2"
   ],
   "metadata": {
    "collapsed": false,
    "ExecuteTime": {
     "end_time": "2025-02-13T19:08:29.285365Z",
     "start_time": "2025-02-13T19:08:29.191962Z"
    }
   },
   "id": "79b41c06aabb14b3",
   "execution_count": 2
  },
  {
   "cell_type": "code",
   "outputs": [
    {
     "name": "stdout",
     "output_type": "stream",
     "text": [
      "The autoreload extension is already loaded. To reload it, use:\n",
      "  %reload_ext autoreload\n"
     ]
    }
   ],
   "source": [
    "%load_ext autoreload\n",
    "%autoreload 2\n",
    "import pandas as pd\n",
    "import numpy as np\n",
    "from pathlib import Path\n",
    "import matplotlib.pyplot as plt\n",
    "import seaborn as sns\n",
    "from json import load\n",
    "import tifffile\n",
    "from tqdm import tqdm\n",
    "from skimage.draw import polygon\n",
    "from matplotlib import rcParams\n",
    "from glasbey import create_palette\n",
    "import plotly.express as px\n",
    "\n",
    "palette = {\n",
    "    \"green\": \"#558150\",\n",
    "    \"beige\": \"#F1E2C3\",\n",
    "    \"brown\": \"#A7785A\",\n",
    "    \"pink\": \"#F0D6C2\",\n",
    "    \"black\": \"#0E0E0E\",\n",
    "}\n",
    "\n",
    "rcParams['font.family'] = 'sans-serif'\n",
    "rcParams['figure.facecolor'] = \"#FFFFFF00\"\n",
    "rcParams['axes.facecolor'] = \"#FFFFFF00\"\n",
    "rcParams['legend.framealpha'] = 0.2\n",
    "rcParams['axes.edgecolor'] = palette[\"black\"]\n",
    "rcParams['axes.labelcolor'] = palette[\"black\"]\n",
    "rcParams['xtick.color'] = palette[\"black\"]\n",
    "rcParams['ytick.color'] = palette[\"black\"]\n",
    "rcParams['text.color'] = palette[\"black\"]\n",
    "rcParams['axes.titlecolor'] = palette[\"black\"]\n",
    "\n",
    "s_palette = sns.cubehelix_palette(as_cmap=True)\n",
    "pal = sns.color_palette(\"dark\")\n",
    "cpal = sns.cubehelix_palette(start=-0.25, rot=2, as_cmap=True)\n",
    "g_palette = create_palette(8000)\n",
    "from scipy.spatial.distance import cdist\n",
    "from sklearn.decomposition import PCA\n",
    "from sklearn.preprocessing import StandardScaler"
   ],
   "metadata": {
    "collapsed": false,
    "ExecuteTime": {
     "end_time": "2025-02-13T19:08:36.925531Z",
     "start_time": "2025-02-13T19:08:29.286373Z"
    }
   },
   "id": "3c0c4fee162668d0",
   "execution_count": 3
  },
  {
   "cell_type": "code",
   "execution_count": 4,
   "id": "initial_id",
   "metadata": {
    "collapsed": true,
    "ExecuteTime": {
     "end_time": "2025-02-13T19:08:45.774149Z",
     "start_time": "2025-02-13T19:08:36.926526Z"
    }
   },
   "outputs": [
    {
     "name": "stderr",
     "output_type": "stream",
     "text": [
      "100%|██████████| 248/248 [00:07<00:00, 32.65it/s] \n"
     ]
    }
   ],
   "source": [
    "\n",
    "\n",
    "source_path = Path(r\"D:\\Tracking\\NucleiTracking\\data\\interim\\lightsheet\\2025_01_31\\recon\")\n",
    "spots_path = source_path / \"out\"\n",
    "spots_df = pd.read_csv(spots_path / \"tracked_spots.csv\")\n",
    "spots_df.set_index(\"ID\", inplace=True)\n",
    "save_path = spots_path\n",
    "cycle_starts = np.array([0, 30, 60, 110, 160, 280])\n",
    "\n",
    "um_per_px = 0.525\n",
    "spots_df[\"x\"] = spots_df[\"POSITION_X\"] * um_per_px\n",
    "spots_df[\"z\"] = spots_df[\"POSITION_Z\"] * um_per_px\n",
    "spots_df[\"y\"] = spots_df[\"POSITION_Y\"] * um_per_px\n",
    "\n",
    "pos = np.array(spots_df[[\"x\", \"y\", \"z\"]])\n",
    "pca = PCA(n_components=3)  # Choose the number of components you want to keep\n",
    "transformed_data = pca.fit_transform(pos)\n",
    "spots_df[\"AP\"] = transformed_data[:, 0]\n",
    "spots_df[\"theta\"] = np.arctan2(transformed_data[:, 1], transformed_data[:, 2])\n",
    "# fig, axes = plt.subplots(1, 3, figsize=(6, 2))\n",
    "# for i in range(3):\n",
    "#     axes[i].plot(pos[:, i], transformed_data[:, 0])\n",
    "# plt.show()\n",
    "\n",
    "spots_df[\"reflection_z\"] = 2.1 * spots_df[\"z\"].max() - spots_df[\"z\"]\n",
    "spots_df[\"reflection_x\"] = spots_df[\"x\"].max() - spots_df[\"x\"]\n",
    "\n",
    "spots_df[\"is_reflected\"] = spots_df[\"x\"] > spots_df[\"x\"].max() / 2\n",
    "\n",
    "spots_df[\"display_x\"] = spots_df[\"reflection_x\"] * spots_df[\"is_reflected\"] + spots_df[\"x\"] * (\n",
    "    ~spots_df[\"is_reflected\"])\n",
    "spots_df[\"display_z\"] = spots_df[\"reflection_z\"] * spots_df[\"is_reflected\"] + spots_df[\"z\"] * (\n",
    "    ~spots_df[\"is_reflected\"])\n",
    "\n",
    "spots_df[\"approx_time\"] = spots_df[\"FRAME\"] / 3.\n",
    "\n",
    "t_grouper = spots_df.groupby(\"tracklet_id\")[\"approx_time\"]\n",
    "spots_df[\"cycle_length\"] = spots_df[\"tracklet_id\"].map(t_grouper.max()) - spots_df[\"tracklet_id\"].map(t_grouper.min())\n",
    "\n",
    "best_spots = spots_df[spots_df[\"track_id\"] > 0].copy()\n",
    "n_tracklets = best_spots[\"track_id\"].map(best_spots.groupby(\"track_id\")[\"tracklet_id\"].nunique())\n",
    "best_spots = best_spots[n_tracklets > 1]\n",
    "\n",
    "best_spots[\"local_density\"] = 0\n",
    "neighborhood_um = 30\n",
    "\n",
    "for frame in tqdm(best_spots[\"FRAME\"].unique()):\n",
    "    frame_spots = best_spots[best_spots[\"FRAME\"] == frame]\n",
    "    coords = frame_spots[[\"x\", \"y\", \"z\"]].values\n",
    "    dists = cdist(coords, coords)\n",
    "    close = dists < neighborhood_um\n",
    "    local_density = close.sum(axis=1)\n",
    "    best_spots.loc[frame_spots.index, \"local_density\"] = local_density"
   ]
  },
  {
   "cell_type": "code",
   "outputs": [
    {
     "name": "stdout",
     "output_type": "stream",
     "text": [
      "clone_size\n",
      "16    203\n",
      "8      90\n",
      "12     32\n",
      "4      29\n",
      "2      19\n",
      "14     17\n",
      "6      17\n",
      "10      9\n",
      "Name: count, dtype: int64\n"
     ]
    }
   ],
   "source": [
    "frame = best_spots[\"FRAME\"].max()\n",
    "frame_spots = best_spots[best_spots[\"FRAME\"] == frame].copy()\n",
    "frame_spots[\"clone_size\"] = 0\n",
    "\n",
    "print(frame_spots.groupby(\"track_id\")[\"clone_size\"].count().value_counts())"
   ],
   "metadata": {
    "collapsed": false,
    "ExecuteTime": {
     "end_time": "2025-02-13T21:21:15.501151Z",
     "start_time": "2025-02-13T21:21:15.337676Z"
    }
   },
   "id": "77c24ab0b5bc87c9",
   "execution_count": 56
  },
  {
   "cell_type": "code",
   "outputs": [],
   "source": [
    "import networkx as nx\n",
    "from sklearn.neighbors import NearestNeighbors\n",
    "\n",
    "knn = NearestNeighbors()\n",
    "\n",
    "frame = best_spots[\"FRAME\"].max()\n",
    "frame_spots = best_spots[best_spots[\"FRAME\"] == frame]\n",
    "\n",
    "pid = np.array(frame_spots.index)\n",
    "tid = np.array(frame_spots[\"track_id\"].values)\n",
    "coords = frame_spots[[\"x\", \"y\", \"z\"]].values\n",
    "\n",
    "knn.fit(coords)\n",
    "k = 10\n",
    "distances, indices = knn.kneighbors(coords, k)\n",
    "\n",
    "pid_in = np.stack([pid]*k, -1).flatten()\n",
    "tid_in = np.stack([tid]*k, -1).flatten()\n",
    "\n",
    "pid_out = pid[np.array(indices)].flatten()\n",
    "tid_out = tid[np.array(indices)].flatten()\n",
    "\n",
    "tid_graph = nx.Graph(zip(tid_in, tid_out))\n",
    "pid_graph = nx.Graph(zip(pid_in, pid_out))"
   ],
   "metadata": {
    "collapsed": false,
    "ExecuteTime": {
     "end_time": "2025-02-13T21:08:01.099691Z",
     "start_time": "2025-02-13T21:08:00.793197Z"
    }
   },
   "id": "c9f8317bcc9f4457",
   "execution_count": 45
  },
  {
   "cell_type": "code",
   "outputs": [
    {
     "name": "stdout",
     "output_type": "stream",
     "text": [
      "2    0.204327\n",
      "3    0.201923\n",
      "1    0.192308\n",
      "0    0.180288\n",
      "4    0.163462\n",
      "5    0.045673\n",
      "6    0.009615\n",
      "7    0.002404\n",
      "Name: count, dtype: float64\n",
      "[2 3 1 0 4 5 6 7]\n"
     ]
    }
   ],
   "source": [
    "tid_graph.remove_edges_from(nx.selfloop_edges(tid_graph))\n",
    "pid_graph.remove_edges_from(nx.selfloop_edges(pid_graph))\n",
    "\n",
    "tid_colors = nx.greedy_color(tid_graph)\n",
    "# print(np.max(list(tid_colors.values())))\n",
    "print(pd.Series(tid_colors.values()).value_counts() / len(tid_colors.values()))\n",
    "print(pd.Series(tid_colors.values()).value_counts().index.values)"
   ],
   "metadata": {
    "collapsed": false,
    "ExecuteTime": {
     "end_time": "2025-02-13T21:08:02.925817Z",
     "start_time": "2025-02-13T21:08:02.751775Z"
    }
   },
   "id": "34c4de29ccc3d969",
   "execution_count": 46
  },
  {
   "cell_type": "code",
   "outputs": [
    {
     "name": "stdout",
     "output_type": "stream",
     "text": [
      "2    0.204327\n",
      "3    0.201923\n",
      "1    0.192308\n",
      "0    0.180288\n",
      "4    0.163462\n",
      "5    0.045673\n",
      "6    0.009615\n",
      "7    0.002404\n",
      "Name: count, dtype: float64\n",
      "[2 3 1 0 4 5 6 7]\n",
      "[2, 3, 1, 0, 4, 5, 6, 7, 8]\n"
     ]
    },
    {
     "name": "stderr",
     "output_type": "stream",
     "text": [
      "225it [05:35,  1.49s/it]\n"
     ]
    }
   ],
   "source": [
    "import napari\n",
    "from napari.utils.theme import available_themes, get_theme, register_theme\n",
    "\n",
    "#palette = [\"#FFCBE1\", \"#D6E5BD\", \"#F9E1A8\", \"#BCD8EC\", \"#DCCcEC\", \"#FFDAB4\", \"#444444\"]\n",
    "# palette = sns.color_palette(\"hls\", 7)\n",
    "palette = np.array([\"#2B5356\",\"#3D5E85\",\"#193E55\",\"#8DAB7F\", \"#C0A331\", \"#e7b5b5\", \"#c34640\", \"#eae0df\", \"#444444\"])\n",
    "\n",
    "tid_graph.remove_edges_from(nx.selfloop_edges(tid_graph))\n",
    "pid_graph.remove_edges_from(nx.selfloop_edges(pid_graph))\n",
    "\n",
    "tid_colors = nx.greedy_color(tid_graph)\n",
    "# print(np.max(list(tid_colors.values())))\n",
    "print(pd.Series(tid_colors.values()).value_counts() / len(tid_colors.values()))\n",
    "print(pd.Series(tid_colors.values()).value_counts().index.values)\n",
    "\n",
    "perm = list(pd.Series(tid_colors.values()).value_counts().index.values)\n",
    "perm.append(len(perm))\n",
    "print(perm)\n",
    "palette = palette[perm]\n",
    "\n",
    "viewer = napari.Viewer(ndisplay=3)\n",
    "\n",
    "blue_theme = get_theme('dark')\n",
    "blue_theme.id = 'blue'\n",
    "blue_theme.background = 28, 31, 48  # or as tuples\n",
    "blue_theme.foreground = [45, 52, 71]  # or as list\n",
    "blue_theme.canvas = \"#0A1121\"\n",
    "register_theme('blue', blue_theme, 'custom')\n",
    "viewer.theme = 'blue'\n",
    "\n",
    "uncat = [tid for tid in best_spots[\"track_id\"].unique() if tid not in tid_colors]\n",
    "tid_colors.update({tid: -1 for tid in uncat})\n",
    "\n",
    "sz_start = 13\n",
    "sz_end = 5\n",
    "f_start = 20\n",
    "f_end = 245\n",
    "sz = np.linspace(sz_start, sz_end, f_end - f_start)\n",
    "# viewer = napari.Viewer(ndisplay=3)\n",
    "\n",
    "tmppath = save_path / \"napari_temp\"\n",
    "tmppath.mkdir(exist_ok=True)\n",
    "\n",
    "for s, frame in tqdm(zip(sz, range(f_start, f_end))):\n",
    "    bs = best_spots[best_spots[\"FRAME\"] == frame]\n",
    "    tids = bs[\"track_id\"]\n",
    "    coloring = np.array([tid_colors[tid] for tid in tids])\n",
    "    coloring = np.squeeze(coloring)\n",
    "    color = np.array([palette[c] for c in coloring])\n",
    "    color = color[coloring != -1]\n",
    "    pts = np.array(bs[[\"display_x\", \"y\", \"display_z\"]])\n",
    "    pts = pts[coloring != -1]\n",
    "    l = viewer.add_points(pts, name=f\"frame_{frame}\",\n",
    "                      face_color=color, size=s, translate=[100, 0, 0])\n",
    "    l.refresh()\n",
    "    viewer.screenshot(str(tmppath / f\"frame_{frame}.png\"), scale=4, flash=False)\n",
    "    viewer.layers.remove(l.name)"
   ],
   "metadata": {
    "collapsed": false,
    "ExecuteTime": {
     "end_time": "2025-02-13T21:19:08.898977Z",
     "start_time": "2025-02-13T21:13:30.418307Z"
    }
   },
   "id": "ddf9785f1b0379f2",
   "execution_count": 50
  },
  {
   "cell_type": "code",
   "outputs": [
    {
     "name": "stdout",
     "output_type": "stream",
     "text": [
      "2    0.225962\n",
      "3    0.225962\n",
      "1    0.223558\n",
      "0    0.197115\n",
      "4    0.117788\n",
      "5    0.009615\n",
      "Name: count, dtype: float64\n",
      "[2 3 1 0 4 5]\n"
     ]
    },
    {
     "name": "stderr",
     "output_type": "stream",
     "text": [
      "WARNING: Traceback (most recent call last):\n",
      "  File \"<frozen runpy>\", line 198, in _run_module_as_main\n",
      "  File \"<frozen runpy>\", line 88, in _run_code\n",
      "  File \"C:\\Users\\Harrison\\.conda\\envs\\linajea\\Lib\\site-packages\\ipykernel_launcher.py\", line 17, in <module>\n",
      "    app.launch_new_instance()\n",
      "  File \"C:\\Users\\Harrison\\.conda\\envs\\linajea\\Lib\\site-packages\\traitlets\\config\\application.py\", line 1077, in launch_instance\n",
      "    app.start()\n",
      "  File \"C:\\Users\\Harrison\\.conda\\envs\\linajea\\Lib\\site-packages\\ipykernel\\kernelapp.py\", line 739, in start\n",
      "    self.io_loop.start()\n",
      "  File \"C:\\Users\\Harrison\\.conda\\envs\\linajea\\Lib\\site-packages\\tornado\\platform\\asyncio.py\", line 205, in start\n",
      "    self.asyncio_loop.run_forever()\n",
      "  File \"C:\\Users\\Harrison\\.conda\\envs\\linajea\\Lib\\asyncio\\base_events.py\", line 607, in run_forever\n",
      "    self._run_once()\n",
      "  File \"C:\\Users\\Harrison\\.conda\\envs\\linajea\\Lib\\asyncio\\base_events.py\", line 1922, in _run_once\n",
      "    handle._run()\n",
      "  File \"C:\\Users\\Harrison\\.conda\\envs\\linajea\\Lib\\asyncio\\events.py\", line 80, in _run\n",
      "    self._context.run(self._callback, *self._args)\n",
      "  File \"C:\\Users\\Harrison\\.conda\\envs\\linajea\\Lib\\site-packages\\ipykernel\\kernelbase.py\", line 529, in dispatch_queue\n",
      "    await self.process_one()\n",
      "  File \"C:\\Users\\Harrison\\.conda\\envs\\linajea\\Lib\\site-packages\\ipykernel\\kernelbase.py\", line 518, in process_one\n",
      "    await dispatch(*args)\n",
      "  File \"C:\\Users\\Harrison\\.conda\\envs\\linajea\\Lib\\site-packages\\ipykernel\\kernelbase.py\", line 424, in dispatch_shell\n",
      "    await result\n",
      "  File \"C:\\Users\\Harrison\\.conda\\envs\\linajea\\Lib\\site-packages\\ipykernel\\kernelbase.py\", line 766, in execute_request\n",
      "    reply_content = await reply_content\n",
      "  File \"C:\\Users\\Harrison\\.conda\\envs\\linajea\\Lib\\site-packages\\ipykernel\\ipkernel.py\", line 429, in do_execute\n",
      "    res = shell.run_cell(\n",
      "  File \"C:\\Users\\Harrison\\.conda\\envs\\linajea\\Lib\\site-packages\\ipykernel\\zmqshell.py\", line 549, in run_cell\n",
      "    return super().run_cell(*args, **kwargs)\n",
      "  File \"C:\\Users\\Harrison\\.conda\\envs\\linajea\\Lib\\site-packages\\IPython\\core\\interactiveshell.py\", line 3048, in run_cell\n",
      "    result = self._run_cell(\n",
      "  File \"C:\\Users\\Harrison\\.conda\\envs\\linajea\\Lib\\site-packages\\IPython\\core\\interactiveshell.py\", line 3103, in _run_cell\n",
      "    result = runner(coro)\n",
      "  File \"C:\\Users\\Harrison\\.conda\\envs\\linajea\\Lib\\site-packages\\IPython\\core\\async_helpers.py\", line 129, in _pseudo_sync_runner\n",
      "    coro.send(None)\n",
      "  File \"C:\\Users\\Harrison\\.conda\\envs\\linajea\\Lib\\site-packages\\IPython\\core\\interactiveshell.py\", line 3308, in run_cell_async\n",
      "    has_raised = await self.run_ast_nodes(code_ast.body, cell_name,\n",
      "  File \"C:\\Users\\Harrison\\.conda\\envs\\linajea\\Lib\\site-packages\\IPython\\core\\interactiveshell.py\", line 3490, in run_ast_nodes\n",
      "    if await self.run_code(code, result, async_=asy):\n",
      "  File \"C:\\Users\\Harrison\\.conda\\envs\\linajea\\Lib\\site-packages\\IPython\\core\\interactiveshell.py\", line 3550, in run_code\n",
      "    exec(code_obj, self.user_global_ns, self.user_ns)\n",
      "  File \"C:\\Users\\Harrison\\AppData\\Local\\Temp\\ipykernel_25568\\991149183.py\", line 23, in <module>\n",
      "    blue_theme.background = 28, 31, 48  # or as tuples\n",
      "  File \"C:\\Users\\Harrison\\.conda\\envs\\linajea\\Lib\\site-packages\\napari\\utils\\events\\evented_model.py\", line 307, in __setattr__\n",
      "    with ComparisonDelayer(self):\n",
      "  File \"C:\\Users\\Harrison\\.conda\\envs\\linajea\\Lib\\site-packages\\napari\\utils\\events\\evented_model.py\", line 520, in __exit__\n",
      "    self._target._check_if_values_changed_and_emit_if_needed()\n",
      "  File \"C:\\Users\\Harrison\\.conda\\envs\\linajea\\Lib\\site-packages\\napari\\utils\\events\\evented_model.py\", line 345, in _check_if_values_changed_and_emit_if_needed\n",
      "    getattr(self.events, name)(value=new_value)\n",
      "  File \"C:\\Users\\Harrison\\.conda\\envs\\linajea\\Lib\\site-packages\\napari\\utils\\events\\event.py\", line 764, in __call__\n",
      "    self._invoke_callback(cb, event if pass_event else None)\n",
      "  File \"C:\\Users\\Harrison\\.conda\\envs\\linajea\\Lib\\site-packages\\napari\\utils\\events\\event.py\", line 791, in _invoke_callback\n",
      "    cb()\n",
      "  File \"C:\\Users\\Harrison\\.conda\\envs\\linajea\\Lib\\site-packages\\napari\\_qt\\qt_main_window.py\", line 1494, in _update_theme_no_event\n",
      "    self._update_theme()\n",
      "  File \"C:\\Users\\Harrison\\.conda\\envs\\linajea\\Lib\\site-packages\\napari\\_qt\\qt_main_window.py\", line 1509, in _update_theme\n",
      "    self._qt_viewer.viewer.theme = value\n",
      "  File \"C:\\Users\\Harrison\\.conda\\envs\\linajea\\Lib\\site-packages\\napari\\utils\\events\\evented_model.py\", line 307, in __setattr__\n",
      "    with ComparisonDelayer(self):\n",
      "  File \"C:\\Users\\Harrison\\.conda\\envs\\linajea\\Lib\\site-packages\\napari\\utils\\events\\evented_model.py\", line 520, in __exit__\n",
      "    self._target._check_if_values_changed_and_emit_if_needed()\n",
      "  File \"C:\\Users\\Harrison\\.conda\\envs\\linajea\\Lib\\site-packages\\napari\\utils\\events\\evented_model.py\", line 345, in _check_if_values_changed_and_emit_if_needed\n",
      "    getattr(self.events, name)(value=new_value)\n",
      "  File \"C:\\Users\\Harrison\\.conda\\envs\\linajea\\Lib\\site-packages\\napari\\utils\\events\\event.py\", line 764, in __call__\n",
      "    self._invoke_callback(cb, event if pass_event else None)\n",
      "  File \"C:\\Users\\Harrison\\.conda\\envs\\linajea\\Lib\\site-packages\\napari\\utils\\events\\event.py\", line 791, in _invoke_callback\n",
      "    cb()\n",
      "  File \"C:\\Users\\Harrison\\.conda\\envs\\linajea\\Lib\\site-packages\\napari\\_vispy\\overlays\\scale_bar.py\", line 168, in _on_data_change\n",
      "    self.node.set_data(color, self.overlay.ticks)\n",
      "  File \"C:\\Users\\Harrison\\.conda\\envs\\linajea\\Lib\\site-packages\\napari\\_vispy\\visuals\\scale_bar.py\", line 47, in set_data\n",
      "    self.line.set_data(data, color)\n",
      "  File \"C:\\Users\\Harrison\\.conda\\envs\\linajea\\Lib\\site-packages\\vispy\\visuals\\line\\line.py\", line 189, in set_data\n",
      "    self.update()\n",
      "  File \"C:\\Users\\Harrison\\.conda\\envs\\linajea\\Lib\\site-packages\\vispy\\scene\\node.py\", line 331, in update\n",
      "    self.events.update()\n",
      "  File \"C:\\Users\\Harrison\\.conda\\envs\\linajea\\Lib\\site-packages\\vispy\\util\\event.py\", line 453, in __call__\n",
      "    self._invoke_callback(cb, event)\n",
      "  File \"C:\\Users\\Harrison\\.conda\\envs\\linajea\\Lib\\site-packages\\vispy\\util\\event.py\", line 471, in _invoke_callback\n",
      "    _handle_exception(self.ignore_callback_errors,\n",
      "  << caught exception here: >>\n",
      "  File \"C:\\Users\\Harrison\\.conda\\envs\\linajea\\Lib\\site-packages\\vispy\\util\\event.py\", line 469, in _invoke_callback\n",
      "    cb(event)\n",
      "  File \"C:\\Users\\Harrison\\.conda\\envs\\linajea\\Lib\\site-packages\\vispy\\visuals\\visual.py\", line 652, in _subv_update\n",
      "    self.update()\n",
      "  File \"C:\\Users\\Harrison\\.conda\\envs\\linajea\\Lib\\site-packages\\vispy\\scene\\node.py\", line 334, in update\n",
      "    c.update(node=self)\n",
      "  File \"C:\\Users\\Harrison\\.conda\\envs\\linajea\\Lib\\site-packages\\vispy\\scene\\canvas.py\", line 202, in update\n",
      "    super(SceneCanvas, self).update()\n",
      "  File \"C:\\Users\\Harrison\\.conda\\envs\\linajea\\Lib\\site-packages\\vispy\\app\\canvas.py\", line 448, in update\n",
      "    self._backend._vispy_update()\n",
      "  File \"C:\\Users\\Harrison\\.conda\\envs\\linajea\\Lib\\site-packages\\vispy\\app\\backends\\_qt.py\", line 480, in _vispy_update\n",
      "    self.update()\n",
      "RuntimeError: wrapped C/C++ object of type CanvasBackendDesktop has been deleted\n",
      "ERROR: Invoking <bound method CompoundVisual._subv_update of <ScaleBar at 0x277c9d61050>> for Event\n",
      "225it [05:16,  1.40s/it]\n"
     ]
    }
   ],
   "source": [
    "## 5 neighbor method\n",
    "\n",
    "import networkx as nx\n",
    "from sklearn.neighbors import NearestNeighbors\n",
    "\n",
    "knn = NearestNeighbors()\n",
    "\n",
    "frame = best_spots[\"FRAME\"].max()\n",
    "frame_spots = best_spots[best_spots[\"FRAME\"] == frame]\n",
    "\n",
    "pid = np.array(frame_spots.index)\n",
    "tid = np.array(frame_spots[\"track_id\"].values)\n",
    "coords = frame_spots[[\"x\", \"y\", \"z\"]].values\n",
    "\n",
    "knn.fit(coords)\n",
    "k = 10\n",
    "distances, indices = knn.kneighbors(coords, k)\n",
    "\n",
    "pid_in = np.stack([pid] * k, -1).flatten()\n",
    "tid_in = np.stack([tid] * k, -1).flatten()\n",
    "\n",
    "pid_out = pid[np.array(indices)].flatten()\n",
    "tid_out = tid[np.array(indices)].flatten()\n",
    "\n",
    "tid_graph = nx.Graph(zip(tid_in, tid_out))\n",
    "pid_graph = nx.Graph(zip(pid_in, pid_out))\n",
    "tid_graph.remove_edges_from(nx.selfloop_edges(tid_graph))\n",
    "pid_graph.remove_edges_from(nx.selfloop_edges(pid_graph))\n",
    "\n",
    "tid_colors = nx.greedy_color(tid_graph)\n",
    "# print(np.max(list(tid_colors.values())))\n",
    "print(pd.Series(tid_colors.values()).value_counts() / len(tid_colors.values()))\n",
    "print(pd.Series(tid_colors.values()).value_counts().index.values)\n",
    "\n",
    "\n",
    "import napari\n",
    "from napari.utils.theme import available_themes, get_theme, register_theme\n",
    "\n",
    "#palette = [\"#FFCBE1\", \"#D6E5BD\", \"#F9E1A8\", \"#BCD8EC\", \"#DCCcEC\", \"#FFDAB4\", \"#444444\"]\n",
    "palette = sns.color_palette(\"hls\", 7)\n",
    "palette = np.array([\"#2B5356\",\"#3D5E85\",\"#193E55\",\"#8DAB7F\", \"#C0A331\", \"#e7b5b5\", \"#444444\"])\n",
    "perm = list(pd.Series(tid_colors.values()).value_counts().index.values)\n",
    "perm.append(len(perm))\n",
    "palette = palette[perm]\n",
    "\n",
    "viewer = napari.Viewer(ndisplay=3)\n",
    "\n",
    "blue_theme = get_theme('dark')\n",
    "blue_theme.id = 'blue'\n",
    "blue_theme.background = 28, 31, 48  # or as tuples\n",
    "blue_theme.foreground = [45, 52, 71]  # or as list\n",
    "blue_theme.canvas = \"#0A1121\"\n",
    "register_theme('blue', blue_theme, 'custom')\n",
    "viewer.theme = 'blue'\n",
    "\n",
    "uncat = [tid for tid in best_spots[\"track_id\"].unique() if tid not in tid_colors]\n",
    "tid_colors.update({tid: 6 for tid in uncat})\n",
    "\n",
    "sz_start = 13\n",
    "sz_end = 5\n",
    "f_start = 20\n",
    "f_end = 245\n",
    "sz = np.linspace(sz_start, sz_end, f_end - f_start)\n",
    "# viewer = napari.Viewer(ndisplay=3)\n",
    "\n",
    "tmppath = save_path / \"napari_temp2\"\n",
    "tmppath.mkdir(exist_ok=True)\n",
    "\n",
    "for s, frame in tqdm(zip(sz, range(f_start, f_end))):\n",
    "    bs = best_spots[best_spots[\"FRAME\"] == frame]\n",
    "    tids = bs[\"track_id\"]\n",
    "    coloring = [tid_colors[tid] for tid in tids]\n",
    "    color = [palette[c] for c in coloring]\n",
    "    l = viewer.add_points(bs[[\"display_x\", \"y\", \"display_z\"]], name=f\"frame_{frame}\",\n",
    "                      face_color=color, size=s, translate=[100, 0, 0])\n",
    "    l.refresh()\n",
    "    viewer.screenshot(str(tmppath / f\"frame_{frame}.png\"), scale=4, flash=False)\n",
    "    viewer.layers.remove(l.name)"
   ],
   "metadata": {
    "collapsed": false,
    "ExecuteTime": {
     "end_time": "2025-02-13T20:50:57.829385Z",
     "start_time": "2025-02-13T20:45:40.719164Z"
    }
   },
   "id": "581cee76f1f57e15",
   "execution_count": 38
  }
 ],
 "metadata": {
  "kernelspec": {
   "display_name": "Python 3",
   "language": "python",
   "name": "python3"
  },
  "language_info": {
   "codemirror_mode": {
    "name": "ipython",
    "version": 2
   },
   "file_extension": ".py",
   "mimetype": "text/x-python",
   "name": "python",
   "nbconvert_exporter": "python",
   "pygments_lexer": "ipython2",
   "version": "2.7.6"
  }
 },
 "nbformat": 4,
 "nbformat_minor": 5
}
