{
 "cells": [
  {
   "cell_type": "code",
   "execution_count": 1,
   "id": "initial_id",
   "metadata": {
    "collapsed": true,
    "ExecuteTime": {
     "end_time": "2024-08-14T19:36:37.710963Z",
     "start_time": "2024-08-14T19:36:37.632297Z"
    }
   },
   "outputs": [],
   "source": [
    "%load_ext autoreload\n",
    "%autoreload 2"
   ]
  },
  {
   "cell_type": "code",
   "outputs": [],
   "source": [
    "import pandas as pd\n",
    "import numpy as np\n",
    "from pathlib import Path\n",
    "import matplotlib.pyplot as plt\n",
    "import seaborn as sns\n",
    "from json import load\n",
    "import tifffile\n",
    "from tqdm import tqdm\n",
    "from skimage.draw import polygon\n",
    "from matplotlib import rcParams\n",
    "import glasbey\n",
    "\n",
    "palette = {\n",
    "    \"green\": \"#558150\",\n",
    "    \"beige\": \"#F1E2C3\",\n",
    "    \"brown\": \"#A7785A\",\n",
    "    \"pink\": \"#F0D6C2\",\n",
    "    \"black\": \"#0E0E0E\",\n",
    "}\n",
    "\n",
    "rcParams['font.family'] = 'sans-serif'\n",
    "rcParams['figure.facecolor'] = \"#FFFFFF00\"\n",
    "rcParams['axes.facecolor'] = \"#FFFFFF00\"\n",
    "rcParams['legend.framealpha'] = 0.2\n",
    "rcParams['axes.edgecolor'] = palette[\"black\"]\n",
    "rcParams['axes.labelcolor'] = palette[\"black\"]\n",
    "rcParams['xtick.color'] = palette[\"black\"]\n",
    "rcParams['ytick.color'] = palette[\"black\"]\n",
    "rcParams['text.color'] = palette[\"black\"]\n",
    "rcParams['axes.titlecolor'] = palette[\"black\"]\n",
    "\n",
    "s_palette = sns.cubehelix_palette(as_cmap=True)\n",
    "g_palette = glasbey.create_palette()\n",
    "cpal = sns.cubehelix_palette(start=-0.25, rot=2, as_cmap=True)\n",
    "blue_palette = sns.cubehelix_palette(as_cmap=True, rot=-.25, light=.7)\n",
    "blue_root_palette = sns.cubehelix_palette(5, rot=-.25, light=.7)"
   ],
   "metadata": {
    "collapsed": false,
    "ExecuteTime": {
     "end_time": "2024-08-14T20:42:16.636999Z",
     "start_time": "2024-08-14T20:42:16.040553Z"
    }
   },
   "id": "b9e833a86c93a739",
   "execution_count": 18
  },
  {
   "cell_type": "code",
   "outputs": [],
   "source": [
    "from src.utils.tracklets import import_tracklets\n",
    "\n",
    "roots = [\"embryo007\", \"embryo008\", \"embryo014a\", \"embryo016\", \"embryo018\"]\n",
    "datapath = Path().cwd().parent / \"data\" / \"interim\" / \"confocal\" \n",
    "plotpath = datapath / \"plots\" / \"cc_progression\"\n",
    "plotpath.mkdir(exist_ok=True)\n",
    "\n",
    "spots, tracklets, metadata, tracklets_joined = import_tracklets(datapath, roots)"
   ],
   "metadata": {
    "collapsed": false,
    "ExecuteTime": {
     "end_time": "2024-08-14T20:33:12.440432Z",
     "start_time": "2024-08-14T20:33:02.210211Z"
    }
   },
   "id": "cc134a381dc4cbb2",
   "execution_count": 4
  },
  {
   "cell_type": "code",
   "outputs": [
    {
     "name": "stdout",
     "output_type": "stream",
     "text": [
      "Index(['start_time', 'end_time', 'start_frame', 'end_frame', 'length',\n",
      "       'source_spot', 'sink_spot', 'mean_ap_position', 'source_ap_position',\n",
      "       'sink_ap_position', 'initial_x', 'initial_y', 'final_x', 'final_y',\n",
      "       'initial_x_um', 'initial_y_um', 'final_x_um', 'final_y_um', 'track_id',\n",
      "       'mean_edge_distance', 'track_n_tracklets', 'cycle', 'embryo',\n",
      "       'tracklet_id', 'parent_tracklet', 'n_children', 'e_parent_id'],\n",
      "      dtype='object')\n",
      "Index(['Unnamed: 0', 'ID', 'track_id', 'tracklet_id', 'distance_from_edge',\n",
      "       'parent_id', 'daughter_id', 'roi', 'FRAME', 'POSITION_X', 'POSITION_Y',\n",
      "       'POSITION_Z', 'ELLIPSE_MAJOR', 'ELLIPSE_MINOR', 'ELLIPSE_THETA',\n",
      "       'ELLIPSE_Y0', 'ELLIPSE_X0', 'ELLIPSE_ASPECTRATIO', 'CIRCULARITY',\n",
      "       'AREA', 'SHAPE_INDEX', 'MEDIAN_INTENSITY_CH1', 'time', 'um_from_edge',\n",
      "       'um_x', 'um_y', 'ap_position', 'edge_position', 'track_n_tracklets',\n",
      "       'cycle'],\n",
      "      dtype='object')\n"
     ]
    }
   ],
   "source": [
    "print(tracklets_joined.columns)\n",
    "print(spots[roots[0]].columns)"
   ],
   "metadata": {
    "collapsed": false,
    "ExecuteTime": {
     "end_time": "2024-08-13T19:57:26.858672Z",
     "start_time": "2024-08-13T19:57:26.766100Z"
    }
   },
   "id": "a8435dfddc945e00",
   "execution_count": 7
  },
  {
   "cell_type": "markdown",
   "source": [
    "## 1. Division as a marker of progression"
   ],
   "metadata": {
    "collapsed": false
   },
   "id": "25c162ccd35c1ac0"
  },
  {
   "cell_type": "code",
   "outputs": [],
   "source": [
    "for root in roots:\n",
    "    fig, axes = plt.subplot_mosaic(\"AAAB\", figsize=(7, 4), sharey=True)\n",
    "    ax = axes[\"A\"]\n",
    "    data = tracklets_joined[tracklets_joined[\"embryo\"] == root]\n",
    "    data = data[data[\"track_n_tracklets\"]==31]\n",
    "    data = data[data[\"cycle\"] > 10]\n",
    "    data = data[data[\"sink_ap_position\"] > 0.5]\n",
    "    sns.scatterplot(data, y=\"start_frame\", x=\"sink_ap_position\", hue=\"cycle\", ax=ax, palette=blue_palette)\n",
    "    ax.invert_yaxis()\n",
    "    ax.set_title(root)\n",
    "    ax.set_xlabel(\"AP position\")\n",
    "    ax.set_ylabel(\"Start time (min)\")\n",
    "    ax = axes[\"B\"]\n",
    "    sns.kdeplot(data, y=\"start_frame\", hue=\"cycle\", ax=ax, palette=blue_palette, common_norm=False)\n",
    "    plt.savefig(plotpath / f\"{root}_division_start_timing.png\", dpi=300)\n",
    "    plt.close()"
   ],
   "metadata": {
    "collapsed": false,
    "ExecuteTime": {
     "end_time": "2024-08-14T20:39:38.068966Z",
     "start_time": "2024-08-14T20:39:35.984723Z"
    }
   },
   "id": "7e63c617c55d97db",
   "execution_count": 14
  },
  {
   "cell_type": "code",
   "outputs": [],
   "source": [
    "def jitter(values, jitter=0.5):\n",
    "    n = len(values)\n",
    "    return values + np.random.uniform(-jitter, jitter, n)\n",
    "\n",
    "for cycle in [11, 12, 13]:\n",
    "    fig, ax = plt.subplots(1, 1, figsize=(4, 4))\n",
    "    data = tracklets_joined[tracklets_joined[\"cycle\"] == cycle]\n",
    "    data = data[data[\"sink_ap_position\"] > 0.5]\n",
    "    data = data[data[\"track_n_tracklets\"] == 31]\n",
    "    sns.scatterplot(y=jitter(data[\"length\"], 0.02), x=data[\"sink_ap_position\"], hue=data[\"embryo\"], ax=ax, palette=blue_root_palette, s=6)\n",
    "    ax.set_title(f\"Cycle {cycle}\")\n",
    "    ax.set_xlabel(\"AP position\")\n",
    "    ax.set_ylabel(\"Length (min)\")\n",
    "    plt.savefig(plotpath / f\"cycle_{cycle}_length_vs_ap.png\", dpi=300)\n",
    "    plt.close()"
   ],
   "metadata": {
    "collapsed": false,
    "ExecuteTime": {
     "end_time": "2024-08-14T20:46:00.786666Z",
     "start_time": "2024-08-14T20:45:59.958769Z"
    }
   },
   "id": "9aa1d4e1d6a90f0d",
   "execution_count": 25
  },
  {
   "cell_type": "markdown",
   "source": [
    "## 2. Area and intensity as a marker of progression"
   ],
   "metadata": {
    "collapsed": false
   },
   "id": "a3ff8a397c4c81c"
  },
  {
   "cell_type": "code",
   "outputs": [
    {
     "name": "stdout",
     "output_type": "stream",
     "text": [
      "Root: embryo007, Cycle: 11, Number of spots: 3573\n",
      "Root: embryo007, Cycle: 12, Number of spots: 7332\n",
      "Root: embryo007, Cycle: 13, Number of spots: 21365\n",
      "Root: embryo008, Cycle: 11, Number of spots: 3002\n",
      "Root: embryo008, Cycle: 12, Number of spots: 7047\n",
      "Root: embryo008, Cycle: 13, Number of spots: 20462\n",
      "Root: embryo014a, Cycle: 11, Number of spots: 4227\n",
      "Root: embryo014a, Cycle: 12, Number of spots: 9963\n",
      "Root: embryo014a, Cycle: 13, Number of spots: 28724\n",
      "Root: embryo016, Cycle: 11, Number of spots: 6086\n",
      "Root: embryo016, Cycle: 12, Number of spots: 14651\n",
      "Root: embryo016, Cycle: 13, Number of spots: 45512\n",
      "Root: embryo018, Cycle: 11, Number of spots: 7347\n",
      "Root: embryo018, Cycle: 12, Number of spots: 17621\n",
      "Root: embryo018, Cycle: 13, Number of spots: 55265\n"
     ]
    }
   ],
   "source": [
    "ft_spots = {}\n",
    "\n",
    "for root in roots:\n",
    "    spot = spots[root]\n",
    "    ft_spot = spot[spot[\"track_n_tracklets\"] == 31].copy()\n",
    "    \n",
    "    rawfile = datapath / root / f\"{root}_MaxIP_bgs.tif\"\n",
    "    raw = tifffile.imread(rawfile)\n",
    "    shape = raw.shape\n",
    "    \n",
    "    ft_spot[\"intensity_mean\"] = np.nan\n",
    "    ft_spot[\"normed_intensity_mean\"] = np.nan\n",
    "    ft_spot[\"normed_area\"] = np.nan\n",
    "    \n",
    "    for cycle in [11, 12, 13]:\n",
    "        ft_cycle = ft_spot[ft_spot[\"cycle\"] == cycle].copy()\n",
    "        print(f\"Root: {root}, Cycle: {cycle}, Number of spots: {ft_cycle.shape[0]}\") \n",
    "        \n",
    "        for idx, spot in ft_cycle.iterrows():\n",
    "            x, y = spot[\"POSITION_X\"], spot[\"POSITION_Y\"]\n",
    "            t = round(spot[\"FRAME\"])\n",
    "            new_track_id = spot[\"track_id\"]\n",
    "            \n",
    "            roi = [float(pt.lstrip(\"[ \").rstrip(\"] \")) for pt in spot[\"roi\"].split(\",\")]\n",
    "        \n",
    "            xs = [round(pt + x) for pt in roi[::2]]\n",
    "            ys = [round(pt + y) for pt in roi[1::2]]\n",
    "        \n",
    "            rr, cc = polygon(ys, xs, shape[1:])\n",
    "            intensity_vals = raw[tuple([t] + [rr, cc])]\n",
    "            \n",
    "            ft_cycle.loc[idx, \"intensity_mean\"] = intensity_vals.mean()\n",
    "       \n",
    "        x = ft_cycle[\"intensity_mean\"]\n",
    "        ft_cycle[\"normed_intensity_mean\"] = (x - x.mean()) / x.std()\n",
    "        x = ft_cycle[\"AREA\"]\n",
    "        ft_cycle[\"normed_area\"] = (x - x.mean()) / x.std()\n",
    "        ft_spot[ft_spot[\"cycle\"] == cycle] = ft_cycle\n",
    "       \n",
    "    ft_spots[root] = ft_spot     "
   ],
   "metadata": {
    "collapsed": false,
    "ExecuteTime": {
     "end_time": "2024-08-14T21:08:50.240427Z",
     "start_time": "2024-08-14T21:07:22.153595Z"
    }
   },
   "id": "e2bcb85b3a342ce8",
   "execution_count": 33
  },
  {
   "cell_type": "code",
   "outputs": [
    {
     "name": "stdout",
     "output_type": "stream",
     "text": [
      "Index(['Unnamed: 0', 'ID', 'track_id', 'tracklet_id', 'distance_from_edge',\n",
      "       'parent_id', 'daughter_id', 'roi', 'FRAME', 'POSITION_X', 'POSITION_Y',\n",
      "       'POSITION_Z', 'ELLIPSE_MAJOR', 'ELLIPSE_MINOR', 'ELLIPSE_THETA',\n",
      "       'ELLIPSE_Y0', 'ELLIPSE_X0', 'ELLIPSE_ASPECTRATIO', 'CIRCULARITY',\n",
      "       'AREA', 'SHAPE_INDEX', 'MEDIAN_INTENSITY_CH1', 'time', 'um_from_edge',\n",
      "       'um_x', 'um_y', 'ap_position', 'edge_position', 'track_n_tracklets',\n",
      "       'cycle', 'intensity_mean', 'normed_intensity_mean', 'normed_area'],\n",
      "      dtype='object')\n",
      "{'name': 'embryo007', 'frames_per_minute': 4, 'pixels_per_um': 3, 'a_x': -20, 'a_y': 240, 'p_x': 1390, 'p_y': 806, 'h': 1360, 'w': 1360, 'n_divisions': 4, 'division_times': [0, 7, 53, 105, 182]}\n"
     ]
    }
   ],
   "source": [
    "print(ft_spots[roots[0]].columns)\n",
    "print(metadata[roots[0]])"
   ],
   "metadata": {
    "collapsed": false,
    "ExecuteTime": {
     "end_time": "2024-08-14T23:46:33.267529Z",
     "start_time": "2024-08-14T23:46:33.180323Z"
    }
   },
   "id": "1e1b3e05ac98e5b4",
   "execution_count": 67
  },
  {
   "cell_type": "code",
   "outputs": [],
   "source": [
    "def moving_avg(data, window=5):\n",
    "    return data.rolling(window=window, center=True).mean()\n",
    "\n",
    "def rate_of_change(data, window=5):\n",
    "    return data.rolling(window=window, center=True).mean().diff()"
   ],
   "metadata": {
    "collapsed": false,
    "ExecuteTime": {
     "end_time": "2024-08-14T21:22:20.350708Z",
     "start_time": "2024-08-14T21:22:20.262156Z"
    }
   },
   "id": "743764e2c7d9d47",
   "execution_count": 47
  },
  {
   "cell_type": "code",
   "outputs": [],
   "source": [
    "from collections import defaultdict\n",
    "root = roots[1]\n",
    "plot = False\n",
    "t_data = defaultdict(list)\n",
    "\n",
    "for root in roots:\n",
    "    for cycle in [11, 12, 13]:\n",
    "        fpm = metadata[root][\"frames_per_minute\"]\n",
    "        data = ft_spots[root].copy()\n",
    "        data = data[data[\"cycle\"] == cycle]\n",
    "        data[\"mv_area\"] = np.nan\n",
    "        data[\"mv_intensity\"] = np.nan\n",
    "        data[\"roc_area\"] = np.nan\n",
    "        data[\"roc_intensity\"] = np.nan\n",
    "        \n",
    "        \n",
    "        for tracklet in data[\"tracklet_id\"].unique():\n",
    "            if tracklet == 0:\n",
    "                continue\n",
    "            tracklet_data = data[data[\"tracklet_id\"] == tracklet].copy()\n",
    "            tracklet_data[\"mv_area\"] = moving_avg(tracklet_data[\"normed_area\"])\n",
    "            tracklet_data[\"mv_intensity\"] = moving_avg(tracklet_data[\"normed_intensity_mean\"])\n",
    "            tracklet_data[\"roc_area\"] = rate_of_change(tracklet_data[\"normed_area\"]) * fpm\n",
    "            tracklet_data[\"roc_intensity\"] = rate_of_change(tracklet_data[\"normed_intensity_mean\"]) * fpm\n",
    "            tracklet_data[\"dv\"] = np.sqrt(tracklet_data[\"roc_area\"]**2 + tracklet_data[\"roc_intensity\"]**2)\n",
    "            halfway = np.median(tracklet_data[\"time\"])\n",
    "            t_data[\"early_peak_time\"].append(tracklet_data.loc[tracklet_data[tracklet_data[\"time\"] < halfway][\"dv\"].idxmax(), \"time\"])\n",
    "            t_data[\"late_peak_time\"].append(tracklet_data.loc[tracklet_data[tracklet_data[\"time\"] > halfway][\"dv\"].idxmax(), \"time\"])\n",
    "            t_data[\"early_peak_ap_position\"].append(tracklet_data.loc[tracklet_data[tracklet_data[\"time\"] < halfway][\"dv\"].idxmax(), \"ap_position\"])\n",
    "            t_data[\"late_peak_ap_position\"].append(tracklet_data.loc[tracklet_data[tracklet_data[\"time\"] > halfway][\"dv\"].idxmax(), \"ap_position\"])\n",
    "            t_data[\"length\"].append(tracklet_data[\"time\"].max() - tracklet_data[\"time\"].min())\n",
    "            t_data[\"early_peak\"].append(tracklet_data[tracklet_data[\"time\"] < halfway][\"dv\"].max())\n",
    "            t_data[\"late_peak\"].append(tracklet_data[tracklet_data[\"time\"] > halfway][\"dv\"].max())\n",
    "            t_data[\"cycle\"].append(cycle)\n",
    "            t_data[\"root\"].append(root)\n",
    "\n",
    "            \n",
    "            data.loc[tracklet_data.index] = tracklet_data\n",
    "            \n",
    "        data[\"dv\"] = np.sqrt(data[\"roc_area\"]**2 + data[\"roc_intensity\"]**2)\n",
    "        if plot:\n",
    "            fig, ax = plt.subplots()\n",
    "            sns.scatterplot(data, x=\"mv_area\", y=\"mv_intensity\", hue=\"dv\", palette='gist_rainbow', s=(10 - (cycle - 10)*2))\n",
    "            plt.title(\"Progression speed\")\n",
    "            plt.ylabel(\"Intensity Z-Score\")\n",
    "            plt.xlabel(\"Area Z-score\")\n",
    "            plt.savefig(plotpath / f\"dv/{root}_{cycle}_dv.png\", dpi=300)\n",
    "            plt.close()\n",
    "            fig, ax = plt.subplots()\n",
    "            sns.lineplot(data=data[data[\"ap_position\"]>0.5], x=\"FRAME\", y=\"dv\", errorbar=\"sd\")\n",
    "            plt.title(\"Progression speed\")\n",
    "            plt.ylabel(\"dv\")\n",
    "            plt.xlabel(\"Time\")\n",
    "            plt.savefig(plotpath / f\"dv_over_time/{root}_{cycle}_dv_time2.png\", dpi=300)\n",
    "            plt.close()\n",
    "            \n",
    "t_data = pd.DataFrame(t_data)"
   ],
   "metadata": {
    "collapsed": false,
    "ExecuteTime": {
     "end_time": "2024-08-15T01:05:48.172982Z",
     "start_time": "2024-08-15T01:05:18.662094Z"
    }
   },
   "id": "b4f3dd4f8a419c34",
   "execution_count": 89
  },
  {
   "cell_type": "code",
   "outputs": [
    {
     "data": {
      "text/plain": "   early_peak_time  late_peak_time  early_peak_ap_position  \\\n0             5.75           10.00                0.078267   \n1             6.00           10.00                0.099984   \n2             2.25           10.75                0.647611   \n3             2.25           10.50                0.629888   \n4             5.50           10.50                0.525136   \n\n   late_peak_ap_position  length  early_peak  late_peak  cycle       root  \\\n0               0.096153    11.0    1.367411   1.919280     11  embryo007   \n1               0.107525    11.0    0.961500   1.929012     11  embryo007   \n2               0.667152    11.5    0.844270   2.008479     11  embryo007   \n3               0.639721    11.5    0.698279   2.283815     11  embryo007   \n4               0.530901    11.5    0.700453   1.984378     11  embryo007   \n\n   int_length  remainder  \n0        4.25       6.75  \n1        4.00       7.00  \n2        8.50       3.00  \n3        8.25       3.25  \n4        5.00       6.50  ",
      "text/html": "<div>\n<style scoped>\n    .dataframe tbody tr th:only-of-type {\n        vertical-align: middle;\n    }\n\n    .dataframe tbody tr th {\n        vertical-align: top;\n    }\n\n    .dataframe thead th {\n        text-align: right;\n    }\n</style>\n<table border=\"1\" class=\"dataframe\">\n  <thead>\n    <tr style=\"text-align: right;\">\n      <th></th>\n      <th>early_peak_time</th>\n      <th>late_peak_time</th>\n      <th>early_peak_ap_position</th>\n      <th>late_peak_ap_position</th>\n      <th>length</th>\n      <th>early_peak</th>\n      <th>late_peak</th>\n      <th>cycle</th>\n      <th>root</th>\n      <th>int_length</th>\n      <th>remainder</th>\n    </tr>\n  </thead>\n  <tbody>\n    <tr>\n      <th>0</th>\n      <td>5.75</td>\n      <td>10.00</td>\n      <td>0.078267</td>\n      <td>0.096153</td>\n      <td>11.0</td>\n      <td>1.367411</td>\n      <td>1.919280</td>\n      <td>11</td>\n      <td>embryo007</td>\n      <td>4.25</td>\n      <td>6.75</td>\n    </tr>\n    <tr>\n      <th>1</th>\n      <td>6.00</td>\n      <td>10.00</td>\n      <td>0.099984</td>\n      <td>0.107525</td>\n      <td>11.0</td>\n      <td>0.961500</td>\n      <td>1.929012</td>\n      <td>11</td>\n      <td>embryo007</td>\n      <td>4.00</td>\n      <td>7.00</td>\n    </tr>\n    <tr>\n      <th>2</th>\n      <td>2.25</td>\n      <td>10.75</td>\n      <td>0.647611</td>\n      <td>0.667152</td>\n      <td>11.5</td>\n      <td>0.844270</td>\n      <td>2.008479</td>\n      <td>11</td>\n      <td>embryo007</td>\n      <td>8.50</td>\n      <td>3.00</td>\n    </tr>\n    <tr>\n      <th>3</th>\n      <td>2.25</td>\n      <td>10.50</td>\n      <td>0.629888</td>\n      <td>0.639721</td>\n      <td>11.5</td>\n      <td>0.698279</td>\n      <td>2.283815</td>\n      <td>11</td>\n      <td>embryo007</td>\n      <td>8.25</td>\n      <td>3.25</td>\n    </tr>\n    <tr>\n      <th>4</th>\n      <td>5.50</td>\n      <td>10.50</td>\n      <td>0.525136</td>\n      <td>0.530901</td>\n      <td>11.5</td>\n      <td>0.700453</td>\n      <td>1.984378</td>\n      <td>11</td>\n      <td>embryo007</td>\n      <td>5.00</td>\n      <td>6.50</td>\n    </tr>\n  </tbody>\n</table>\n</div>"
     },
     "execution_count": 90,
     "metadata": {},
     "output_type": "execute_result"
    }
   ],
   "source": [
    "t_data[\"int_length\"] = t_data[\"late_peak_time\"] - t_data[\"early_peak_time\"]\n",
    "t_data[\"remainder\"] = t_data[\"length\"] - t_data[\"int_length\"]\n",
    "t_data.head()\n"
   ],
   "metadata": {
    "collapsed": false,
    "ExecuteTime": {
     "end_time": "2024-08-15T01:05:48.270601Z",
     "start_time": "2024-08-15T01:05:48.173981Z"
    }
   },
   "id": "7ef92b3342ce3879",
   "execution_count": 90
  },
  {
   "cell_type": "code",
   "outputs": [],
   "source": [
    "for root in roots:\n",
    "    for cycle in [11, 12, 13]:\n",
    "        fig, axes = plt.subplots(1, 2, figsize=(8, 4))\n",
    "        ax = axes[0]\n",
    "        data = t_data[t_data[\"root\"] == root]\n",
    "        data = data[data[\"cycle\"] == cycle]\n",
    "        data = data[data[\"early_peak_ap_position\"] > 0.5]\n",
    "        sns.scatterplot(data, x=\"early_peak_ap_position\", y=\"int_length\", hue=\"cycle\", palette=blue_palette, ax=ax)\n",
    "        ax.set_title(\"Interphase length\")\n",
    "        ax.set_xlabel(\"AP position\")\n",
    "        ax.set_ylabel(\"Interphase length (min)\")\n",
    "        \n",
    "        ax = axes[1]\n",
    "        sns.scatterplot(data, x=\"early_peak_ap_position\", y=\"remainder\", hue=\"cycle\", palette=blue_palette, ax=ax)\n",
    "        ax.set_title(\"Remaining length\")\n",
    "        ax.set_xlabel(\"AP position\")\n",
    "        ax.set_ylabel(\"remaining length (min)\")\n",
    "        plt.savefig(plotpath / f\"peak_timing/{root}_{cycle}_interphase_length.png\", dpi=300)\n",
    "        plt.close()\n"
   ],
   "metadata": {
    "collapsed": false,
    "ExecuteTime": {
     "end_time": "2024-08-15T01:12:33.274222Z",
     "start_time": "2024-08-15T01:12:27.700928Z"
    }
   },
   "id": "231471575f98d3af",
   "execution_count": 93
  },
  {
   "cell_type": "code",
   "outputs": [],
   "source": [],
   "metadata": {
    "collapsed": false
   },
   "id": "1d9376f1f232f70b"
  }
 ],
 "metadata": {
  "kernelspec": {
   "display_name": "Python 3",
   "language": "python",
   "name": "python3"
  },
  "language_info": {
   "codemirror_mode": {
    "name": "ipython",
    "version": 2
   },
   "file_extension": ".py",
   "mimetype": "text/x-python",
   "name": "python",
   "nbconvert_exporter": "python",
   "pygments_lexer": "ipython2",
   "version": "2.7.6"
  }
 },
 "nbformat": 4,
 "nbformat_minor": 5
}
