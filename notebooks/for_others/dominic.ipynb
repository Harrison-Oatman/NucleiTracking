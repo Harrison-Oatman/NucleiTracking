{
 "cells": [
  {
   "cell_type": "code",
   "execution_count": 1,
   "id": "initial_id",
   "metadata": {
    "collapsed": true,
    "ExecuteTime": {
     "end_time": "2024-09-05T16:05:10.091746Z",
     "start_time": "2024-09-05T16:05:10.017366Z"
    }
   },
   "outputs": [],
   "source": [
    "%load_ext autoreload\n",
    "%autoreload 2"
   ]
  },
  {
   "cell_type": "code",
   "outputs": [],
   "source": [
    "import pandas as pd\n",
    "import numpy as np\n",
    "from pathlib import Path\n",
    "import matplotlib.pyplot as plt\n",
    "import seaborn as sns\n",
    "from json import load\n",
    "import tifffile\n",
    "from tqdm import tqdm\n",
    "from skimage.draw import polygon\n",
    "from matplotlib import rcParams\n",
    "from glasbey import create_palette\n",
    "\n",
    "palette = {\n",
    "    \"green\": \"#558150\",\n",
    "    \"beige\": \"#F1E2C3\",\n",
    "    \"brown\": \"#A7785A\",\n",
    "    \"pink\": \"#F0D6C2\",\n",
    "    \"black\": \"#0E0E0E\",\n",
    "}\n",
    "\n",
    "rcParams['font.family'] = 'sans-serif'\n",
    "rcParams['figure.facecolor'] = \"#FFFFFF00\"\n",
    "rcParams['axes.facecolor'] = \"#FFFFFF00\"\n",
    "rcParams['legend.framealpha'] = 0.2\n",
    "rcParams['axes.edgecolor'] = palette[\"black\"]\n",
    "rcParams['axes.labelcolor'] = palette[\"black\"]\n",
    "rcParams['xtick.color'] = palette[\"black\"]\n",
    "rcParams['ytick.color'] = palette[\"black\"]\n",
    "rcParams['text.color'] = palette[\"black\"]\n",
    "rcParams['axes.titlecolor'] = palette[\"black\"]\n",
    "\n",
    "s_palette = sns.cubehelix_palette(as_cmap=True)\n",
    "pal = sns.color_palette(\"dark\")\n",
    "cpal = sns.cubehelix_palette(start=-0.25, rot=2, as_cmap=True)\n",
    "g_palette = create_palette(1024)"
   ],
   "metadata": {
    "collapsed": false,
    "ExecuteTime": {
     "end_time": "2024-09-05T16:05:14.675244Z",
     "start_time": "2024-09-05T16:05:10.092752Z"
    }
   },
   "id": "393057a048f35dbf",
   "execution_count": 2
  },
  {
   "cell_type": "code",
   "outputs": [],
   "source": [
    "from src.utils.tracklets import import_tracklets\n",
    "\n",
    "roots = [\"embryo007\", \"embryo008\", \"embryo014a\", \"embryo016\", \"embryo018\"]\n",
    "datapath = Path().cwd().parent.parent / \"data\" / \"interim\" / \"confocal\"\n",
    "plotpath = datapath / \"plots\"\n",
    "plotpath.mkdir(exist_ok=True)\n",
    "\n",
    "spots, tracklets, metadatas, tracklets_joined = import_tracklets(datapath, roots)"
   ],
   "metadata": {
    "collapsed": false,
    "ExecuteTime": {
     "end_time": "2024-09-05T16:05:29.446796Z",
     "start_time": "2024-09-05T16:05:18.025409Z"
    }
   },
   "id": "67e3fe24ade45623",
   "execution_count": 3
  },
  {
   "cell_type": "code",
   "outputs": [
    {
     "name": "stdout",
     "output_type": "stream",
     "text": [
      "Index(['start_time', 'end_time', 'start_frame', 'end_frame', 'length',\n",
      "       'source_spot', 'sink_spot', 'mean_ap_position', 'source_ap_position',\n",
      "       'sink_ap_position', 'initial_x', 'initial_y', 'final_x', 'final_y',\n",
      "       'initial_x_um', 'initial_y_um', 'final_x_um', 'final_y_um', 'track_id',\n",
      "       'mean_edge_distance', 'track_n_tracklets', 'cycle', 'embryo',\n",
      "       'tracklet_id', 'parent_tracklet', 'n_children', 'e_parent_id'],\n",
      "      dtype='object')\n"
     ]
    }
   ],
   "source": [
    "print(tracklets_joined.columns)"
   ],
   "metadata": {
    "collapsed": false,
    "ExecuteTime": {
     "end_time": "2024-09-05T16:27:15.507116Z",
     "start_time": "2024-09-05T16:27:15.410693Z"
    }
   },
   "id": "fa8353cbe589b135",
   "execution_count": 8
  },
  {
   "cell_type": "code",
   "outputs": [],
   "source": [
    "division_angles = {}\n",
    "\n",
    "for root in roots:    \n",
    "    division_angles[root] = pd.DataFrame()\n",
    "    \n",
    "    for cycle in range(11, 15):\n",
    "        # get tracklets for this cycle\n",
    "        r_tracklets = tracklets[root]\n",
    "        this_tracklets = r_tracklets[r_tracklets[\"cycle\"] == cycle]\n",
    "        \n",
    "        # for each parent that exists, initialize a list of child positions\n",
    "        source_pos = {tracklet: [] for tracklet in this_tracklets[~this_tracklets[\"parent_tracklet\"].isin([-1, 0])][\"parent_tracklet\"]}\n",
    "        children = {tracklet: [] for tracklet in source_pos.keys()}\n",
    "        \n",
    "        # assign each tracklets source position to its parent\n",
    "        x, y = this_tracklets.initial_x_um, this_tracklets.initial_y_um\n",
    "        for parent, this_x, this_y, id_ in zip(this_tracklets[\"parent_tracklet\"], x, y, this_tracklets[\"tracklet_id\"]):\n",
    "            if (parent == -1) or (parent == 0):\n",
    "                continue\n",
    "            source_pos[parent].append((this_x, this_y))\n",
    "            children[parent].append(id_)\n",
    "        \n",
    "        # remove parents that have the wrong number of children\n",
    "        source_pos = {tracklet: pos for tracklet, pos in source_pos.items() if len(pos) == 2}\n",
    "        \n",
    "        # find all tracklets in previous cycle, and remove the nonparents        \n",
    "        prev_tracklets = r_tracklets[r_tracklets[\"cycle\"] == cycle - 1]\n",
    "        prev_tracklets = prev_tracklets[prev_tracklets[\"tracklet_id\"].isin(source_pos.keys())]\n",
    "            \n",
    "        missing = [tracklet for tracklet in source_pos.keys() if tracklet not in prev_tracklets[\"tracklet_id\"]]\n",
    "        source_pos = {tracklet: pos for tracklet, pos in source_pos.items() if tracklet not in missing}\n",
    "        children = {tracklet: children[tracklet] for tracklet in source_pos.keys()}\n",
    "        \n",
    "        x = [prev_tracklets.loc[tracklet, \"final_x_um\"] for tracklet in source_pos.keys()]\n",
    "        y = [prev_tracklets.loc[tracklet, \"final_y_um\"] for tracklet in source_pos.keys()]\n",
    "        t = [prev_tracklets.loc[tracklet, \"end_time\"] for tracklet in source_pos.keys()]\n",
    "        cycle = [prev_tracklets.loc[tracklet, \"cycle\"] for tracklet in source_pos.keys()]\n",
    "        id_ = [prev_tracklets.loc[tracklet, \"tracklet_id\"] for tracklet in source_pos.keys()]\n",
    "        child1 = [children[tracklet][0] for tracklet in source_pos.keys()]\n",
    "        child2 = [children[tracklet][1] for tracklet in source_pos.keys()]\n",
    "        child1_x = [r_tracklets.loc[child, \"initial_x_um\"] for child in child1]\n",
    "        child1_y = [r_tracklets.loc[child, \"initial_y_um\"] for child in child1]\n",
    "        child2_x = [r_tracklets.loc[child, \"initial_x_um\"] for child in child2]\n",
    "        child2_y = [r_tracklets.loc[child, \"initial_y_um\"] for child in child2]\n",
    "        track_id = [r_tracklets.loc[tracklet, \"track_id\"] for tracklet in source_pos.keys()]\n",
    "        \n",
    "        div_angle = lambda pt1, pt2: np.arctan2(pt2[1] - pt1[1], pt2[0] - pt1[0])\n",
    "        angles = [div_angle(pts[0], pts[1]) for pts in source_pos.values()]\n",
    "        u = np.cos(angles)\n",
    "        v = np.sin(angles)\n",
    "        \n",
    "        df = pd.DataFrame({\n",
    "            \"tracklet_id\": id_,\n",
    "            \"track_id\": track_id,\n",
    "            \"cycle\": cycle,\n",
    "            \"x\": x,\n",
    "            \"y\": y,\n",
    "            \"t\": t,\n",
    "            \"child1\": child1,\n",
    "            \"child2\": child2,\n",
    "            \"child1_x\": child1_x,\n",
    "            \"child1_y\": child1_y,\n",
    "            \"child2_x\": child2_x,\n",
    "            \"child2_y\": child2_y,\n",
    "            \"angle\": angles,\n",
    "            \"u\": u,\n",
    "            \"v\": v,\n",
    "        })\n",
    "        \n",
    "        division_angles[root] = pd.concat([division_angles[root], df])\n",
    "    division_angles[root].to_csv(datapath / f\"{root}_division_angles.csv\", index=False)"
   ],
   "metadata": {
    "collapsed": false,
    "ExecuteTime": {
     "end_time": "2024-09-05T16:32:30.002753Z",
     "start_time": "2024-09-05T16:32:29.205799Z"
    }
   },
   "id": "8d7945f6ae3fb42c",
   "execution_count": 11
  },
  {
   "cell_type": "code",
   "outputs": [],
   "source": [
    "        \n",
    "        \n"
   ],
   "metadata": {
    "collapsed": false
   },
   "id": "b10cd757886074f3"
  }
 ],
 "metadata": {
  "kernelspec": {
   "display_name": "Python 3",
   "language": "python",
   "name": "python3"
  },
  "language_info": {
   "codemirror_mode": {
    "name": "ipython",
    "version": 2
   },
   "file_extension": ".py",
   "mimetype": "text/x-python",
   "name": "python",
   "nbconvert_exporter": "python",
   "pygments_lexer": "ipython2",
   "version": "2.7.6"
  }
 },
 "nbformat": 4,
 "nbformat_minor": 5
}
