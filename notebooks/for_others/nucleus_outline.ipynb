{
 "cells": [
  {
   "cell_type": "code",
   "execution_count": 1,
   "id": "initial_id",
   "metadata": {
    "collapsed": true,
    "ExecuteTime": {
     "end_time": "2025-01-02T19:22:12.149874Z",
     "start_time": "2025-01-02T19:22:12.058791Z"
    }
   },
   "outputs": [],
   "source": [
    "%load_ext autoreload\n",
    "%autoreload 2"
   ]
  },
  {
   "cell_type": "code",
   "outputs": [],
   "source": [
    "import pandas as pd\n",
    "import numpy as np\n",
    "from pathlib import Path\n",
    "import matplotlib.pyplot as plt\n",
    "import seaborn as sns\n",
    "from json import load\n",
    "import tifffile\n",
    "from tqdm import tqdm\n",
    "from skimage.draw import polygon\n",
    "from matplotlib import rcParams\n",
    "import glasbey\n",
    "\n",
    "palette = {\n",
    "    \"green\": \"#558150\",\n",
    "    \"beige\": \"#F1E2C3\",\n",
    "    \"brown\": \"#A7785A\",\n",
    "    \"pink\": \"#F0D6C2\",\n",
    "    \"black\": \"#0E0E0E\",\n",
    "}\n",
    "\n",
    "rcParams['font.family'] = 'sans-serif'\n",
    "rcParams['figure.facecolor'] = \"#FFFFFF00\"\n",
    "rcParams['axes.facecolor'] = \"#FFFFFF00\"\n",
    "rcParams['legend.framealpha'] = 0.2\n",
    "rcParams['axes.edgecolor'] = palette[\"black\"]\n",
    "rcParams['axes.labelcolor'] = palette[\"black\"]\n",
    "rcParams['xtick.color'] = palette[\"black\"]\n",
    "rcParams['ytick.color'] = palette[\"black\"]\n",
    "rcParams['text.color'] = palette[\"black\"]\n",
    "rcParams['axes.titlecolor'] = palette[\"black\"]\n",
    "\n",
    "s_palette = sns.cubehelix_palette(as_cmap=True)\n",
    "g_palette = glasbey.create_palette()\n",
    "blue_palette = sns.cubehelix_palette(5, rot=-.25, light=.7)"
   ],
   "metadata": {
    "collapsed": false,
    "ExecuteTime": {
     "end_time": "2025-01-02T19:22:16.570833Z",
     "start_time": "2025-01-02T19:22:12.150883Z"
    }
   },
   "id": "9cf61f2f33888650",
   "execution_count": 2
  },
  {
   "cell_type": "code",
   "outputs": [],
   "source": [
    "from src.utils.tracklets import import_tracklets\n",
    "\n",
    "roots = [\"embryo018\"]\n",
    "datapath = Path().cwd().parent / \"data\" / \"interim\" / \"confocal\"\n",
    "plotpath = datapath / \"plots\"\n",
    "plotpath.mkdir(exist_ok=True)\n",
    "\n",
    "spots, tracklets, metadata, tracklets_joined = import_tracklets(datapath, roots)"
   ],
   "metadata": {
    "collapsed": false,
    "ExecuteTime": {
     "end_time": "2025-01-02T19:22:21.240488Z",
     "start_time": "2025-01-02T19:22:16.571826Z"
    }
   },
   "id": "cf205d589e21e24",
   "execution_count": 3
  },
  {
   "cell_type": "code",
   "outputs": [
    {
     "name": "stdout",
     "output_type": "stream",
     "text": [
      "Index(['Unnamed: 0', 'ID', 'track_id', 'tracklet_id', 'distance_from_edge',\n",
      "       'parent_id', 'daughter_id', 'roi', 'FRAME', 'POSITION_X', 'POSITION_Y',\n",
      "       'POSITION_Z', 'ELLIPSE_MAJOR', 'ELLIPSE_MINOR', 'ELLIPSE_THETA',\n",
      "       'ELLIPSE_Y0', 'ELLIPSE_X0', 'ELLIPSE_ASPECTRATIO', 'CIRCULARITY',\n",
      "       'AREA', 'SHAPE_INDEX', 'MEDIAN_INTENSITY_CH1', 'time', 'um_from_edge',\n",
      "       'um_x', 'um_y', 'ap_position', 'track_n_tracklets', 'cycle',\n",
      "       'edge_position'],\n",
      "      dtype='object')\n",
      "Index(['start_time', 'end_time', 'start_frame', 'end_frame', 'length',\n",
      "       'source_spot', 'sink_spot', 'mean_ap_position', 'source_ap_position',\n",
      "       'sink_ap_position', 'initial_x', 'initial_y', 'final_x', 'final_y',\n",
      "       'initial_x_um', 'initial_y_um', 'final_x_um', 'final_y_um', 'track_id',\n",
      "       'mean_edge_distance', 'track_n_tracklets', 'cycle', 'embryo',\n",
      "       'tracklet_id', 'parent_tracklet', 'n_children', 'e_id', 'e_parent_id'],\n",
      "      dtype='object')\n"
     ]
    }
   ],
   "source": [
    "print(spots[roots[0]].columns)\n",
    "print(tracklets[roots[0]].columns)"
   ],
   "metadata": {
    "collapsed": false,
    "ExecuteTime": {
     "end_time": "2025-01-02T19:56:21.798459Z",
     "start_time": "2025-01-02T19:56:21.651673Z"
    }
   },
   "id": "97cbb3262f60282c",
   "execution_count": 41
  },
  {
   "cell_type": "code",
   "outputs": [],
   "source": [
    "root = \"embryo018\"\n",
    "raw_img = tifffile.imread(datapath / root / f\"{root}_MaxIP_bgs.tif\")\n",
    "first_frame = 81\n",
    "last_Frame = 167"
   ],
   "metadata": {
    "collapsed": false,
    "ExecuteTime": {
     "end_time": "2025-01-02T19:23:49.841087Z",
     "start_time": "2025-01-02T19:23:48.393512Z"
    }
   },
   "id": "83ec7d1a5a017fff",
   "execution_count": 5
  },
  {
   "cell_type": "code",
   "outputs": [
    {
     "name": "stderr",
     "output_type": "stream",
     "text": [
      "100%|██████████| 86/86 [00:03<00:00, 27.84it/s]\n"
     ]
    }
   ],
   "source": [
    "from cv2 import polylines, LINE_AA\n",
    "\n",
    "def make_outline_image(spots_df, raw, frame):\n",
    "    img = raw[frame]\n",
    "    img = np.stack([img, img, img], axis=-1).astype(np.uint8)\n",
    "    spots_frame = spots_df[spots_df[\"FRAME\"] == frame]\n",
    "    for i, spot in spots_frame.iterrows():\n",
    "        roi = spot[\"roi\"]\n",
    "        # convert string to list of floats\n",
    "        roi = [float(x) for x in roi[1:-1].split(\", \")]\n",
    "        roi_x = roi[::2]\n",
    "        roi_y = roi[1::2]\n",
    "        x_c, y_x = spot[\"POSITION_X\"], spot[\"POSITION_Y\"]\n",
    "        roi_x = [x + x_c for x in roi_x]\n",
    "        roi_x.append(roi_x[0])\n",
    "        roi_y = [y + y_x for y in roi_y]\n",
    "        roi_y.append(roi_y[0])\n",
    "        roi = np.reshape(np.round(np.stack([roi_x, roi_y], -1)), (1, -1, 2)).astype(np.int32)\n",
    "        polylines(img, roi, True, spot[\"cycle_12_color\"], 1, lineType=LINE_AA)\n",
    "    return img\n",
    "\n",
    "def assign_cycle_12_color(spots_df):\n",
    "    spots_df[\"cycle_12_id\"] = 0\n",
    "    spots_df[\"cycle_12_id\"] = (spots_df[\"cycle\"] == 11) * spots_df[\"tracklet_id\"]\n",
    "    spots_df[\"cycle_12_id\"] = spots_df[\"cycle_12_id\"] + (spots_df[\"cycle\"] == 12) * spots_df[\"parent_tracklet_id\"]\n",
    "    \n",
    "    g_palette = glasbey.create_palette(palette_size = len(spots_df[\"cycle_12_id\"].unique()), as_hex=False)\n",
    "    color_dict = dict(zip(spots_df[\"cycle_12_id\"].unique(), g_palette))\n",
    "    color_dict = {k: tuple(round(vi*255) for vi in v) for k, v in color_dict.items()}\n",
    "    spots_df[\"cycle_12_color\"] = spots_df[\"cycle_12_id\"].map(color_dict)\n",
    "    \n",
    "    return spots_df\n",
    "    \n",
    "    \n",
    "spots_df = spots[root].copy()\n",
    "tracklet = tracklets[root].copy()\n",
    "spots_df[\"parent_tracklet_id\"] = spots_df[\"tracklet_id\"].map(tracklet.set_index(\"tracklet_id\")[\"parent_tracklet\"])\n",
    "\n",
    "spots_df = assign_cycle_12_color(spots_df)\n",
    "\n",
    "# outlined = make_outline_image(spots_df, raw_img, 181)\n",
    "# \n",
    "# plt.figure(figsize=(10, 10))\n",
    "# plt.imshow(outlined)\n",
    "# plt.savefig(plotpath / \"nucleus_outline.png\", dpi=300)\n",
    "\n",
    "out_arr = []\n",
    "for i in tqdm(range(first_frame, last_Frame)):\n",
    "    out_arr.append(make_outline_image(spots_df, raw_img, i))\n",
    "    \n",
    "tifffile.imwrite(datapath / root / f\"{root}_nucleus_outline.tif\", np.stack(out_arr))"
   ],
   "metadata": {
    "collapsed": false,
    "ExecuteTime": {
     "end_time": "2025-01-02T20:04:14.629414Z",
     "start_time": "2025-01-02T20:04:10.326652Z"
    }
   },
   "id": "a913c354e230ed4f",
   "execution_count": 54
  }
 ],
 "metadata": {
  "kernelspec": {
   "display_name": "Python 3",
   "language": "python",
   "name": "python3"
  },
  "language_info": {
   "codemirror_mode": {
    "name": "ipython",
    "version": 2
   },
   "file_extension": ".py",
   "mimetype": "text/x-python",
   "name": "python",
   "nbconvert_exporter": "python",
   "pygments_lexer": "ipython2",
   "version": "2.7.6"
  }
 },
 "nbformat": 4,
 "nbformat_minor": 5
}
