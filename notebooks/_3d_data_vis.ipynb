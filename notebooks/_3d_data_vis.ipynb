{
 "cells": [
  {
   "cell_type": "code",
   "execution_count": 1,
   "id": "initial_id",
   "metadata": {
    "collapsed": true,
    "ExecuteTime": {
     "end_time": "2025-04-09T19:15:30.248308Z",
     "start_time": "2025-04-09T19:15:25.625626Z"
    }
   },
   "outputs": [],
   "source": [
    "%load_ext autoreload\n",
    "%autoreload 2\n",
    "import pandas as pd\n",
    "import numpy as np\n",
    "from pathlib import Path\n",
    "import matplotlib.pyplot as plt\n",
    "import seaborn as sns\n",
    "from json import load\n",
    "import tifffile\n",
    "from tqdm import tqdm\n",
    "from skimage.draw import polygon\n",
    "from matplotlib import rcParams\n",
    "from glasbey import create_palette\n",
    "import napari\n",
    "from scipy.spatial.distance import cdist\n",
    "from sklearn.decomposition import PCA\n",
    "\n",
    "palette = {\n",
    "    \"green\": \"#558150\",\n",
    "    \"beige\": \"#F1E2C3\",\n",
    "    \"brown\": \"#A7785A\",\n",
    "    \"pink\": \"#F0D6C2\",\n",
    "    \"black\": \"#0E0E0E\",\n",
    "}\n",
    "\n",
    "rcParams['font.family'] = 'sans-serif'\n",
    "rcParams['figure.facecolor'] = \"#FFFFFF00\"\n",
    "rcParams['axes.facecolor'] = \"#FFFFFF00\"\n",
    "rcParams['legend.framealpha'] = 0.2\n",
    "rcParams['axes.edgecolor'] = palette[\"black\"]\n",
    "rcParams['axes.labelcolor'] = palette[\"black\"]\n",
    "rcParams['xtick.color'] = palette[\"black\"]\n",
    "rcParams['ytick.color'] = palette[\"black\"]\n",
    "rcParams['text.color'] = palette[\"black\"]\n",
    "rcParams['axes.titlecolor'] = palette[\"black\"]\n",
    "\n",
    "s_palette = sns.cubehelix_palette(as_cmap=True)\n",
    "pal = sns.color_palette(\"dark\")\n",
    "cpal = sns.cubehelix_palette(start=-0.25, rot=2, as_cmap=True)\n",
    "g_palette = create_palette(2000)\n",
    "\n",
    "save_path = Path(r\"D:\\OneDrive - Princeton University\\Lab Meetings\\2025_04_14 Stas\\figures\")"
   ]
  },
  {
   "cell_type": "code",
   "outputs": [
    {
     "name": "stderr",
     "output_type": "stream",
     "text": [
      "  0%|          | 0/5942 [00:00<?, ?it/s]\n"
     ]
    },
    {
     "ename": "ValueError",
     "evalue": "too many values to unpack (expected 2)",
     "output_type": "error",
     "traceback": [
      "\u001B[1;31m---------------------------------------------------------------------------\u001B[0m",
      "\u001B[1;31mValueError\u001B[0m                                Traceback (most recent call last)",
      "Cell \u001B[1;32mIn[3], line 13\u001B[0m\n\u001B[0;32m     10\u001B[0m footprint \u001B[38;5;241m=\u001B[39m ball(\u001B[38;5;241m4\u001B[39m)\n\u001B[0;32m     11\u001B[0m labels \u001B[38;5;241m=\u001B[39m np\u001B[38;5;241m.\u001B[39mzeros(raw\u001B[38;5;241m.\u001B[39mshape, dtype\u001B[38;5;241m=\u001B[39m\u001B[38;5;28mint\u001B[39m)\n\u001B[1;32m---> 13\u001B[0m \u001B[38;5;28;01mfor\u001B[39;00m i, peak \u001B[38;5;129;01min\u001B[39;00m tqdm(peaks):\n\u001B[0;32m     14\u001B[0m     labels[peak[\u001B[38;5;241m0\u001B[39m] \u001B[38;5;241m-\u001B[39m \u001B[38;5;241m4\u001B[39m: peak[\u001B[38;5;241m0\u001B[39m] \u001B[38;5;241m+\u001B[39m \u001B[38;5;241m4\u001B[39m, peak[\u001B[38;5;241m1\u001B[39m] \u001B[38;5;241m-\u001B[39m \u001B[38;5;241m4\u001B[39m: peak[\u001B[38;5;241m1\u001B[39m] \u001B[38;5;241m+\u001B[39m \u001B[38;5;241m4\u001B[39m, peak[\u001B[38;5;241m2\u001B[39m] \u001B[38;5;241m-\u001B[39m \u001B[38;5;241m4\u001B[39m: peak[\u001B[38;5;241m2\u001B[39m] \u001B[38;5;241m+\u001B[39m \u001B[38;5;241m4\u001B[39m] \u001B[38;5;241m+\u001B[39m\u001B[38;5;241m=\u001B[39m footprint\u001B[38;5;241m*\u001B[39mi\n\u001B[0;32m     17\u001B[0m viewer \u001B[38;5;241m=\u001B[39m napari\u001B[38;5;241m.\u001B[39mViewer()\n",
      "\u001B[1;31mValueError\u001B[0m: too many values to unpack (expected 2)"
     ]
    }
   ],
   "source": [
    "raw = tifffile.imread(r\"D:\\Tracking\\NucleiTracking\\data\\interim\\lightsheet\\2025_03_21_trk\\recon\\recon_fused_tp_290_ch_0.tif\")\n",
    "\n",
    "from skimage.filters import difference_of_gaussians\n",
    "from skimage.feature import peak_local_max\n",
    "from skimage.morphology import ball\n",
    "\n",
    "dog = difference_of_gaussians(raw, 2, 6)\n",
    "peaks = peak_local_max(dog, min_distance=5, threshold_abs=35)\n",
    "\n"
   ],
   "metadata": {
    "collapsed": false,
    "ExecuteTime": {
     "end_time": "2025-04-09T19:25:25.553314Z",
     "start_time": "2025-04-09T19:25:13.213085Z"
    }
   },
   "id": "997263cfa3f1008d",
   "execution_count": 3
  },
  {
   "cell_type": "code",
   "outputs": [
    {
     "data": {
      "text/plain": "array([[255, 516, 296],\n       [270, 370, 274],\n       [254, 329, 282],\n       ...,\n       [168, 439, 337],\n       [ 78, 236, 233],\n       [269, 610, 248]], dtype=int64)"
     },
     "execution_count": 4,
     "metadata": {},
     "output_type": "execute_result"
    }
   ],
   "source": [
    "peaks"
   ],
   "metadata": {
    "collapsed": false,
    "ExecuteTime": {
     "end_time": "2025-04-09T19:25:35.611946Z",
     "start_time": "2025-04-09T19:25:35.452052Z"
    }
   },
   "id": "afd93fe59dbefe4b",
   "execution_count": 4
  },
  {
   "cell_type": "code",
   "outputs": [
    {
     "name": "stderr",
     "output_type": "stream",
     "text": [
      "5942it [00:00, 38575.69it/s]\n"
     ]
    }
   ],
   "source": [
    "g_palette = create_palette(2000, as_hex=False)\n",
    "\n",
    "\n",
    "k = 5\n",
    "\n",
    "footprint = ball(k)\n",
    "labels = np.zeros(raw.shape, dtype=int)\n",
    "\n",
    "for i, peak in tqdm(enumerate(peaks)):\n",
    "    try: \n",
    "        labels[peak[0] - k: peak[0] + k+1, peak[1] - k: peak[1] + k+1, peak[2] - k: peak[2] + k+1][footprint > 0] = i\n",
    "    except:\n",
    "        continue\n",
    "    \n",
    "colored = np.array(g_palette)[labels % 2000]\n",
    "colored[labels == 0] = 0\n",
    "\n"
   ],
   "metadata": {
    "collapsed": false,
    "ExecuteTime": {
     "end_time": "2025-04-09T20:12:21.472820Z",
     "start_time": "2025-04-09T20:12:13.622423Z"
    }
   },
   "id": "d98354cf8ae8f8de",
   "execution_count": 32
  },
  {
   "cell_type": "code",
   "outputs": [],
   "source": [
    "raw2 = raw * (raw > np.median(raw)*2) "
   ],
   "metadata": {
    "collapsed": false,
    "ExecuteTime": {
     "end_time": "2025-04-09T20:12:31.164471Z",
     "start_time": "2025-04-09T20:12:29.784910Z"
    }
   },
   "id": "ce2c074457778c8",
   "execution_count": 33
  },
  {
   "cell_type": "code",
   "outputs": [],
   "source": [
    "raw3ch = np.stack([raw]*3, axis=-1)\n",
    "ci = colored * raw3ch\n",
    "ci[labels == 0] = raw3ch[labels == 0] / 4"
   ],
   "metadata": {
    "collapsed": false,
    "ExecuteTime": {
     "end_time": "2025-04-09T20:16:47.018530Z",
     "start_time": "2025-04-09T20:16:31.359489Z"
    }
   },
   "id": "2e275daffeb1357",
   "execution_count": 39
  },
  {
   "cell_type": "code",
   "outputs": [],
   "source": [
    "viewer = napari.Viewer(ndisplay=3)\n",
    "viewer.add_image(ci, channel_axis=-1, colormap=['red', 'green', 'blue'])\n",
    "viewer.add_image(raw)\n",
    "# img = viewer.add_image(raw3ch, channel_axis=-1)\n",
    "napari.run()"
   ],
   "metadata": {
    "collapsed": false,
    "ExecuteTime": {
     "end_time": "2025-04-09T20:16:56.816663Z",
     "start_time": "2025-04-09T20:16:51.428039Z"
    }
   },
   "id": "d56dda05d1844f2f",
   "execution_count": 40
  }
 ],
 "metadata": {
  "kernelspec": {
   "display_name": "Python 3",
   "language": "python",
   "name": "python3"
  },
  "language_info": {
   "codemirror_mode": {
    "name": "ipython",
    "version": 2
   },
   "file_extension": ".py",
   "mimetype": "text/x-python",
   "name": "python",
   "nbconvert_exporter": "python",
   "pygments_lexer": "ipython2",
   "version": "2.7.6"
  }
 },
 "nbformat": 4,
 "nbformat_minor": 5
}
