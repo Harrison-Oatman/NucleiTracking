{
 "cells": [
  {
   "cell_type": "code",
   "execution_count": 2,
   "id": "initial_id",
   "metadata": {
    "collapsed": true,
    "ExecuteTime": {
     "end_time": "2024-08-18T00:25:18.130188Z",
     "start_time": "2024-08-18T00:25:18.040757Z"
    }
   },
   "outputs": [],
   "source": [
    "%load_ext autoreload\n",
    "%autoreload 2"
   ]
  },
  {
   "cell_type": "code",
   "outputs": [],
   "source": [
    "import pandas as pd\n",
    "import numpy as np\n",
    "from pathlib import Path\n",
    "import matplotlib.pyplot as plt\n",
    "import seaborn as sns\n",
    "from json import load\n",
    "import tifffile\n",
    "from tqdm import tqdm\n",
    "from skimage.draw import polygon\n",
    "from matplotlib import rcParams\n",
    "import glasbey\n",
    "\n",
    "palette = {\n",
    "    \"green\": \"#558150\",\n",
    "    \"beige\": \"#F1E2C3\",\n",
    "    \"brown\": \"#A7785A\",\n",
    "    \"pink\": \"#F0D6C2\",\n",
    "    \"black\": \"#0E0E0E\",\n",
    "}\n",
    "\n",
    "rcParams['font.family'] = 'sans-serif'\n",
    "rcParams['figure.facecolor'] = \"#FFFFFF00\"\n",
    "rcParams['axes.facecolor'] = \"#FFFFFF00\"\n",
    "rcParams['legend.framealpha'] = 0.2\n",
    "rcParams['axes.edgecolor'] = palette[\"black\"]\n",
    "rcParams['axes.labelcolor'] = palette[\"black\"]\n",
    "rcParams['xtick.color'] = palette[\"black\"]\n",
    "rcParams['ytick.color'] = palette[\"black\"]\n",
    "rcParams['text.color'] = palette[\"black\"]\n",
    "rcParams['axes.titlecolor'] = palette[\"black\"]\n",
    "\n",
    "s_palette = sns.cubehelix_palette(as_cmap=True)\n",
    "g_palette = glasbey.create_palette()\n",
    "cpal = sns.cubehelix_palette(start=-0.25, rot=2, as_cmap=True)\n",
    "blue_palette = sns.cubehelix_palette(as_cmap=True, rot=-.25, light=.7)\n",
    "blue_root_palette = sns.cubehelix_palette(5, rot=-.25, light=.7)"
   ],
   "metadata": {
    "collapsed": false,
    "ExecuteTime": {
     "end_time": "2024-08-18T00:25:23.269531Z",
     "start_time": "2024-08-18T00:25:18.458314Z"
    }
   },
   "id": "298f9cb034eefc15",
   "execution_count": 3
  },
  {
   "cell_type": "code",
   "outputs": [
    {
     "name": "stdout",
     "output_type": "stream",
     "text": [
      "{'T': 6, 'P': 50, 'C': 4, 'Y': 2720, 'X': 2720}\n",
      "['F8-1', 'F8-2', 'F8-3', 'F8-4', 'F8-5', 'F7-1', 'F7-2', 'F7-3', 'F7-4', 'F7-5', 'F1-1', 'F1-2', 'F1-3', 'F1-4', 'F1-5', 'F2-1', 'F2-2', 'F2-3', 'F2-4', 'F2-5', 'F3-1', 'F3-2', 'F3-3', 'F3-4', 'F3-5', 'F4-1', 'F4-2', 'F4-3', 'F4-4', 'F4-5', 'F5-1', 'F5-2', 'F5-3', 'F5-4', 'F5-5', 'F6-1', 'F6-2', 'F6-3', 'F6-4', 'F6-5', 'VKI-1', 'VKI-2', 'VKI-3', 'VKI-4', 'VKI-5', '4-5-1', '4-5-2', '4-5-3', '4-5-4', '4-5-5']\n"
     ]
    }
   ],
   "source": [
    "import nd2\n",
    "\n",
    "timecourse_path = Path(r\"D:\\Tracking\\Chetan\\Timecourse.nd2\")\n",
    "main_path = Path(r\"D:\\Tracking\\Chetan\")\n",
    "\n",
    "with nd2.ND2File(timecourse_path) as images:\n",
    "    # print(images.metadata)\n",
    "    print(images.sizes)\n",
    "    # print(images.experiment[0])\n",
    "    print([point.name for point in images.experiment[1].parameters.points])"
   ],
   "metadata": {
    "collapsed": false,
    "ExecuteTime": {
     "end_time": "2024-08-18T00:25:23.477342Z",
     "start_time": "2024-08-18T00:25:23.271540Z"
    }
   },
   "id": "6662bbd6291120fc",
   "execution_count": 4
  },
  {
   "cell_type": "code",
   "outputs": [
    {
     "name": "stderr",
     "output_type": "stream",
     "text": [
      "C:\\Users\\Harrison\\.conda\\envs\\linajea\\Lib\\site-packages\\dask\\base.py:1250: UserWarning: ND2File file not closed before garbage collection. Please use `with ND2File(...):` context or call `.close()`.\n",
      "  mod.loads(out, buffers=buffers)\n",
      "0it [00:00, ?it/s]"
     ]
    },
    {
     "name": "stdout",
     "output_type": "stream",
     "text": [
      "(6, 4, 2720, 2720)\n"
     ]
    },
    {
     "name": "stderr",
     "output_type": "stream",
     "text": [
      "1it [00:01,  1.00s/it]"
     ]
    },
    {
     "name": "stdout",
     "output_type": "stream",
     "text": [
      "(6, 4, 2720, 2720)\n"
     ]
    },
    {
     "name": "stderr",
     "output_type": "stream",
     "text": [
      "2it [00:01,  1.11it/s]"
     ]
    },
    {
     "name": "stdout",
     "output_type": "stream",
     "text": [
      "(6, 4, 2720, 2720)\n"
     ]
    },
    {
     "name": "stderr",
     "output_type": "stream",
     "text": [
      "3it [00:02,  1.23it/s]"
     ]
    },
    {
     "name": "stdout",
     "output_type": "stream",
     "text": [
      "(6, 4, 2720, 2720)\n"
     ]
    },
    {
     "name": "stderr",
     "output_type": "stream",
     "text": [
      "4it [00:03,  1.32it/s]"
     ]
    },
    {
     "name": "stdout",
     "output_type": "stream",
     "text": [
      "(6, 4, 2720, 2720)\n"
     ]
    },
    {
     "name": "stderr",
     "output_type": "stream",
     "text": [
      "5it [00:03,  1.35it/s]"
     ]
    },
    {
     "name": "stdout",
     "output_type": "stream",
     "text": [
      "(6, 4, 2720, 2720)\n"
     ]
    },
    {
     "name": "stderr",
     "output_type": "stream",
     "text": [
      "6it [00:04,  1.39it/s]"
     ]
    },
    {
     "name": "stdout",
     "output_type": "stream",
     "text": [
      "(6, 4, 2720, 2720)\n"
     ]
    },
    {
     "name": "stderr",
     "output_type": "stream",
     "text": [
      "7it [00:05,  1.42it/s]"
     ]
    },
    {
     "name": "stdout",
     "output_type": "stream",
     "text": [
      "(6, 4, 2720, 2720)\n"
     ]
    },
    {
     "name": "stderr",
     "output_type": "stream",
     "text": [
      "8it [00:05,  1.42it/s]"
     ]
    },
    {
     "name": "stdout",
     "output_type": "stream",
     "text": [
      "(6, 4, 2720, 2720)\n"
     ]
    },
    {
     "name": "stderr",
     "output_type": "stream",
     "text": [
      "9it [00:06,  1.43it/s]"
     ]
    },
    {
     "name": "stdout",
     "output_type": "stream",
     "text": [
      "(6, 4, 2720, 2720)\n"
     ]
    },
    {
     "name": "stderr",
     "output_type": "stream",
     "text": [
      "10it [00:07,  1.44it/s]"
     ]
    },
    {
     "name": "stdout",
     "output_type": "stream",
     "text": [
      "(6, 4, 2720, 2720)\n"
     ]
    },
    {
     "name": "stderr",
     "output_type": "stream",
     "text": [
      "11it [00:08,  1.44it/s]"
     ]
    },
    {
     "name": "stdout",
     "output_type": "stream",
     "text": [
      "(6, 4, 2720, 2720)\n"
     ]
    },
    {
     "name": "stderr",
     "output_type": "stream",
     "text": [
      "12it [00:08,  1.34it/s]"
     ]
    },
    {
     "name": "stdout",
     "output_type": "stream",
     "text": [
      "(6, 4, 2720, 2720)\n"
     ]
    },
    {
     "name": "stderr",
     "output_type": "stream",
     "text": [
      "13it [00:09,  1.37it/s]"
     ]
    },
    {
     "name": "stdout",
     "output_type": "stream",
     "text": [
      "(6, 4, 2720, 2720)\n"
     ]
    },
    {
     "name": "stderr",
     "output_type": "stream",
     "text": [
      "14it [00:10,  1.35it/s]"
     ]
    },
    {
     "name": "stdout",
     "output_type": "stream",
     "text": [
      "(6, 4, 2720, 2720)\n"
     ]
    },
    {
     "name": "stderr",
     "output_type": "stream",
     "text": [
      "15it [00:11,  1.35it/s]"
     ]
    },
    {
     "name": "stdout",
     "output_type": "stream",
     "text": [
      "(6, 4, 2720, 2720)\n"
     ]
    },
    {
     "name": "stderr",
     "output_type": "stream",
     "text": [
      "16it [00:11,  1.35it/s]"
     ]
    },
    {
     "name": "stdout",
     "output_type": "stream",
     "text": [
      "(6, 4, 2720, 2720)\n"
     ]
    },
    {
     "name": "stderr",
     "output_type": "stream",
     "text": [
      "17it [00:12,  1.30it/s]"
     ]
    },
    {
     "name": "stdout",
     "output_type": "stream",
     "text": [
      "(6, 4, 2720, 2720)\n"
     ]
    },
    {
     "name": "stderr",
     "output_type": "stream",
     "text": [
      "18it [00:13,  1.30it/s]"
     ]
    },
    {
     "name": "stdout",
     "output_type": "stream",
     "text": [
      "(6, 4, 2720, 2720)\n"
     ]
    },
    {
     "name": "stderr",
     "output_type": "stream",
     "text": [
      "19it [00:14,  1.32it/s]"
     ]
    },
    {
     "name": "stdout",
     "output_type": "stream",
     "text": [
      "(6, 4, 2720, 2720)\n"
     ]
    },
    {
     "name": "stderr",
     "output_type": "stream",
     "text": [
      "20it [00:14,  1.33it/s]"
     ]
    },
    {
     "name": "stdout",
     "output_type": "stream",
     "text": [
      "(6, 4, 2720, 2720)\n"
     ]
    },
    {
     "name": "stderr",
     "output_type": "stream",
     "text": [
      "21it [00:15,  1.22it/s]"
     ]
    },
    {
     "name": "stdout",
     "output_type": "stream",
     "text": [
      "(6, 4, 2720, 2720)\n"
     ]
    },
    {
     "name": "stderr",
     "output_type": "stream",
     "text": [
      "22it [00:16,  1.20it/s]"
     ]
    },
    {
     "name": "stdout",
     "output_type": "stream",
     "text": [
      "(6, 4, 2720, 2720)\n"
     ]
    },
    {
     "name": "stderr",
     "output_type": "stream",
     "text": [
      "23it [00:17,  1.17it/s]"
     ]
    },
    {
     "name": "stdout",
     "output_type": "stream",
     "text": [
      "(6, 4, 2720, 2720)\n"
     ]
    },
    {
     "name": "stderr",
     "output_type": "stream",
     "text": [
      "24it [00:18,  1.15it/s]"
     ]
    },
    {
     "name": "stdout",
     "output_type": "stream",
     "text": [
      "(6, 4, 2720, 2720)\n"
     ]
    },
    {
     "name": "stderr",
     "output_type": "stream",
     "text": [
      "25it [00:19,  1.16it/s]"
     ]
    },
    {
     "name": "stdout",
     "output_type": "stream",
     "text": [
      "(6, 4, 2720, 2720)\n"
     ]
    },
    {
     "name": "stderr",
     "output_type": "stream",
     "text": [
      "26it [00:20,  1.17it/s]"
     ]
    },
    {
     "name": "stdout",
     "output_type": "stream",
     "text": [
      "(6, 4, 2720, 2720)\n"
     ]
    },
    {
     "name": "stderr",
     "output_type": "stream",
     "text": [
      "27it [00:21,  1.15it/s]"
     ]
    },
    {
     "name": "stdout",
     "output_type": "stream",
     "text": [
      "(6, 4, 2720, 2720)\n"
     ]
    },
    {
     "name": "stderr",
     "output_type": "stream",
     "text": [
      "28it [00:22,  1.15it/s]"
     ]
    },
    {
     "name": "stdout",
     "output_type": "stream",
     "text": [
      "(6, 4, 2720, 2720)\n"
     ]
    },
    {
     "name": "stderr",
     "output_type": "stream",
     "text": [
      "29it [00:23,  1.01it/s]"
     ]
    },
    {
     "name": "stdout",
     "output_type": "stream",
     "text": [
      "(6, 4, 2720, 2720)\n"
     ]
    },
    {
     "name": "stderr",
     "output_type": "stream",
     "text": [
      "30it [00:24,  1.07s/it]"
     ]
    },
    {
     "name": "stdout",
     "output_type": "stream",
     "text": [
      "(6, 4, 2720, 2720)\n"
     ]
    },
    {
     "name": "stderr",
     "output_type": "stream",
     "text": [
      "31it [00:25,  1.07s/it]"
     ]
    },
    {
     "name": "stdout",
     "output_type": "stream",
     "text": [
      "(6, 4, 2720, 2720)\n"
     ]
    },
    {
     "name": "stderr",
     "output_type": "stream",
     "text": [
      "32it [00:26,  1.11s/it]"
     ]
    },
    {
     "name": "stdout",
     "output_type": "stream",
     "text": [
      "(6, 4, 2720, 2720)\n"
     ]
    },
    {
     "name": "stderr",
     "output_type": "stream",
     "text": [
      "33it [00:28,  1.18s/it]"
     ]
    },
    {
     "name": "stdout",
     "output_type": "stream",
     "text": [
      "(6, 4, 2720, 2720)\n"
     ]
    },
    {
     "name": "stderr",
     "output_type": "stream",
     "text": [
      "34it [00:29,  1.20s/it]"
     ]
    },
    {
     "name": "stdout",
     "output_type": "stream",
     "text": [
      "(6, 4, 2720, 2720)\n"
     ]
    },
    {
     "name": "stderr",
     "output_type": "stream",
     "text": [
      "35it [00:30,  1.22s/it]"
     ]
    },
    {
     "name": "stdout",
     "output_type": "stream",
     "text": [
      "(6, 4, 2720, 2720)\n"
     ]
    },
    {
     "name": "stderr",
     "output_type": "stream",
     "text": [
      "36it [00:31,  1.21s/it]"
     ]
    },
    {
     "name": "stdout",
     "output_type": "stream",
     "text": [
      "(6, 4, 2720, 2720)\n"
     ]
    },
    {
     "name": "stderr",
     "output_type": "stream",
     "text": [
      "37it [00:33,  1.22s/it]"
     ]
    },
    {
     "name": "stdout",
     "output_type": "stream",
     "text": [
      "(6, 4, 2720, 2720)\n"
     ]
    },
    {
     "name": "stderr",
     "output_type": "stream",
     "text": [
      "38it [00:34,  1.25s/it]"
     ]
    },
    {
     "name": "stdout",
     "output_type": "stream",
     "text": [
      "(6, 4, 2720, 2720)\n"
     ]
    },
    {
     "name": "stderr",
     "output_type": "stream",
     "text": [
      "39it [00:35,  1.24s/it]"
     ]
    },
    {
     "name": "stdout",
     "output_type": "stream",
     "text": [
      "(6, 4, 2720, 2720)\n"
     ]
    },
    {
     "name": "stderr",
     "output_type": "stream",
     "text": [
      "40it [00:36,  1.25s/it]"
     ]
    },
    {
     "name": "stdout",
     "output_type": "stream",
     "text": [
      "(6, 4, 2720, 2720)\n"
     ]
    },
    {
     "name": "stderr",
     "output_type": "stream",
     "text": [
      "41it [00:38,  1.25s/it]"
     ]
    },
    {
     "name": "stdout",
     "output_type": "stream",
     "text": [
      "(6, 4, 2720, 2720)\n"
     ]
    },
    {
     "name": "stderr",
     "output_type": "stream",
     "text": [
      "42it [00:39,  1.24s/it]"
     ]
    },
    {
     "name": "stdout",
     "output_type": "stream",
     "text": [
      "(6, 4, 2720, 2720)\n"
     ]
    },
    {
     "name": "stderr",
     "output_type": "stream",
     "text": [
      "43it [00:40,  1.24s/it]"
     ]
    },
    {
     "name": "stdout",
     "output_type": "stream",
     "text": [
      "(6, 4, 2720, 2720)\n"
     ]
    },
    {
     "name": "stderr",
     "output_type": "stream",
     "text": [
      "44it [00:41,  1.23s/it]"
     ]
    },
    {
     "name": "stdout",
     "output_type": "stream",
     "text": [
      "(6, 4, 2720, 2720)\n"
     ]
    },
    {
     "name": "stderr",
     "output_type": "stream",
     "text": [
      "45it [00:43,  1.24s/it]"
     ]
    },
    {
     "name": "stdout",
     "output_type": "stream",
     "text": [
      "(6, 4, 2720, 2720)\n"
     ]
    },
    {
     "name": "stderr",
     "output_type": "stream",
     "text": [
      "46it [00:44,  1.24s/it]"
     ]
    },
    {
     "name": "stdout",
     "output_type": "stream",
     "text": [
      "(6, 4, 2720, 2720)\n"
     ]
    },
    {
     "name": "stderr",
     "output_type": "stream",
     "text": [
      "47it [00:45,  1.23s/it]"
     ]
    },
    {
     "name": "stdout",
     "output_type": "stream",
     "text": [
      "(6, 4, 2720, 2720)\n"
     ]
    },
    {
     "name": "stderr",
     "output_type": "stream",
     "text": [
      "48it [00:46,  1.22s/it]"
     ]
    },
    {
     "name": "stdout",
     "output_type": "stream",
     "text": [
      "(6, 4, 2720, 2720)\n"
     ]
    },
    {
     "name": "stderr",
     "output_type": "stream",
     "text": [
      "49it [00:48,  1.23s/it]"
     ]
    },
    {
     "name": "stdout",
     "output_type": "stream",
     "text": [
      "(6, 4, 2720, 2720)\n"
     ]
    },
    {
     "name": "stderr",
     "output_type": "stream",
     "text": [
      "50it [00:49,  1.02it/s]\n"
     ]
    }
   ],
   "source": [
    "with nd2.ND2File(timecourse_path) as images:\n",
    "    arr = images.to_dask()\n",
    "    for i, point in tqdm(enumerate(images.experiment[1].parameters.points)):\n",
    "        outfile = main_path / \"446_locs\" / f\"point_{i:02d}_{point.name}_446_timecourse.tif\"\n",
    "        # print(arr[:, i].shape)\n",
    "        tifffile.imwrite(outfile, arr[:, i], imagej=True, metadata={\"axes\": \"TCYX\"})"
   ],
   "metadata": {
    "collapsed": false,
    "ExecuteTime": {
     "end_time": "2024-08-18T00:26:47.283126Z",
     "start_time": "2024-08-18T00:25:56.804228Z"
    }
   },
   "id": "70bea4cc8792a263",
   "execution_count": 6
  },
  {
   "cell_type": "code",
   "outputs": [
    {
     "ename": "IndexError",
     "evalue": "child index out of range",
     "output_type": "error",
     "traceback": [
      "\u001B[1;31m---------------------------------------------------------------------------\u001B[0m",
      "\u001B[1;31mIndexError\u001B[0m                                Traceback (most recent call last)",
      "Cell \u001B[1;32mIn[11], line 6\u001B[0m\n\u001B[0;32m      4\u001B[0m xml \u001B[38;5;241m=\u001B[39m ElementTree\u001B[38;5;241m.\u001B[39mparse(xml_path)\n\u001B[0;32m      5\u001B[0m root \u001B[38;5;241m=\u001B[39m xml\u001B[38;5;241m.\u001B[39mgetroot()\n\u001B[1;32m----> 6\u001B[0m \u001B[38;5;28mprint\u001B[39m(\u001B[43mroot\u001B[49m\u001B[43m[\u001B[49m\u001B[38;5;241;43m1\u001B[39;49m\u001B[43m]\u001B[49m[\u001B[38;5;241m1\u001B[39m]\u001B[38;5;241m.\u001B[39mtag)\n",
      "\u001B[1;31mIndexError\u001B[0m: child index out of range"
     ]
    }
   ],
   "source": [
    "from xml.etree import ElementTree\n",
    "\n",
    "xml_path = Path(r\"D:\\Tracking\\Chetan\\multipoints.xml\")\n",
    "xml = ElementTree.parse(xml_path)\n",
    "root = xml.getroot()\n",
    "print(root[0][1].tag)"
   ],
   "metadata": {
    "collapsed": false,
    "ExecuteTime": {
     "end_time": "2024-08-17T18:25:39.619933Z",
     "start_time": "2024-08-17T18:25:39.528068Z"
    }
   },
   "id": "2ee8bedbb8f50a71",
   "execution_count": 11
  },
  {
   "cell_type": "code",
   "outputs": [
    {
     "name": "stdout",
     "output_type": "stream",
     "text": [
      "4-5-1\n",
      "4-5-2\n",
      "4-5-3\n",
      "4-5-4\n",
      "4-5-5\n",
      "F8-1\n",
      "F8-2\n",
      "F8-3\n",
      "F8-4\n",
      "F8-5\n",
      "F7-1\n",
      "F7-2\n",
      "F7-3\n",
      "F7-4\n",
      "F7-5\n",
      "F1-1\n",
      "F1-2\n",
      "F1-3\n",
      "F1-4\n",
      "F1-5\n",
      "F2-1\n",
      "F2-2\n",
      "F2-3\n",
      "F2-4\n",
      "F2-5\n",
      "F3-1\n",
      "F3-2\n",
      "F3-3\n",
      "F3-4\n",
      "F3-5\n",
      "F4-1\n",
      "F4-2\n",
      "F4-3\n",
      "F4-4\n",
      "F4-5\n",
      "F5-1\n",
      "F5-2\n",
      "F5-3\n",
      "F5-4\n",
      "F5-5\n",
      "F6-1\n",
      "F6-2\n",
      "F6-3\n",
      "F6-4\n",
      "F6-5\n",
      "45\n",
      "_________________________\n"
     ]
    }
   ],
   "source": [
    "from collections import defaultdict\n",
    "counter = 0\n",
    "for child in root[0]:\n",
    "    if child.attrib[\"runtype\"] == \"NDSetupMultipointListItem\":\n",
    "        for c in child:\n",
    "            if c.tag == \"strName\":\n",
    "                \n",
    "                if c.attrib[\"value\"] != \"\":\n",
    "                    print(c.attrib[\"value\"])\n",
    "                    counter += 1\n",
    "                    \n",
    "print(counter)\n",
    "print(\"_________________________\")\n",
    "data = defaultdict(list)\n",
    "counter = 0\n",
    "for child in root[0]:\n",
    "    if child.attrib[\"runtype\"] == \"NDSetupMultipointListItem\":\n",
    "        for c in child:\n",
    "            data[c.tag].append(c.attrib[\"value\"])\n",
    "            \n",
    "        data[\"well\"].append(child[1].attrib[\"value\"][:2])\n",
    "            \n",
    "df = pd.DataFrame(data)\n"
   ],
   "metadata": {
    "collapsed": false,
    "ExecuteTime": {
     "end_time": "2024-08-17T22:39:33.530508Z",
     "start_time": "2024-08-17T22:39:33.440045Z"
    }
   },
   "id": "aa49ff86a80a83fe",
   "execution_count": 37
  },
  {
   "cell_type": "code",
   "outputs": [
    {
     "data": {
      "text/plain": "   bChecked strName  dXPosition  dYPosition            dZPosition  \\\n0     false            -49041.0     33235.5  4049.540000000000418   \n1     false            -48297.5     33235.5  4044.660000000000309   \n2     false            -48297.5     30082.5  4042.080000000000382   \n3     false            -48614.1     27565.6  4041.580000000000382   \n4     false            -50331.0     27364.3  4048.420000000000528   \n..      ...     ...         ...         ...                   ...   \n63    false            -49230.9     13330.6  4245.159999999999854   \n64    false            -45224.4      9127.6  3669.240000000000236   \n65    false            -49710.6     11482.9  3672.980000000000018   \n66    false            -53171.1     14726.1  3701.340000000000146   \n67    false            -52094.7     15334.7  3701.320000000000164   \n\n               dPFSOffset baUserData well  \n0   17974.000000000000000                  \n1   17896.000000000000000                  \n2   17896.000000000000000                  \n3   17896.000000000000000                  \n4   17896.000000000000000                  \n..                    ...        ...  ...  \n63  17828.000000000000000                  \n64  17869.000000000000000                  \n65  17919.000000000000000                  \n66     -1.000000000000000                  \n67  17761.000000000000000                  \n\n[68 rows x 8 columns]",
      "text/html": "<div>\n<style scoped>\n    .dataframe tbody tr th:only-of-type {\n        vertical-align: middle;\n    }\n\n    .dataframe tbody tr th {\n        vertical-align: top;\n    }\n\n    .dataframe thead th {\n        text-align: right;\n    }\n</style>\n<table border=\"1\" class=\"dataframe\">\n  <thead>\n    <tr style=\"text-align: right;\">\n      <th></th>\n      <th>bChecked</th>\n      <th>strName</th>\n      <th>dXPosition</th>\n      <th>dYPosition</th>\n      <th>dZPosition</th>\n      <th>dPFSOffset</th>\n      <th>baUserData</th>\n      <th>well</th>\n    </tr>\n  </thead>\n  <tbody>\n    <tr>\n      <th>0</th>\n      <td>false</td>\n      <td></td>\n      <td>-49041.0</td>\n      <td>33235.5</td>\n      <td>4049.540000000000418</td>\n      <td>17974.000000000000000</td>\n      <td></td>\n      <td></td>\n    </tr>\n    <tr>\n      <th>1</th>\n      <td>false</td>\n      <td></td>\n      <td>-48297.5</td>\n      <td>33235.5</td>\n      <td>4044.660000000000309</td>\n      <td>17896.000000000000000</td>\n      <td></td>\n      <td></td>\n    </tr>\n    <tr>\n      <th>2</th>\n      <td>false</td>\n      <td></td>\n      <td>-48297.5</td>\n      <td>30082.5</td>\n      <td>4042.080000000000382</td>\n      <td>17896.000000000000000</td>\n      <td></td>\n      <td></td>\n    </tr>\n    <tr>\n      <th>3</th>\n      <td>false</td>\n      <td></td>\n      <td>-48614.1</td>\n      <td>27565.6</td>\n      <td>4041.580000000000382</td>\n      <td>17896.000000000000000</td>\n      <td></td>\n      <td></td>\n    </tr>\n    <tr>\n      <th>4</th>\n      <td>false</td>\n      <td></td>\n      <td>-50331.0</td>\n      <td>27364.3</td>\n      <td>4048.420000000000528</td>\n      <td>17896.000000000000000</td>\n      <td></td>\n      <td></td>\n    </tr>\n    <tr>\n      <th>...</th>\n      <td>...</td>\n      <td>...</td>\n      <td>...</td>\n      <td>...</td>\n      <td>...</td>\n      <td>...</td>\n      <td>...</td>\n      <td>...</td>\n    </tr>\n    <tr>\n      <th>63</th>\n      <td>false</td>\n      <td></td>\n      <td>-49230.9</td>\n      <td>13330.6</td>\n      <td>4245.159999999999854</td>\n      <td>17828.000000000000000</td>\n      <td></td>\n      <td></td>\n    </tr>\n    <tr>\n      <th>64</th>\n      <td>false</td>\n      <td></td>\n      <td>-45224.4</td>\n      <td>9127.6</td>\n      <td>3669.240000000000236</td>\n      <td>17869.000000000000000</td>\n      <td></td>\n      <td></td>\n    </tr>\n    <tr>\n      <th>65</th>\n      <td>false</td>\n      <td></td>\n      <td>-49710.6</td>\n      <td>11482.9</td>\n      <td>3672.980000000000018</td>\n      <td>17919.000000000000000</td>\n      <td></td>\n      <td></td>\n    </tr>\n    <tr>\n      <th>66</th>\n      <td>false</td>\n      <td></td>\n      <td>-53171.1</td>\n      <td>14726.1</td>\n      <td>3701.340000000000146</td>\n      <td>-1.000000000000000</td>\n      <td></td>\n      <td></td>\n    </tr>\n    <tr>\n      <th>67</th>\n      <td>false</td>\n      <td></td>\n      <td>-52094.7</td>\n      <td>15334.7</td>\n      <td>3701.320000000000164</td>\n      <td>17761.000000000000000</td>\n      <td></td>\n      <td></td>\n    </tr>\n  </tbody>\n</table>\n<p>68 rows × 8 columns</p>\n</div>"
     },
     "execution_count": 38,
     "metadata": {},
     "output_type": "execute_result"
    }
   ],
   "source": [
    "df[\"dXPosition\"] = df[\"dXPosition\"].astype(float)\n",
    "df[\"dYPosition\"] = df[\"dYPosition\"].astype(float)\n",
    "df"
   ],
   "metadata": {
    "collapsed": false,
    "ExecuteTime": {
     "end_time": "2024-08-17T22:39:35.760075Z",
     "start_time": "2024-08-17T22:39:35.668319Z"
    }
   },
   "id": "70d6d0861d1a7c4",
   "execution_count": 38
  },
  {
   "cell_type": "code",
   "outputs": [
    {
     "data": {
      "text/plain": "<Figure size 640x480 with 1 Axes>",
      "image/png": "[encoded data removed]"
     },
     "metadata": {
      "needs_background": "light"
     },
     "output_type": "display_data"
    }
   ],
   "source": [
    "sns.scatterplot(df[df[\"bChecked\"]==\"true\"], x=\"dXPosition\", y=\"dYPosition\", hue=\"well\")\n",
    "plt.show()"
   ],
   "metadata": {
    "collapsed": false,
    "ExecuteTime": {
     "end_time": "2024-08-17T22:42:14.635300Z",
     "start_time": "2024-08-17T22:42:14.354773Z"
    }
   },
   "id": "478bf1db78eeb99f",
   "execution_count": 40
  },
  {
   "cell_type": "code",
   "outputs": [],
   "source": [],
   "metadata": {
    "collapsed": false
   },
   "id": "cfb5d1dc585362c"
  }
 ],
 "metadata": {
  "kernelspec": {
   "display_name": "Python 3",
   "language": "python",
   "name": "python3"
  },
  "language_info": {
   "codemirror_mode": {
    "name": "ipython",
    "version": 2
   },
   "file_extension": ".py",
   "mimetype": "text/x-python",
   "name": "python",
   "nbconvert_exporter": "python",
   "pygments_lexer": "ipython2",
   "version": "2.7.6"
  }
 },
 "nbformat": 4,
 "nbformat_minor": 5
}
