{
 "cells": [
  {
   "cell_type": "code",
   "outputs": [],
   "source": [
    "%load_ext autoreload\n",
    "%autoreload 2"
   ],
   "metadata": {
    "collapsed": false,
    "ExecuteTime": {
     "end_time": "2025-02-19T09:26:33.458326Z",
     "start_time": "2025-02-19T09:26:33.348322Z"
    }
   },
   "id": "41102a39ae42a4a1",
   "execution_count": 1
  },
  {
   "cell_type": "code",
   "outputs": [],
   "source": [
    "import napari\n",
    "from napari.utils.theme import available_themes, get_theme, register_theme\n",
    "import numpy as np\n",
    "import skimage\n",
    "from skimage.filters import threshold_local, gaussian\n",
    "from skimage.morphology import label\n",
    "import tifffile"
   ],
   "metadata": {
    "collapsed": false,
    "ExecuteTime": {
     "end_time": "2025-02-19T09:30:40.456501Z",
     "start_time": "2025-02-19T09:30:39.953410Z"
    }
   },
   "id": "9fea78a090a6a3b8",
   "execution_count": 7
  },
  {
   "cell_type": "code",
   "outputs": [],
   "source": [
    "raw = tifffile.imread(r\"D:\\Tracking\\NucleiTracking\\data\\interim\\lightsheet\\2025_02_06\\recon\\test2\\recon_fused_tp_160_ch_0.tif\") "
   ],
   "metadata": {
    "collapsed": false,
    "ExecuteTime": {
     "end_time": "2025-02-19T09:28:42.198815Z",
     "start_time": "2025-02-19T09:28:41.731838Z"
    }
   },
   "id": "5dc2dbe488bf723a",
   "execution_count": 4
  },
  {
   "cell_type": "code",
   "outputs": [],
   "source": [
    "smooth = gaussian(raw, 1.5)\n",
    "thresh = threshold_local(smooth, 15, offset=-25)\n",
    "threshed = (raw > thresh) * (smooth > thresh)\n",
    "threshed = threshed * (smooth > 180)\n",
    "regions = label(threshed)\n",
    "\n",
    "viewer = napari.Viewer()\n",
    "viewer.add_image(smooth)\n",
    "viewer.add_image(raw)\n",
    "viewer.add_labels(regions)\n",
    "napari.run()"
   ],
   "metadata": {
    "collapsed": false,
    "ExecuteTime": {
     "end_time": "2025-02-19T09:41:29.493646Z",
     "start_time": "2025-02-19T09:41:22.749939Z"
    }
   },
   "id": "f690dd54a9e89dcf",
   "execution_count": 17
  }
 ],
 "metadata": {
  "kernelspec": {
   "display_name": "Python 3",
   "language": "python",
   "name": "python3"
  },
  "language_info": {
   "codemirror_mode": {
    "name": "ipython",
    "version": 2
   },
   "file_extension": ".py",
   "mimetype": "text/x-python",
   "name": "python",
   "nbconvert_exporter": "python",
   "pygments_lexer": "ipython2",
   "version": "2.7.6"
  }
 },
 "nbformat": 4,
 "nbformat_minor": 5
}
