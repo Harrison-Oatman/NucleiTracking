{
 "cells": [
  {
   "cell_type": "code",
   "execution_count": 1,
   "id": "initial_id",
   "metadata": {
    "collapsed": true,
    "ExecuteTime": {
     "end_time": "2024-12-07T06:06:09.339453Z",
     "start_time": "2024-12-07T06:06:09.266455Z"
    }
   },
   "outputs": [],
   "source": [
    "%load_ext autoreload\n",
    "%autoreload 2"
   ]
  },
  {
   "cell_type": "code",
   "outputs": [],
   "source": [
    "import pandas as pd\n",
    "import numpy as np\n",
    "from pathlib import Path\n",
    "import matplotlib.pyplot as plt\n",
    "import seaborn as sns\n",
    "from json import load\n",
    "import tifffile\n",
    "from tqdm import tqdm\n",
    "from skimage.draw import polygon\n",
    "from matplotlib import rcParams\n",
    "from glasbey import create_palette\n",
    "\n",
    "palette = {\n",
    "    \"green\": \"#558150\",\n",
    "    \"beige\": \"#F1E2C3\",\n",
    "    \"brown\": \"#A7785A\",\n",
    "    \"pink\": \"#F0D6C2\",\n",
    "    \"black\": \"#0E0E0E\",\n",
    "}\n",
    "\n",
    "rcParams['font.family'] = 'sans-serif'\n",
    "rcParams['figure.facecolor'] = \"#FFFFFF00\"\n",
    "rcParams['axes.facecolor'] = \"#FFFFFF00\"\n",
    "rcParams['legend.framealpha'] = 0.2\n",
    "rcParams['axes.edgecolor'] = palette[\"black\"]\n",
    "rcParams['axes.labelcolor'] = palette[\"black\"]\n",
    "rcParams['xtick.color'] = palette[\"black\"]\n",
    "rcParams['ytick.color'] = palette[\"black\"]\n",
    "rcParams['text.color'] = palette[\"black\"]\n",
    "rcParams['axes.titlecolor'] = palette[\"black\"]\n",
    "\n",
    "s_palette = sns.cubehelix_palette(as_cmap=True)\n",
    "pal = sns.color_palette(\"dark\")\n",
    "cpal = sns.cubehelix_palette(start=-0.25, rot=2, as_cmap=True)\n",
    "g_palette = create_palette(8000)"
   ],
   "metadata": {
    "collapsed": false,
    "ExecuteTime": {
     "end_time": "2024-12-07T07:04:59.412831Z",
     "start_time": "2024-12-07T07:04:56.278809Z"
    }
   },
   "id": "5ecb398e08032768",
   "execution_count": 27
  },
  {
   "cell_type": "code",
   "outputs": [],
   "source": [
    "points = pd.read_csv(r\"D:\\Tracking\\NucleiTracking\\data\\interim\\lightsheet\\2024_11_04\\recon2\\dog_lo3_hi5.csv\")\n",
    "tracked_points = pd.read_csv(r\"D:\\Tracking\\NucleiTracking\\data\\interim\\lightsheet\\2024_11_04\\recon2\\recon_fused_tp_181_ch_0_allspots.csv\", skiprows=[1, 2, 3], encoding = \"ISO-8859-1\")\n",
    "save_path = Path(r\"D:\\Tracking\\NucleiTracking\\data\\interim\\lightsheet\\2024_11_04\\recon2\")"
   ],
   "metadata": {
    "collapsed": false,
    "ExecuteTime": {
     "end_time": "2024-12-07T07:22:56.012058Z",
     "start_time": "2024-12-07T07:22:55.394016Z"
    }
   },
   "id": "d2b1e456970f0c48",
   "execution_count": 42
  },
  {
   "cell_type": "code",
   "outputs": [
    {
     "data": {
      "text/plain": "            LABEL       ID  TRACK_ID     QUALITY  POSITION_X  POSITION_Y  \\\n0       ID1132785  1132785      79.0  175.529080       326.0       357.0   \n1       ID1132784  1132784      81.0  176.668700       335.0       437.0   \n2       ID1132787  1132787      80.0  173.581600       330.0       408.0   \n3       ID1132786  1132786     697.0  175.125610       247.0       424.0   \n4       ID1132789  1132789      46.0  170.628660       130.0       218.0   \n...           ...      ...       ...         ...         ...         ...   \n397657  ID1530412  1530412       NaN   25.753143       264.0       382.0   \n397658  ID1530411  1530411   10101.0   25.769623       283.0       297.0   \n397659  ID1530410  1530410    9417.0   25.791718        87.0        87.0   \n397660  ID1530409  1530409       NaN   25.793304       228.0       448.0   \n397661  ID1530408  1530408       NaN   25.814209       284.0       444.0   \n\n        POSITION_Z  POSITION_T  FRAME  RADIUS  VISIBILITY  MANUAL_SPOT_COLOR  \n0            234.0         0.0      0     5.0           1                NaN  \n1            220.0         0.0      0     5.0           1                NaN  \n2            235.0         0.0      0     5.0           1                NaN  \n3             57.0         0.0      0     5.0           1                NaN  \n4             55.0         0.0      0     5.0           1                NaN  \n...            ...         ...    ...     ...         ...                ...  \n397657       273.0       150.0    150     5.0           1                NaN  \n397658       244.0       150.0    150     5.0           1                NaN  \n397659       165.0       150.0    150     5.0           1                NaN  \n397660       289.0       150.0    150     5.0           1                NaN  \n397661       241.0       150.0    150     5.0           1                NaN  \n\n[397662 rows x 12 columns]",
      "text/html": "<div>\n<style scoped>\n    .dataframe tbody tr th:only-of-type {\n        vertical-align: middle;\n    }\n\n    .dataframe tbody tr th {\n        vertical-align: top;\n    }\n\n    .dataframe thead th {\n        text-align: right;\n    }\n</style>\n<table border=\"1\" class=\"dataframe\">\n  <thead>\n    <tr style=\"text-align: right;\">\n      <th></th>\n      <th>LABEL</th>\n      <th>ID</th>\n      <th>TRACK_ID</th>\n      <th>QUALITY</th>\n      <th>POSITION_X</th>\n      <th>POSITION_Y</th>\n      <th>POSITION_Z</th>\n      <th>POSITION_T</th>\n      <th>FRAME</th>\n      <th>RADIUS</th>\n      <th>VISIBILITY</th>\n      <th>MANUAL_SPOT_COLOR</th>\n    </tr>\n  </thead>\n  <tbody>\n    <tr>\n      <th>0</th>\n      <td>ID1132785</td>\n      <td>1132785</td>\n      <td>79.0</td>\n      <td>175.529080</td>\n      <td>326.0</td>\n      <td>357.0</td>\n      <td>234.0</td>\n      <td>0.0</td>\n      <td>0</td>\n      <td>5.0</td>\n      <td>1</td>\n      <td>NaN</td>\n    </tr>\n    <tr>\n      <th>1</th>\n      <td>ID1132784</td>\n      <td>1132784</td>\n      <td>81.0</td>\n      <td>176.668700</td>\n      <td>335.0</td>\n      <td>437.0</td>\n      <td>220.0</td>\n      <td>0.0</td>\n      <td>0</td>\n      <td>5.0</td>\n      <td>1</td>\n      <td>NaN</td>\n    </tr>\n    <tr>\n      <th>2</th>\n      <td>ID1132787</td>\n      <td>1132787</td>\n      <td>80.0</td>\n      <td>173.581600</td>\n      <td>330.0</td>\n      <td>408.0</td>\n      <td>235.0</td>\n      <td>0.0</td>\n      <td>0</td>\n      <td>5.0</td>\n      <td>1</td>\n      <td>NaN</td>\n    </tr>\n    <tr>\n      <th>3</th>\n      <td>ID1132786</td>\n      <td>1132786</td>\n      <td>697.0</td>\n      <td>175.125610</td>\n      <td>247.0</td>\n      <td>424.0</td>\n      <td>57.0</td>\n      <td>0.0</td>\n      <td>0</td>\n      <td>5.0</td>\n      <td>1</td>\n      <td>NaN</td>\n    </tr>\n    <tr>\n      <th>4</th>\n      <td>ID1132789</td>\n      <td>1132789</td>\n      <td>46.0</td>\n      <td>170.628660</td>\n      <td>130.0</td>\n      <td>218.0</td>\n      <td>55.0</td>\n      <td>0.0</td>\n      <td>0</td>\n      <td>5.0</td>\n      <td>1</td>\n      <td>NaN</td>\n    </tr>\n    <tr>\n      <th>...</th>\n      <td>...</td>\n      <td>...</td>\n      <td>...</td>\n      <td>...</td>\n      <td>...</td>\n      <td>...</td>\n      <td>...</td>\n      <td>...</td>\n      <td>...</td>\n      <td>...</td>\n      <td>...</td>\n      <td>...</td>\n    </tr>\n    <tr>\n      <th>397657</th>\n      <td>ID1530412</td>\n      <td>1530412</td>\n      <td>NaN</td>\n      <td>25.753143</td>\n      <td>264.0</td>\n      <td>382.0</td>\n      <td>273.0</td>\n      <td>150.0</td>\n      <td>150</td>\n      <td>5.0</td>\n      <td>1</td>\n      <td>NaN</td>\n    </tr>\n    <tr>\n      <th>397658</th>\n      <td>ID1530411</td>\n      <td>1530411</td>\n      <td>10101.0</td>\n      <td>25.769623</td>\n      <td>283.0</td>\n      <td>297.0</td>\n      <td>244.0</td>\n      <td>150.0</td>\n      <td>150</td>\n      <td>5.0</td>\n      <td>1</td>\n      <td>NaN</td>\n    </tr>\n    <tr>\n      <th>397659</th>\n      <td>ID1530410</td>\n      <td>1530410</td>\n      <td>9417.0</td>\n      <td>25.791718</td>\n      <td>87.0</td>\n      <td>87.0</td>\n      <td>165.0</td>\n      <td>150.0</td>\n      <td>150</td>\n      <td>5.0</td>\n      <td>1</td>\n      <td>NaN</td>\n    </tr>\n    <tr>\n      <th>397660</th>\n      <td>ID1530409</td>\n      <td>1530409</td>\n      <td>NaN</td>\n      <td>25.793304</td>\n      <td>228.0</td>\n      <td>448.0</td>\n      <td>289.0</td>\n      <td>150.0</td>\n      <td>150</td>\n      <td>5.0</td>\n      <td>1</td>\n      <td>NaN</td>\n    </tr>\n    <tr>\n      <th>397661</th>\n      <td>ID1530408</td>\n      <td>1530408</td>\n      <td>NaN</td>\n      <td>25.814209</td>\n      <td>284.0</td>\n      <td>444.0</td>\n      <td>241.0</td>\n      <td>150.0</td>\n      <td>150</td>\n      <td>5.0</td>\n      <td>1</td>\n      <td>NaN</td>\n    </tr>\n  </tbody>\n</table>\n<p>397662 rows × 12 columns</p>\n</div>"
     },
     "execution_count": 43,
     "metadata": {},
     "output_type": "execute_result"
    }
   ],
   "source": [
    "tracked_points"
   ],
   "metadata": {
    "collapsed": false,
    "ExecuteTime": {
     "end_time": "2024-12-07T07:22:58.177470Z",
     "start_time": "2024-12-07T07:22:58.054098Z"
    }
   },
   "id": "f885e7aca5b9facc",
   "execution_count": 43
  },
  {
   "cell_type": "code",
   "outputs": [],
   "source": [
    "import plotly.express as px\n",
    "\n",
    "xrange = [points['x'].max(), points['x'].min()]\n",
    "yrange = [points['y'].max(), points['y'].min()]\n",
    "\n",
    "fig = px.scatter_3d(points, x='x', y='y', z='z', color='val', range_x=xrange, range_y=yrange, animation_frame=\"frame\")\n",
    "fig.update_traces(marker=dict(size=5))\n",
    "\n",
    "fig.write_html(save_path / \"dog_lo3_hi5.html\")\n",
    "\n",
    "fig = px.scatter_3d(tracked_points, x='POSITION_X', y='POSITION_Y', z='POSITION_Z', color='TRACK_ID', range_x=[0, 100], range_y=yrange, animation_frame=\"FRAME\", color_continuous_scale=g_palette, range_color=[0, 8000])\n",
    "\n",
    "# draw axes in proportion to the proportion of their ranges\n",
    "fig.update_layout(scene=dict(aspectmode='manual', aspectratio=dict(x=1, y=points['y'].max()/100, z=points['z'].max()/100)))\n",
    "\n",
    "fig.update_traces(marker=dict(size=5, colorscale=g_palette))\n",
    "\n",
    "fig.write_html(save_path / \"tracked_allspots.html\")\n",
    "    "
   ],
   "metadata": {
    "collapsed": false,
    "ExecuteTime": {
     "end_time": "2024-12-07T07:23:03.347769Z",
     "start_time": "2024-12-07T07:23:00.578153Z"
    }
   },
   "id": "d8a0224923734876",
   "execution_count": 44
  }
 ],
 "metadata": {
  "kernelspec": {
   "display_name": "Python 3",
   "language": "python",
   "name": "python3"
  },
  "language_info": {
   "codemirror_mode": {
    "name": "ipython",
    "version": 2
   },
   "file_extension": ".py",
   "mimetype": "text/x-python",
   "name": "python",
   "nbconvert_exporter": "python",
   "pygments_lexer": "ipython2",
   "version": "2.7.6"
  }
 },
 "nbformat": 4,
 "nbformat_minor": 5
}
