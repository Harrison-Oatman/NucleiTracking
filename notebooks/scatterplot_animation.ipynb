{
 "cells": [
  {
   "cell_type": "code",
   "execution_count": 75,
   "id": "initial_id",
   "metadata": {
    "collapsed": true,
    "ExecuteTime": {
     "end_time": "2025-02-25T19:13:23.355545Z",
     "start_time": "2025-02-25T19:13:23.189356Z"
    }
   },
   "outputs": [
    {
     "name": "stdout",
     "output_type": "stream",
     "text": [
      "The autoreload extension is already loaded. To reload it, use:\n",
      "  %reload_ext autoreload\n"
     ]
    }
   ],
   "source": [
    "%load_ext autoreload\n",
    "%autoreload 2"
   ]
  },
  {
   "cell_type": "code",
   "outputs": [],
   "source": [
    "import pandas as pd\n",
    "import numpy as np\n",
    "from pathlib import Path\n",
    "import matplotlib.pyplot as plt\n",
    "import seaborn as sns\n",
    "from json import load\n",
    "import tifffile\n",
    "from tqdm import tqdm\n",
    "from skimage.draw import polygon\n",
    "from matplotlib import rcParams\n",
    "from glasbey import create_palette\n",
    "\n",
    "palette = {\n",
    "    \"green\": \"#558150\",\n",
    "    \"beige\": \"#F1E2C3\",\n",
    "    \"brown\": \"#A7785A\",\n",
    "    \"pink\": \"#F0D6C2\",\n",
    "    \"black\": \"#0E0E0E\",\n",
    "}\n",
    "\n",
    "rcParams['font.family'] = 'sans-serif'\n",
    "rcParams['figure.facecolor'] = \"#FFFFFF00\"\n",
    "rcParams['axes.facecolor'] = \"#FFFFFF00\"\n",
    "rcParams['legend.framealpha'] = 0.2\n",
    "rcParams['axes.edgecolor'] = palette[\"black\"]\n",
    "rcParams['axes.labelcolor'] = palette[\"black\"]\n",
    "rcParams['xtick.color'] = palette[\"black\"]\n",
    "rcParams['ytick.color'] = palette[\"black\"]\n",
    "rcParams['text.color'] = palette[\"black\"]\n",
    "rcParams['axes.titlecolor'] = palette[\"black\"]\n",
    "\n",
    "s_palette = sns.cubehelix_palette(as_cmap=True)\n",
    "pal = sns.color_palette(\"dark\")\n",
    "cpal = sns.cubehelix_palette(start=-0.25, rot=2, as_cmap=True)\n",
    "g_palette = create_palette(8000)"
   ],
   "metadata": {
    "collapsed": false,
    "ExecuteTime": {
     "end_time": "2025-02-25T19:13:26.557775Z",
     "start_time": "2025-02-25T19:13:23.358555Z"
    }
   },
   "id": "5ecb398e08032768",
   "execution_count": 76
  },
  {
   "cell_type": "code",
   "outputs": [],
   "source": [
    "source_path = Path(r\"D:\\Tracking\\NucleiTracking\\data\\interim\\lightsheet\\2025_02_06\\recon\")\n",
    "tracked_points_path = source_path / \"trackedspots.xml\"\n",
    "save_path = source_path / \"test_out\"\n",
    "save_path.mkdir(exist_ok=True)"
   ],
   "metadata": {
    "collapsed": false,
    "ExecuteTime": {
     "end_time": "2025-02-25T19:13:26.731923Z",
     "start_time": "2025-02-25T19:13:26.558772Z"
    }
   },
   "id": "d2b1e456970f0c48",
   "execution_count": 77
  },
  {
   "cell_type": "code",
   "outputs": [],
   "source": [
    "from src.utils.process_trackmate import process_trackmate_tree\n",
    "from lxml import etree\n",
    "\n",
    "tree = etree.parse(str(tracked_points_path))\n",
    "spots_df, graph = process_trackmate_tree(tree)\n",
    "\n",
    "print(len(list(graph.nodes)))\n",
    "\n",
    "spots_df[\"track_id\"] = spots_df[\"track_id\"].astype(int)\n",
    "plt.hist(spots_df.groupby(\"track_id\")[\"FRAME\"].min(), bins=100)\n",
    "print(spots_df[\"FRAME\"].max())\n",
    "plt.show()"
   ],
   "metadata": {
    "collapsed": false,
    "ExecuteTime": {
     "start_time": "2025-02-25T20:22:43.790606Z"
    }
   },
   "id": "eb2461a6a0e2a973",
   "execution_count": null
  },
  {
   "cell_type": "code",
   "outputs": [
    {
     "name": "stdout",
     "output_type": "stream",
     "text": [
      "ID                       object\n",
      "STD_INTENSITY_CH1       float64\n",
      "QUALITY                 float64\n",
      "POSITION_T              float64\n",
      "MIN_INTENSITY_CH1       float64\n",
      "TOTAL_INTENSITY_CH1     float64\n",
      "CONTRAST_CH1            float64\n",
      "SNR_CH1                 float64\n",
      "FRAME                   float64\n",
      "MEDIAN_INTENSITY_CH1    float64\n",
      "VISIBILITY              float64\n",
      "RADIUS                  float64\n",
      "POSITION_X              float64\n",
      "POSITION_Y              float64\n",
      "MEAN_INTENSITY_CH1      float64\n",
      "POSITION_Z              float64\n",
      "MAX_INTENSITY_CH1       float64\n",
      "track_id                  int32\n",
      "position_cluster          int64\n",
      "distance_from_edge      float64\n",
      "dtype: object\n",
      "<class 'numpy.int64'>\n"
     ]
    }
   ],
   "source": [
    "# spots_df.set_index(\"ID\")\n",
    "# spots_df[\"ID\"] = spots_df.index\n",
    "spots_df\n",
    "print(spots_df.dtypes)\n",
    "print(type(spots_df.index[0]))\n",
    "# print(np.all(spots_df.index == spots_df[\"ID\"]))"
   ],
   "metadata": {
    "collapsed": false,
    "ExecuteTime": {
     "end_time": "2025-02-25T19:14:02.149209Z",
     "start_time": "2025-02-25T19:14:01.980236Z"
    }
   },
   "id": "ca80408b18c1bd6f",
   "execution_count": 79
  },
  {
   "cell_type": "code",
   "outputs": [],
   "source": [
    "from src.models.division_tracking3d import interpolate_tracklets, merge_close_tracklets, quick_tracklets\n",
    "\n",
    "# print(graph)\n",
    "# \n",
    "# print(spots_df.index)\n",
    "# spots_df, graph = interpolate_tracklets(spots_df, graph)\n",
    "# \n",
    "# spots_df[\"track_id\"] = spots_df[\"track_id\"].astype(int)\n",
    "# tracklets = quick_tracklets(spots_df)\n",
    "# \n",
    "# \n",
    "# spots_df, graph = merge_close_tracklets(tracklets, spots_df, graph)"
   ],
   "metadata": {
    "collapsed": false,
    "ExecuteTime": {
     "end_time": "2025-02-25T19:14:02.312647Z",
     "start_time": "2025-02-25T19:14:02.152204Z"
    }
   },
   "id": "8d85c3c182aecffb",
   "execution_count": 80
  },
  {
   "cell_type": "code",
   "outputs": [
    {
     "data": {
      "text/plain": "            ID  STD_INTENSITY_CH1  QUALITY  POSITION_T  MIN_INTENSITY_CH1  \\\n0            0          19.370740      1.0         0.0         166.647247   \n1            1           2.134906      1.0         0.0         124.594231   \n2            2           0.000000      1.0         0.0           0.000000   \n5            5           0.766262      1.0         0.0         108.055588   \n6            6           0.000000      1.0         0.0           0.000000   \n...        ...                ...      ...         ...                ...   \n457597  457595           0.000000      1.0         0.0           0.000000   \n457598  457592           0.000000      1.0         0.0           0.000000   \n457599  457593           0.000000      1.0         0.0           0.000000   \n457600  457600           0.000000      1.0         0.0           0.000000   \n457601  457601           0.000000      1.0         0.0           0.000000   \n\n        TOTAL_INTENSITY_CH1  CONTRAST_CH1   SNR_CH1  FRAME  \\\n0              34599.974838      0.021264  0.456340    0.0   \n1              21006.755234     -0.001967 -0.237967    0.0   \n2                  0.000000           NaN       NaN    0.0   \n5              18001.689148     -0.002175 -0.628248    0.0   \n6                  0.000000           NaN       NaN    0.0   \n...                     ...           ...       ...    ...   \n457597             0.000000           NaN       NaN  268.0   \n457598             0.000000           NaN       NaN  268.0   \n457599             0.000000           NaN       NaN  268.0   \n457600             0.000000           NaN       NaN  268.0   \n457601             0.000000           NaN       NaN  268.0   \n\n        MEDIAN_INTENSITY_CH1  VISIBILITY    RADIUS  POSITION_X  POSITION_Y  \\\n0                 213.001617         1.0  1.460033  162.405797  136.101449   \n1                 128.608551         1.0  1.460033  177.875000  236.208333   \n2                   0.000000         1.0  1.460033  285.256410  298.179487   \n5                 110.368652         1.0  1.460033   98.224138  559.534483   \n6                   0.000000         1.0  1.460033   91.354167  607.000000   \n...                      ...         ...       ...         ...         ...   \n457597              0.000000         1.0  1.460033  252.898305   98.706897   \n457598              0.000000         1.0  1.460033  250.100962  867.833868   \n457599              0.000000         1.0  1.460033  247.000000  872.233333   \n457600              0.000000         1.0  1.460033  251.391667   93.411458   \n457601              0.000000         1.0  1.460033  249.741573   96.835526   \n\n        MEAN_INTENSITY_CH1  POSITION_Z  MAX_INTENSITY_CH1  track_id  \\\n0               212.269784   80.000000         260.418182         0   \n1               128.875799   43.000000         135.257507         0   \n2                 0.000000  101.000000           0.000000         0   \n5               110.439811   51.000000         113.468903         0   \n6                 0.000000   66.000000           0.000000         4   \n...                    ...         ...                ...       ...   \n457597            0.000000  169.759156           0.000000      6122   \n457598            0.000000  261.023810           0.000000      6444   \n457599            0.000000  279.116667           0.000000      6521   \n457600            0.000000  209.543750           0.000000       649   \n457601            0.000000  225.337374           0.000000      4329   \n\n        position_cluster  distance_from_edge  \n0                      0           93.767160  \n1                      0          119.208733  \n2                      0           21.508628  \n5                      0           72.499995  \n6                      0           63.742842  \n...                  ...                 ...  \n457597                 0            5.107837  \n457598                 0            3.668241  \n457599                 0            4.539573  \n457600                 0            3.975129  \n457601                 0            7.029918  \n\n[436876 rows x 20 columns]",
      "text/html": "<div>\n<style scoped>\n    .dataframe tbody tr th:only-of-type {\n        vertical-align: middle;\n    }\n\n    .dataframe tbody tr th {\n        vertical-align: top;\n    }\n\n    .dataframe thead th {\n        text-align: right;\n    }\n</style>\n<table border=\"1\" class=\"dataframe\">\n  <thead>\n    <tr style=\"text-align: right;\">\n      <th></th>\n      <th>ID</th>\n      <th>STD_INTENSITY_CH1</th>\n      <th>QUALITY</th>\n      <th>POSITION_T</th>\n      <th>MIN_INTENSITY_CH1</th>\n      <th>TOTAL_INTENSITY_CH1</th>\n      <th>CONTRAST_CH1</th>\n      <th>SNR_CH1</th>\n      <th>FRAME</th>\n      <th>MEDIAN_INTENSITY_CH1</th>\n      <th>VISIBILITY</th>\n      <th>RADIUS</th>\n      <th>POSITION_X</th>\n      <th>POSITION_Y</th>\n      <th>MEAN_INTENSITY_CH1</th>\n      <th>POSITION_Z</th>\n      <th>MAX_INTENSITY_CH1</th>\n      <th>track_id</th>\n      <th>position_cluster</th>\n      <th>distance_from_edge</th>\n    </tr>\n  </thead>\n  <tbody>\n    <tr>\n      <th>0</th>\n      <td>0</td>\n      <td>19.370740</td>\n      <td>1.0</td>\n      <td>0.0</td>\n      <td>166.647247</td>\n      <td>34599.974838</td>\n      <td>0.021264</td>\n      <td>0.456340</td>\n      <td>0.0</td>\n      <td>213.001617</td>\n      <td>1.0</td>\n      <td>1.460033</td>\n      <td>162.405797</td>\n      <td>136.101449</td>\n      <td>212.269784</td>\n      <td>80.000000</td>\n      <td>260.418182</td>\n      <td>0</td>\n      <td>0</td>\n      <td>93.767160</td>\n    </tr>\n    <tr>\n      <th>1</th>\n      <td>1</td>\n      <td>2.134906</td>\n      <td>1.0</td>\n      <td>0.0</td>\n      <td>124.594231</td>\n      <td>21006.755234</td>\n      <td>-0.001967</td>\n      <td>-0.237967</td>\n      <td>0.0</td>\n      <td>128.608551</td>\n      <td>1.0</td>\n      <td>1.460033</td>\n      <td>177.875000</td>\n      <td>236.208333</td>\n      <td>128.875799</td>\n      <td>43.000000</td>\n      <td>135.257507</td>\n      <td>0</td>\n      <td>0</td>\n      <td>119.208733</td>\n    </tr>\n    <tr>\n      <th>2</th>\n      <td>2</td>\n      <td>0.000000</td>\n      <td>1.0</td>\n      <td>0.0</td>\n      <td>0.000000</td>\n      <td>0.000000</td>\n      <td>NaN</td>\n      <td>NaN</td>\n      <td>0.0</td>\n      <td>0.000000</td>\n      <td>1.0</td>\n      <td>1.460033</td>\n      <td>285.256410</td>\n      <td>298.179487</td>\n      <td>0.000000</td>\n      <td>101.000000</td>\n      <td>0.000000</td>\n      <td>0</td>\n      <td>0</td>\n      <td>21.508628</td>\n    </tr>\n    <tr>\n      <th>5</th>\n      <td>5</td>\n      <td>0.766262</td>\n      <td>1.0</td>\n      <td>0.0</td>\n      <td>108.055588</td>\n      <td>18001.689148</td>\n      <td>-0.002175</td>\n      <td>-0.628248</td>\n      <td>0.0</td>\n      <td>110.368652</td>\n      <td>1.0</td>\n      <td>1.460033</td>\n      <td>98.224138</td>\n      <td>559.534483</td>\n      <td>110.439811</td>\n      <td>51.000000</td>\n      <td>113.468903</td>\n      <td>0</td>\n      <td>0</td>\n      <td>72.499995</td>\n    </tr>\n    <tr>\n      <th>6</th>\n      <td>6</td>\n      <td>0.000000</td>\n      <td>1.0</td>\n      <td>0.0</td>\n      <td>0.000000</td>\n      <td>0.000000</td>\n      <td>NaN</td>\n      <td>NaN</td>\n      <td>0.0</td>\n      <td>0.000000</td>\n      <td>1.0</td>\n      <td>1.460033</td>\n      <td>91.354167</td>\n      <td>607.000000</td>\n      <td>0.000000</td>\n      <td>66.000000</td>\n      <td>0.000000</td>\n      <td>4</td>\n      <td>0</td>\n      <td>63.742842</td>\n    </tr>\n    <tr>\n      <th>...</th>\n      <td>...</td>\n      <td>...</td>\n      <td>...</td>\n      <td>...</td>\n      <td>...</td>\n      <td>...</td>\n      <td>...</td>\n      <td>...</td>\n      <td>...</td>\n      <td>...</td>\n      <td>...</td>\n      <td>...</td>\n      <td>...</td>\n      <td>...</td>\n      <td>...</td>\n      <td>...</td>\n      <td>...</td>\n      <td>...</td>\n      <td>...</td>\n      <td>...</td>\n    </tr>\n    <tr>\n      <th>457597</th>\n      <td>457595</td>\n      <td>0.000000</td>\n      <td>1.0</td>\n      <td>0.0</td>\n      <td>0.000000</td>\n      <td>0.000000</td>\n      <td>NaN</td>\n      <td>NaN</td>\n      <td>268.0</td>\n      <td>0.000000</td>\n      <td>1.0</td>\n      <td>1.460033</td>\n      <td>252.898305</td>\n      <td>98.706897</td>\n      <td>0.000000</td>\n      <td>169.759156</td>\n      <td>0.000000</td>\n      <td>6122</td>\n      <td>0</td>\n      <td>5.107837</td>\n    </tr>\n    <tr>\n      <th>457598</th>\n      <td>457592</td>\n      <td>0.000000</td>\n      <td>1.0</td>\n      <td>0.0</td>\n      <td>0.000000</td>\n      <td>0.000000</td>\n      <td>NaN</td>\n      <td>NaN</td>\n      <td>268.0</td>\n      <td>0.000000</td>\n      <td>1.0</td>\n      <td>1.460033</td>\n      <td>250.100962</td>\n      <td>867.833868</td>\n      <td>0.000000</td>\n      <td>261.023810</td>\n      <td>0.000000</td>\n      <td>6444</td>\n      <td>0</td>\n      <td>3.668241</td>\n    </tr>\n    <tr>\n      <th>457599</th>\n      <td>457593</td>\n      <td>0.000000</td>\n      <td>1.0</td>\n      <td>0.0</td>\n      <td>0.000000</td>\n      <td>0.000000</td>\n      <td>NaN</td>\n      <td>NaN</td>\n      <td>268.0</td>\n      <td>0.000000</td>\n      <td>1.0</td>\n      <td>1.460033</td>\n      <td>247.000000</td>\n      <td>872.233333</td>\n      <td>0.000000</td>\n      <td>279.116667</td>\n      <td>0.000000</td>\n      <td>6521</td>\n      <td>0</td>\n      <td>4.539573</td>\n    </tr>\n    <tr>\n      <th>457600</th>\n      <td>457600</td>\n      <td>0.000000</td>\n      <td>1.0</td>\n      <td>0.0</td>\n      <td>0.000000</td>\n      <td>0.000000</td>\n      <td>NaN</td>\n      <td>NaN</td>\n      <td>268.0</td>\n      <td>0.000000</td>\n      <td>1.0</td>\n      <td>1.460033</td>\n      <td>251.391667</td>\n      <td>93.411458</td>\n      <td>0.000000</td>\n      <td>209.543750</td>\n      <td>0.000000</td>\n      <td>649</td>\n      <td>0</td>\n      <td>3.975129</td>\n    </tr>\n    <tr>\n      <th>457601</th>\n      <td>457601</td>\n      <td>0.000000</td>\n      <td>1.0</td>\n      <td>0.0</td>\n      <td>0.000000</td>\n      <td>0.000000</td>\n      <td>NaN</td>\n      <td>NaN</td>\n      <td>268.0</td>\n      <td>0.000000</td>\n      <td>1.0</td>\n      <td>1.460033</td>\n      <td>249.741573</td>\n      <td>96.835526</td>\n      <td>0.000000</td>\n      <td>225.337374</td>\n      <td>0.000000</td>\n      <td>4329</td>\n      <td>0</td>\n      <td>7.029918</td>\n    </tr>\n  </tbody>\n</table>\n<p>436876 rows × 20 columns</p>\n</div>"
     },
     "execution_count": 81,
     "metadata": {},
     "output_type": "execute_result"
    }
   ],
   "source": [
    "spots_df"
   ],
   "metadata": {
    "collapsed": false,
    "ExecuteTime": {
     "end_time": "2025-02-25T19:14:02.492404Z",
     "start_time": "2025-02-25T19:14:02.316172Z"
    }
   },
   "id": "613e8bd9298de17d",
   "execution_count": 81
  },
  {
   "cell_type": "code",
   "outputs": [
    {
     "data": {
      "text/plain": "            ID  STD_INTENSITY_CH1  QUALITY  POSITION_T  MIN_INTENSITY_CH1  \\\n0            0          19.370740      1.0         0.0         166.647247   \n1            1           2.134906      1.0         0.0         124.594231   \n2            2           0.000000      1.0         0.0           0.000000   \n5            5           0.766262      1.0         0.0         108.055588   \n6            6           0.000000      1.0         0.0           0.000000   \n...        ...                ...      ...         ...                ...   \n457597  457595           0.000000      1.0         0.0           0.000000   \n457598  457592           0.000000      1.0         0.0           0.000000   \n457599  457593           0.000000      1.0         0.0           0.000000   \n457600  457600           0.000000      1.0         0.0           0.000000   \n457601  457601           0.000000      1.0         0.0           0.000000   \n\n        TOTAL_INTENSITY_CH1  CONTRAST_CH1   SNR_CH1  FRAME  \\\n0              34599.974838      0.021264  0.456340    0.0   \n1              21006.755234     -0.001967 -0.237967    0.0   \n2                  0.000000           NaN       NaN    0.0   \n5              18001.689148     -0.002175 -0.628248    0.0   \n6                  0.000000           NaN       NaN    0.0   \n...                     ...           ...       ...    ...   \n457597             0.000000           NaN       NaN  268.0   \n457598             0.000000           NaN       NaN  268.0   \n457599             0.000000           NaN       NaN  268.0   \n457600             0.000000           NaN       NaN  268.0   \n457601             0.000000           NaN       NaN  268.0   \n\n        MEDIAN_INTENSITY_CH1  VISIBILITY    RADIUS  POSITION_X  POSITION_Y  \\\n0                 213.001617         1.0  1.460033  162.405797  136.101449   \n1                 128.608551         1.0  1.460033  177.875000  236.208333   \n2                   0.000000         1.0  1.460033  285.256410  298.179487   \n5                 110.368652         1.0  1.460033   98.224138  559.534483   \n6                   0.000000         1.0  1.460033   91.354167  607.000000   \n...                      ...         ...       ...         ...         ...   \n457597              0.000000         1.0  1.460033  252.898305   98.706897   \n457598              0.000000         1.0  1.460033  250.100962  867.833868   \n457599              0.000000         1.0  1.460033  247.000000  872.233333   \n457600              0.000000         1.0  1.460033  251.391667   93.411458   \n457601              0.000000         1.0  1.460033  249.741573   96.835526   \n\n        MEAN_INTENSITY_CH1  POSITION_Z  MAX_INTENSITY_CH1  track_id  \\\n0               212.269784   80.000000         260.418182         0   \n1               128.875799   43.000000         135.257507         0   \n2                 0.000000  101.000000           0.000000         0   \n5               110.439811   51.000000         113.468903         0   \n6                 0.000000   66.000000           0.000000         4   \n...                    ...         ...                ...       ...   \n457597            0.000000  169.759156           0.000000      6122   \n457598            0.000000  261.023810           0.000000      6444   \n457599            0.000000  279.116667           0.000000      6521   \n457600            0.000000  209.543750           0.000000       649   \n457601            0.000000  225.337374           0.000000      4329   \n\n        position_cluster  distance_from_edge  \n0                      0           93.767160  \n1                      0          119.208733  \n2                      0           21.508628  \n5                      0           72.499995  \n6                      0           63.742842  \n...                  ...                 ...  \n457597                 0            5.107837  \n457598                 0            3.668241  \n457599                 0            4.539573  \n457600                 0            3.975129  \n457601                 0            7.029918  \n\n[436876 rows x 20 columns]",
      "text/html": "<div>\n<style scoped>\n    .dataframe tbody tr th:only-of-type {\n        vertical-align: middle;\n    }\n\n    .dataframe tbody tr th {\n        vertical-align: top;\n    }\n\n    .dataframe thead th {\n        text-align: right;\n    }\n</style>\n<table border=\"1\" class=\"dataframe\">\n  <thead>\n    <tr style=\"text-align: right;\">\n      <th></th>\n      <th>ID</th>\n      <th>STD_INTENSITY_CH1</th>\n      <th>QUALITY</th>\n      <th>POSITION_T</th>\n      <th>MIN_INTENSITY_CH1</th>\n      <th>TOTAL_INTENSITY_CH1</th>\n      <th>CONTRAST_CH1</th>\n      <th>SNR_CH1</th>\n      <th>FRAME</th>\n      <th>MEDIAN_INTENSITY_CH1</th>\n      <th>VISIBILITY</th>\n      <th>RADIUS</th>\n      <th>POSITION_X</th>\n      <th>POSITION_Y</th>\n      <th>MEAN_INTENSITY_CH1</th>\n      <th>POSITION_Z</th>\n      <th>MAX_INTENSITY_CH1</th>\n      <th>track_id</th>\n      <th>position_cluster</th>\n      <th>distance_from_edge</th>\n    </tr>\n  </thead>\n  <tbody>\n    <tr>\n      <th>0</th>\n      <td>0</td>\n      <td>19.370740</td>\n      <td>1.0</td>\n      <td>0.0</td>\n      <td>166.647247</td>\n      <td>34599.974838</td>\n      <td>0.021264</td>\n      <td>0.456340</td>\n      <td>0.0</td>\n      <td>213.001617</td>\n      <td>1.0</td>\n      <td>1.460033</td>\n      <td>162.405797</td>\n      <td>136.101449</td>\n      <td>212.269784</td>\n      <td>80.000000</td>\n      <td>260.418182</td>\n      <td>0</td>\n      <td>0</td>\n      <td>93.767160</td>\n    </tr>\n    <tr>\n      <th>1</th>\n      <td>1</td>\n      <td>2.134906</td>\n      <td>1.0</td>\n      <td>0.0</td>\n      <td>124.594231</td>\n      <td>21006.755234</td>\n      <td>-0.001967</td>\n      <td>-0.237967</td>\n      <td>0.0</td>\n      <td>128.608551</td>\n      <td>1.0</td>\n      <td>1.460033</td>\n      <td>177.875000</td>\n      <td>236.208333</td>\n      <td>128.875799</td>\n      <td>43.000000</td>\n      <td>135.257507</td>\n      <td>0</td>\n      <td>0</td>\n      <td>119.208733</td>\n    </tr>\n    <tr>\n      <th>2</th>\n      <td>2</td>\n      <td>0.000000</td>\n      <td>1.0</td>\n      <td>0.0</td>\n      <td>0.000000</td>\n      <td>0.000000</td>\n      <td>NaN</td>\n      <td>NaN</td>\n      <td>0.0</td>\n      <td>0.000000</td>\n      <td>1.0</td>\n      <td>1.460033</td>\n      <td>285.256410</td>\n      <td>298.179487</td>\n      <td>0.000000</td>\n      <td>101.000000</td>\n      <td>0.000000</td>\n      <td>0</td>\n      <td>0</td>\n      <td>21.508628</td>\n    </tr>\n    <tr>\n      <th>5</th>\n      <td>5</td>\n      <td>0.766262</td>\n      <td>1.0</td>\n      <td>0.0</td>\n      <td>108.055588</td>\n      <td>18001.689148</td>\n      <td>-0.002175</td>\n      <td>-0.628248</td>\n      <td>0.0</td>\n      <td>110.368652</td>\n      <td>1.0</td>\n      <td>1.460033</td>\n      <td>98.224138</td>\n      <td>559.534483</td>\n      <td>110.439811</td>\n      <td>51.000000</td>\n      <td>113.468903</td>\n      <td>0</td>\n      <td>0</td>\n      <td>72.499995</td>\n    </tr>\n    <tr>\n      <th>6</th>\n      <td>6</td>\n      <td>0.000000</td>\n      <td>1.0</td>\n      <td>0.0</td>\n      <td>0.000000</td>\n      <td>0.000000</td>\n      <td>NaN</td>\n      <td>NaN</td>\n      <td>0.0</td>\n      <td>0.000000</td>\n      <td>1.0</td>\n      <td>1.460033</td>\n      <td>91.354167</td>\n      <td>607.000000</td>\n      <td>0.000000</td>\n      <td>66.000000</td>\n      <td>0.000000</td>\n      <td>4</td>\n      <td>0</td>\n      <td>63.742842</td>\n    </tr>\n    <tr>\n      <th>...</th>\n      <td>...</td>\n      <td>...</td>\n      <td>...</td>\n      <td>...</td>\n      <td>...</td>\n      <td>...</td>\n      <td>...</td>\n      <td>...</td>\n      <td>...</td>\n      <td>...</td>\n      <td>...</td>\n      <td>...</td>\n      <td>...</td>\n      <td>...</td>\n      <td>...</td>\n      <td>...</td>\n      <td>...</td>\n      <td>...</td>\n      <td>...</td>\n      <td>...</td>\n    </tr>\n    <tr>\n      <th>457597</th>\n      <td>457595</td>\n      <td>0.000000</td>\n      <td>1.0</td>\n      <td>0.0</td>\n      <td>0.000000</td>\n      <td>0.000000</td>\n      <td>NaN</td>\n      <td>NaN</td>\n      <td>268.0</td>\n      <td>0.000000</td>\n      <td>1.0</td>\n      <td>1.460033</td>\n      <td>252.898305</td>\n      <td>98.706897</td>\n      <td>0.000000</td>\n      <td>169.759156</td>\n      <td>0.000000</td>\n      <td>6122</td>\n      <td>0</td>\n      <td>5.107837</td>\n    </tr>\n    <tr>\n      <th>457598</th>\n      <td>457592</td>\n      <td>0.000000</td>\n      <td>1.0</td>\n      <td>0.0</td>\n      <td>0.000000</td>\n      <td>0.000000</td>\n      <td>NaN</td>\n      <td>NaN</td>\n      <td>268.0</td>\n      <td>0.000000</td>\n      <td>1.0</td>\n      <td>1.460033</td>\n      <td>250.100962</td>\n      <td>867.833868</td>\n      <td>0.000000</td>\n      <td>261.023810</td>\n      <td>0.000000</td>\n      <td>6444</td>\n      <td>0</td>\n      <td>3.668241</td>\n    </tr>\n    <tr>\n      <th>457599</th>\n      <td>457593</td>\n      <td>0.000000</td>\n      <td>1.0</td>\n      <td>0.0</td>\n      <td>0.000000</td>\n      <td>0.000000</td>\n      <td>NaN</td>\n      <td>NaN</td>\n      <td>268.0</td>\n      <td>0.000000</td>\n      <td>1.0</td>\n      <td>1.460033</td>\n      <td>247.000000</td>\n      <td>872.233333</td>\n      <td>0.000000</td>\n      <td>279.116667</td>\n      <td>0.000000</td>\n      <td>6521</td>\n      <td>0</td>\n      <td>4.539573</td>\n    </tr>\n    <tr>\n      <th>457600</th>\n      <td>457600</td>\n      <td>0.000000</td>\n      <td>1.0</td>\n      <td>0.0</td>\n      <td>0.000000</td>\n      <td>0.000000</td>\n      <td>NaN</td>\n      <td>NaN</td>\n      <td>268.0</td>\n      <td>0.000000</td>\n      <td>1.0</td>\n      <td>1.460033</td>\n      <td>251.391667</td>\n      <td>93.411458</td>\n      <td>0.000000</td>\n      <td>209.543750</td>\n      <td>0.000000</td>\n      <td>649</td>\n      <td>0</td>\n      <td>3.975129</td>\n    </tr>\n    <tr>\n      <th>457601</th>\n      <td>457601</td>\n      <td>0.000000</td>\n      <td>1.0</td>\n      <td>0.0</td>\n      <td>0.000000</td>\n      <td>0.000000</td>\n      <td>NaN</td>\n      <td>NaN</td>\n      <td>268.0</td>\n      <td>0.000000</td>\n      <td>1.0</td>\n      <td>1.460033</td>\n      <td>249.741573</td>\n      <td>96.835526</td>\n      <td>0.000000</td>\n      <td>225.337374</td>\n      <td>0.000000</td>\n      <td>4329</td>\n      <td>0</td>\n      <td>7.029918</td>\n    </tr>\n  </tbody>\n</table>\n<p>436876 rows × 20 columns</p>\n</div>"
     },
     "execution_count": 82,
     "metadata": {},
     "output_type": "execute_result"
    }
   ],
   "source": [
    "spots_df"
   ],
   "metadata": {
    "collapsed": false,
    "ExecuteTime": {
     "end_time": "2025-02-25T19:14:02.672941Z",
     "start_time": "2025-02-25T19:14:02.494416Z"
    }
   },
   "id": "d14b92396caaa50e",
   "execution_count": 82
  },
  {
   "cell_type": "code",
   "outputs": [
    {
     "name": "stdout",
     "output_type": "stream",
     "text": [
      "268.0\n"
     ]
    },
    {
     "data": {
      "text/plain": "<Figure size 640x480 with 1 Axes>",
      "image/png": "[encoded data removed]"
     },
     "metadata": {
      "needs_background": "light"
     },
     "output_type": "display_data"
    }
   ],
   "source": [
    "spots_df[\"track_id\"] = spots_df[\"track_id\"].astype(int)\n",
    "plt.hist(spots_df.groupby(\"track_id\")[\"FRAME\"].max(), bins=100)\n",
    "print(spots_df[\"FRAME\"].max())\n",
    "plt.show()"
   ],
   "metadata": {
    "collapsed": false,
    "ExecuteTime": {
     "end_time": "2025-02-25T19:14:03.074635Z",
     "start_time": "2025-02-25T19:14:02.677463Z"
    }
   },
   "id": "cdb0d3c39886d35c",
   "execution_count": 83
  },
  {
   "cell_type": "code",
   "outputs": [
    {
     "ename": "NameError",
     "evalue": "name 'spots_df' is not defined",
     "output_type": "error",
     "traceback": [
      "\u001B[1;31m---------------------------------------------------------------------------\u001B[0m",
      "\u001B[1;31mNameError\u001B[0m                                 Traceback (most recent call last)",
      "Cell \u001B[1;32mIn[2], line 7\u001B[0m\n\u001B[0;32m      4\u001B[0m interphase_dividers \u001B[38;5;241m=\u001B[39m [\u001B[38;5;241m53\u001B[39m, \u001B[38;5;241m70\u001B[39m, \u001B[38;5;241m115\u001B[39m, \u001B[38;5;241m180\u001B[39m, \u001B[38;5;241m267\u001B[39m]\n\u001B[0;32m      5\u001B[0m \u001B[38;5;66;03m# interphase_dividers = [40, 70, 115, 180, 246]\u001B[39;00m\n\u001B[1;32m----> 7\u001B[0m new_graph \u001B[38;5;241m=\u001B[39m map_divisions(\u001B[43mspots_df\u001B[49m, graph, interphase_dividers, savepath\u001B[38;5;241m=\u001B[39msave_path, no_assign_dis_cost\u001B[38;5;241m=\u001B[39m\u001B[38;5;241m100\u001B[39m)\n",
      "\u001B[1;31mNameError\u001B[0m: name 'spots_df' is not defined"
     ]
    }
   ],
   "source": [
    "from src.models.division_tracking3d import map_divisions\n",
    "from scripts.detect_divisions import process_graph\n",
    "\n",
    "interphase_dividers = [53, 70, 115, 180, 267]\n",
    "# interphase_dividers = [40, 70, 115, 180, 246]\n",
    "\n",
    "new_graph = map_divisions(spots_df, graph, interphase_dividers, savepath=save_path, no_assign_dis_cost=100)\n"
   ],
   "metadata": {
    "collapsed": false,
    "ExecuteTime": {
     "end_time": "2025-02-25T23:29:07.146349Z",
     "start_time": "2025-02-25T23:29:07.116159Z"
    }
   },
   "id": "2634c4d4ba00accf",
   "execution_count": 2
  },
  {
   "cell_type": "code",
   "outputs": [
    {
     "name": "stdout",
     "output_type": "stream",
     "text": [
      "number of tracklets detected: 11349\n",
      "1     472\n",
      "2     152\n",
      "6      47\n",
      "4      46\n",
      "12     37\n",
      "8      37\n",
      "10     29\n",
      "14     27\n",
      "13     26\n",
      "16     25\n",
      "11     20\n",
      "15     19\n",
      "7      19\n",
      "3      13\n",
      "9      11\n",
      "5       9\n",
      "Name: count, dtype: int64\n"
     ]
    }
   ],
   "source": [
    "tracked_df = process_graph(spots_df, new_graph)\n",
    "print(tracked_df[tracked_df[\"FRAME\"] == tracked_df[\"FRAME\"].max()].groupby(\"track_id\").size().value_counts())\n",
    "\n",
    "tracked_df.to_csv(save_path / \"new_tracked_spots.csv\", index=True)"
   ],
   "metadata": {
    "collapsed": false,
    "ExecuteTime": {
     "end_time": "2025-02-25T19:16:22.385361Z",
     "start_time": "2025-02-25T19:15:51.650329Z"
    }
   },
   "id": "4bc2a61bad7de1c5",
   "execution_count": 85
  },
  {
   "cell_type": "code",
   "outputs": [
    {
     "name": "stdout",
     "output_type": "stream",
     "text": [
      "5179\n",
      "3318\n"
     ]
    }
   ],
   "source": [
    "import napari\n",
    "from napari.utils.theme import get_theme, register_theme\n",
    "\n",
    "viewer = napari.Viewer()\n",
    "\n",
    "for df in [spots_df, tracked_df]:\n",
    "\n",
    "    df[\"reflection_z\"] = 2.1*df[\"POSITION_Z\"].max() - df[\"POSITION_Z\"]\n",
    "    df[\"reflection_x\"] = df[\"POSITION_X\"].max() - df[\"POSITION_X\"]\n",
    "    \n",
    "    df[\"is_reflected\"] = df[\"POSITION_X\"] > df[\"POSITION_X\"].max() / 2\n",
    "    \n",
    "    df[\"display_x\"] = df[\"reflection_x\"]*df[\"is_reflected\"] + df[\"POSITION_X\"]*(~df[\"is_reflected\"])\n",
    "    df[\"display_z\"] = df[\"reflection_z\"]*df[\"is_reflected\"] + df[\"POSITION_Z\"]*(~df[\"is_reflected\"])\n",
    "    \n",
    "    track_id = df[\"track_id\"].unique()\n",
    "    print(len(track_id))\n",
    "    color_map = {track: g_palette[i % 8000] for i, track in enumerate(track_id)}\n",
    "    color = [color_map[track] for track in df[\"track_id\"]]\n",
    "    \n",
    "    viewer.add_points(df[[\"FRAME\", \"display_x\", \"POSITION_Y\", \"display_z\"]],\n",
    "                        face_color=color, size=13)\n",
    "\n",
    "# blue_theme = get_theme('dark')\n",
    "# blue_theme.id = 'blue' # or as list\n",
    "# blue_theme.canvas = \"#0A1121\"\n",
    "# register_theme('blue', blue_theme, 'custom')\n",
    "viewer.theme = 'dark'\n",
    "\n",
    "napari.run()"
   ],
   "metadata": {
    "collapsed": false,
    "ExecuteTime": {
     "end_time": "2025-02-25T19:16:29.660843Z",
     "start_time": "2025-02-25T19:16:22.387351Z"
    }
   },
   "id": "6d44b43b2e8135c8",
   "execution_count": 86
  },
  {
   "cell_type": "code",
   "outputs": [
    {
     "data": {
      "text/plain": "<Figure size 600x600 with 1 Axes>",
      "image/png": "[encoded data removed]"
     },
     "metadata": {
      "needs_background": "light"
     },
     "output_type": "display_data"
    }
   ],
   "source": [
    "import plotly.express as px\n",
    "\n",
    "tracked_df[\"reflection_z\"] = 2.1*tracked_df[\"POSITION_Z\"].max() - tracked_df[\"POSITION_Z\"]\n",
    "tracked_df[\"reflection_x\"] = tracked_df[\"POSITION_X\"].max() - tracked_df[\"POSITION_X\"]\n",
    "\n",
    "tracked_df[\"is_reflected\"] = tracked_df[\"POSITION_X\"] > tracked_df[\"POSITION_X\"].max() / 2\n",
    "\n",
    "tracked_df[\"display_x\"] = tracked_df[\"reflection_x\"]*tracked_df[\"is_reflected\"] + tracked_df[\"POSITION_X\"]*(~tracked_df[\"is_reflected\"])\n",
    "tracked_df[\"display_z\"] = tracked_df[\"reflection_z\"]*tracked_df[\"is_reflected\"] + tracked_df[\"POSITION_Z\"]*(~tracked_df[\"is_reflected\"])\n",
    "\n",
    "fig = px.scatter_3d(tracked_df, x='display_x', y='POSITION_Y', z='display_z', color='track_id', animation_frame=\"FRAME\")\n",
    "\n",
    "fig.update_layout(scene=dict(aspectmode='data'))\n",
    "fig.write_html(save_path / \"allspots.html\")\n",
    "\n",
    "n_tracks = 8000\n",
    "best_spots = tracked_df[tracked_df[\"track_id\"] > 0]\n",
    "n_tracklets = best_spots[\"track_id\"].map(best_spots.groupby(\"track_id\")[\"tracklet_id\"].nunique())\n",
    "best_spots = best_spots[n_tracklets > 1]\n",
    "best_spots = best_spots[best_spots[\"FRAME\"] > 10]\n",
    "# best_spots = best_spots[best_spots[\"POSITION_X\"] < 180]\n",
    "# best_spots = best_spots[best_spots[\"POSITION_Y\"] < 100]\n",
    "fig = px.scatter_3d(best_spots, x='display_x', y='POSITION_Y', z='display_z', color='track_id', animation_frame=\"FRAME\", animation_group=\"tracklet_id\", color_continuous_scale=g_palette, range_color=[0, n_tracks])\n",
    "\n",
    "fig.update_layout(scene=dict(aspectmode='data'))\n",
    "fig.update_layout(transition={'duration': 100})\n",
    "fig.update_traces(marker=dict(size=10, colorscale=g_palette), \n",
    "                  line=dict(width=50, color='DarkSlateGrey'),\n",
    "                  )\n",
    "fig.write_html(save_path / \"track_bestspots.html\")\n",
    "\n",
    "plt.figure(figsize=(6, 6))\n",
    "best_spots = tracked_df[tracked_df[\"track_id\"] > 0].copy()\n",
    "n_tracklets = best_spots[\"track_id\"].map(best_spots.groupby(\"track_id\")[\"tracklet_id\"].nunique())\n",
    "best_spots = best_spots[n_tracklets > 1]\n",
    "sns.lineplot(best_spots.groupby(\"FRAME\")[\"track_id\"].count(), color=palette[\"green\"])\n",
    "plt.title(\"Number of segmented & tracked nuclei per timepoint\")\n",
    "plt.xlabel(\"Time (mins)\")\n",
    "plt.ylabel(\"Number of nuclei\")\n",
    "plt.grid(True, which=\"both\")\n",
    "plt.savefig(save_path / \"nuclei_count.png\", dpi=300)\n",
    "plt.show()"
   ],
   "metadata": {
    "collapsed": false,
    "ExecuteTime": {
     "end_time": "2025-02-20T04:24:14.254055Z",
     "start_time": "2025-02-20T04:24:08.323316Z"
    }
   },
   "id": "7062df7fbe8690c6",
   "execution_count": 7
  },
  {
   "cell_type": "code",
   "outputs": [],
   "source": [
    "# import napari\n",
    "# from scipy.spatial import Delaunay\n",
    "# \n",
    "# \n",
    "# napari_frames = [80, 120, 160, 215, 270]\n",
    "# viewer = napari.Viewer()\n",
    "# # \n",
    "# # napari_points = best_spots[best_spots[\"FRAME\"] == 270].sample(500)[[\"POSITION_X\", \"POSITION_Y\", \"POSITION_Z\"]].values\n",
    "# # \n",
    "# # # contract towards middle\n",
    "# # center = napari_points.mean(axis=0)\n",
    "# # napari_points = center + 0.9*(napari_points - center)\n",
    "# # tri = Delaunay(napari_points)\n",
    "# # \n",
    "# # t_combs = [[0, 1, 2], [0, 1, 3], [0, 2, 3], [1, 2, 3]]\n",
    "# # shapes = []\n",
    "# # for s in tqdm(tri.simplices):\n",
    "# #     for comb in t_combs:\n",
    "# #         shapes.append(napari_points[s[comb]])\n",
    "# # viewer.add_shapes(shapes, shape_type=\"polygon\", edge_color='white', face_color='white')\n",
    "# \n",
    "# s = [24, 18, 16, 13, 10]\n",
    "# \n",
    "# for frame, size in zip(napari_frames, s):\n",
    "#     bs = best_spots[best_spots[\"FRAME\"] == frame]\n",
    "#     viewer.add_points(bs[[\"display_x\", \"POSITION_Y\", \"display_z\"]], name=f\"frame_{frame}\",\n",
    "#                       face_color=[g_palette[track] for track in bs[\"track_id\"]], size=size*1.2)\n",
    "#     \n",
    "# napari.run()"
   ],
   "metadata": {
    "collapsed": false,
    "ExecuteTime": {
     "end_time": "2025-02-05T23:09:14.747Z",
     "start_time": "2025-02-05T23:09:14.605376Z"
    }
   },
   "id": "15846be36e098a2f",
   "execution_count": 7
  },
  {
   "cell_type": "code",
   "outputs": [
    {
     "ename": "NameError",
     "evalue": "name 'np' is not defined",
     "output_type": "error",
     "traceback": [
      "\u001B[1;31m---------------------------------------------------------------------------\u001B[0m",
      "\u001B[1;31mNameError\u001B[0m                                 Traceback (most recent call last)",
      "Cell \u001B[1;32mIn[1], line 6\u001B[0m\n\u001B[0;32m      4\u001B[0m f_start \u001B[38;5;241m=\u001B[39m \u001B[38;5;241m20\u001B[39m\n\u001B[0;32m      5\u001B[0m f_end \u001B[38;5;241m=\u001B[39m \u001B[38;5;241m245\u001B[39m\n\u001B[1;32m----> 6\u001B[0m sz \u001B[38;5;241m=\u001B[39m \u001B[43mnp\u001B[49m\u001B[38;5;241m.\u001B[39mlinspace(sz_start, sz_end, f_end \u001B[38;5;241m-\u001B[39m f_start)\n\u001B[0;32m      7\u001B[0m viewer \u001B[38;5;241m=\u001B[39m napari\u001B[38;5;241m.\u001B[39mViewer(ndisplay\u001B[38;5;241m=\u001B[39m\u001B[38;5;241m3\u001B[39m)\n\u001B[0;32m      9\u001B[0m tmppath \u001B[38;5;241m=\u001B[39m save_path \u001B[38;5;241m/\u001B[39m \u001B[38;5;124m\"\u001B[39m\u001B[38;5;124mnapari_temp\u001B[39m\u001B[38;5;124m\"\u001B[39m\n",
      "\u001B[1;31mNameError\u001B[0m: name 'np' is not defined"
     ]
    }
   ],
   "source": [
    "import napari\n",
    "sz_start = 26\n",
    "sz_end = 10\n",
    "f_start = 20\n",
    "f_end = 245\n",
    "sz = np.linspace(sz_start, sz_end, f_end - f_start)\n",
    "viewer = napari.Viewer(ndisplay=3)\n",
    "\n",
    "tmppath = save_path / \"napari_temp\"\n",
    "tmppath.mkdir(exist_ok=True)\n",
    "\n",
    "for s, frame in zip(sz, range(f_start, f_end)):\n",
    "    bs = best_spots[best_spots[\"FRAME\"] == frame]\n",
    "    l = viewer.add_points(bs[[\"display_x\", \"POSITION_Y\", \"display_z\"]], name=f\"frame_{frame}\",\n",
    "                      face_color=[g_palette[track] for track in bs[\"track_id\"]], size=s, translate=[100, 0, 0])\n",
    "    viewer.screenshot(str(tmppath / f\"frame_{frame}.png\"))\n",
    "    # l.visible = False\n",
    "    l.refresh()"
   ],
   "metadata": {
    "collapsed": false,
    "ExecuteTime": {
     "end_time": "2025-02-05T23:12:34.439568Z",
     "start_time": "2025-02-05T23:12:34.153807Z"
    }
   },
   "id": "a3017374b6d9f29c",
   "execution_count": 1
  },
  {
   "cell_type": "code",
   "outputs": [],
   "source": [
    "# import plotly.express as px\n",
    "# \n",
    "# xrange = [points['x'].max(), points['x'].min()]\n",
    "# yrange = [points['y'].max(), points['y'].min()]\n",
    "# \n",
    "# fig = px.scatter_3d(points[points[\"val\"] > 75], x='x', y='y', z='z', color='val', range_x=[0, 150], range_y=yrange, animation_frame=\"frame\")\n",
    "# fig.update_traces(marker=dict(size=5))\n",
    "# \n",
    "# fig.write_html(save_path / \"dog_lo3_hi5.html\")"
   ],
   "metadata": {
    "collapsed": false,
    "ExecuteTime": {
     "end_time": "2025-02-05T23:11:06.803806Z",
     "start_time": "2025-02-05T23:11:06.623777Z"
    }
   },
   "id": "43c51627c6058544",
   "execution_count": 9
  },
  {
   "cell_type": "code",
   "outputs": [],
   "source": [
    "# n_tracks = int(max(tracked_points[\"TRACK_ID\"]))\n",
    "# g_palette = create_palette(n_tracks)"
   ],
   "metadata": {
    "collapsed": false,
    "ExecuteTime": {
     "end_time": "2025-02-05T23:11:06.982147Z",
     "start_time": "2025-02-05T23:11:06.805800Z"
    }
   },
   "id": "b0c70850404595c8",
   "execution_count": 10
  },
  {
   "cell_type": "code",
   "outputs": [],
   "source": [
    "# import plotly.express as px\n",
    "# \n",
    "# xrange = [points['x'].max(), points['x'].min()]\n",
    "# yrange = [points['y'].max(), points['y'].min()]\n",
    "# \n",
    "# fig = px.scatter_3d(points, x='x', y='y', z='z', color='val', range_x=xrange, range_y=yrange, animation_frame=\"frame\")\n",
    "# fig.update_traces(marker=dict(size=5))\n",
    "# \n",
    "# fig.write_html(save_path / \"dog_scatter.html\")\n",
    "# \n",
    "# fig = px.scatter_3d(tracked_points, x='POSITION_X', y='POSITION_Y', z='POSITION_Z', color='TRACK_ID', range_x=[0, 100], range_y=yrange, animation_frame=\"FRAME\", color_continuous_scale=g_palette, range_color=[0, n_tracks])\n",
    "# \n",
    "# # draw axes in proportion to the proportion of their ranges\n",
    "# fig.update_layout(scene=dict(aspectmode='manual', aspectratio=dict(x=1, y=points['y'].max()/100, z=points['z'].max()/100)))\n",
    "# \n",
    "# fig.update_traces(marker=dict(size=5, colorscale=g_palette))\n",
    "# \n",
    "# fig.write_html(save_path / \"tracked_scatter.html\")\n",
    "#     "
   ],
   "metadata": {
    "collapsed": false,
    "ExecuteTime": {
     "end_time": "2025-02-05T23:11:07.157348Z",
     "start_time": "2025-02-05T23:11:06.983158Z"
    }
   },
   "id": "d8a0224923734876",
   "execution_count": 11
  },
  {
   "cell_type": "code",
   "outputs": [],
   "source": [
    "# import napari\n",
    "# from scipy.spatial.distance import cdist\n",
    "# viewer = napari.Viewer(ndisplay=3)\n",
    "# \n",
    "# bs = best_spots[best_spots[\"FRAME\"] == 240]\n",
    "# \n",
    "# roi = 40\n",
    "# \n",
    "# locs = bs[[\"POSITION_X\", \"POSITION_Y\", \"POSITION_Z\"]].values\n",
    "# distances = cdist(locs, locs)\n",
    "# density = np.sum(distances < roi, axis=1)\n",
    "# \n",
    "# plt.hist(density, bins=100)\n",
    "# plt.show()\n",
    "# \n",
    "# ncolors = 20\n",
    "# \n",
    "# density_max = np.quantile(density, 0.98)\n",
    "# density_min = np.quantile(density, 0.02)\n",
    "# \n",
    "# densities =  np.clip((density - density_min) / (density_max - density_min), 0, 1) \n",
    "# print(densities)\n",
    "# # bs[\"density_binned\"] = pd.cut(density, bins=ncolors)\n",
    "# \n",
    "# pal = sns.color_palette(\"mako\", as_cmap=True)\n",
    "# \n",
    "# viewer.add_points(bs[[\"display_x\", \"POSITION_Y\", \"display_z\"]], name=f\"frame_{270}\", features={\"density\": densities},\n",
    "#                       face_color=\"density\", face_colormap=\"viridis\", size=10)\n",
    "# \n",
    "# napari.run()\n"
   ],
   "metadata": {
    "collapsed": false,
    "ExecuteTime": {
     "end_time": "2025-02-05T23:11:07.333068Z",
     "start_time": "2025-02-05T23:11:07.158360Z"
    }
   },
   "id": "95ebaba9fc1791b",
   "execution_count": 12
  }
 ],
 "metadata": {
  "kernelspec": {
   "display_name": "Python 3",
   "language": "python",
   "name": "python3"
  },
  "language_info": {
   "codemirror_mode": {
    "name": "ipython",
    "version": 2
   },
   "file_extension": ".py",
   "mimetype": "text/x-python",
   "name": "python",
   "nbconvert_exporter": "python",
   "pygments_lexer": "ipython2",
   "version": "2.7.6"
  }
 },
 "nbformat": 4,
 "nbformat_minor": 5
}
