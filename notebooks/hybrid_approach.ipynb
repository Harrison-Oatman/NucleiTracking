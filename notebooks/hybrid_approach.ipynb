{
 "cells": [
  {
   "cell_type": "code",
   "execution_count": 1,
   "id": "a4c2381af0934356",
   "metadata": {
    "collapsed": false,
    "ExecuteTime": {
     "end_time": "2025-03-31T21:09:20.493321Z",
     "start_time": "2025-03-31T21:09:16.666130Z"
    }
   },
   "outputs": [],
   "source": [
    "%load_ext autoreload\n",
    "%autoreload 2\n",
    "import pandas as pd\n",
    "import numpy as np\n",
    "from pathlib import Path\n",
    "import matplotlib.pyplot as plt\n",
    "import seaborn as sns\n",
    "from json import load\n",
    "import tifffile\n",
    "from tqdm import tqdm\n",
    "from skimage.draw import polygon\n",
    "from matplotlib import rcParams\n",
    "from glasbey import create_palette"
   ]
  },
  {
   "cell_type": "code",
   "outputs": [],
   "source": [
    "\n",
    "palette = {\n",
    "    \"green\": \"#558150\",\n",
    "    \"beige\": \"#F1E2C3\",\n",
    "    \"brown\": \"#A7785A\",\n",
    "    \"pink\": \"#F0D6C2\",\n",
    "    \"black\": \"#0E0E0E\",\n",
    "}\n",
    "\n",
    "rcParams['font.family'] = 'sans-serif'\n",
    "rcParams['figure.facecolor'] = \"#FFFFFF00\"\n",
    "rcParams['axes.facecolor'] = \"#FFFFFF00\"\n",
    "rcParams['legend.framealpha'] = 0.2\n",
    "rcParams['axes.edgecolor'] = palette[\"black\"]\n",
    "rcParams['axes.labelcolor'] = palette[\"black\"]\n",
    "rcParams['xtick.color'] = palette[\"black\"]\n",
    "rcParams['ytick.color'] = palette[\"black\"]\n",
    "rcParams['text.color'] = palette[\"black\"]\n",
    "rcParams['axes.titlecolor'] = palette[\"black\"]\n"
   ],
   "metadata": {
    "collapsed": true,
    "ExecuteTime": {
     "end_time": "2025-03-31T21:09:20.582146Z",
     "start_time": "2025-03-31T21:09:20.494318Z"
    }
   },
   "id": "initial_id",
   "execution_count": 2
  },
  {
   "cell_type": "code",
   "outputs": [],
   "source": [
    "base_path = Path(r\"D:\\Tracking\\NucleiTracking\\data\\interim\\lightsheet\\2025_03_19a_trk\")\n",
    "\n",
    "dog_path = base_path / \"dog_lo2.0_hi7.0_min3_thresh25.0.csv\"\n",
    "# dog2_path = Path(r\"D:\\Tracking\\NucleiTracking\\data\\interim\\lightsheet\\2025_03_18_trk\\uv_unwrap\\dog_lo2.0_hi7.0_min3_thresh25.0.csv\")\n",
    "cellpose_path = base_path / \"small_spots.csv\"\n",
    "save_path = base_path\n",
    "# save_path.mkdir(exist_ok=True)"
   ],
   "metadata": {
    "collapsed": false,
    "ExecuteTime": {
     "end_time": "2025-03-31T21:09:20.677010Z",
     "start_time": "2025-03-31T21:09:20.583140Z"
    }
   },
   "id": "b1e130183ccfe451",
   "execution_count": 3
  },
  {
   "cell_type": "code",
   "outputs": [],
   "source": [
    "dog = pd.read_csv(dog_path)\n",
    "dog = dog[dog[\"val\"] > 40]\n",
    "# dog2 = pd.read_csv(dog2_path)\n",
    "# dog2 = dog2[dog2[\"val\"] > 30]\n",
    "cellpose = pd.read_csv(cellpose_path)"
   ],
   "metadata": {
    "collapsed": false,
    "ExecuteTime": {
     "end_time": "2025-03-31T21:09:21.335523Z",
     "start_time": "2025-03-31T21:09:20.678011Z"
    }
   },
   "id": "7ccea270ac3d3636",
   "execution_count": 4
  },
  {
   "cell_type": "code",
   "outputs": [],
   "source": [
    "# split_frames = 50, 120\n",
    "split_frame = 180\n",
    "\n",
    "hybrid = pd.concat([cellpose[cellpose[\"frame\"] < split_frame],\n",
    "                    dog[dog[\"frame\"] >= split_frame]], axis=0)\n",
    "\n",
    "# hybrid = pd.concat([cellpose[cellpose[\"frame\"] < split_frames[0]],\n",
    "#                     dog2[dog2[\"frame\"].between(split_frames[0], split_frames[1], inclusive=\"left\")],\n",
    "#                     dog[dog[\"frame\"] >= split_frames[1]]], axis=0)\n",
    "hybrid.to_csv(save_path / \"hybrid.csv\")"
   ],
   "metadata": {
    "collapsed": false,
    "ExecuteTime": {
     "end_time": "2025-03-31T21:09:23.480335Z",
     "start_time": "2025-03-31T21:09:21.336525Z"
    }
   },
   "id": "7f8fc36297338929",
   "execution_count": 5
  },
  {
   "cell_type": "code",
   "outputs": [],
   "source": [
    "import napari\n",
    "\n",
    "viewer = napari.Viewer()\n",
    "\n",
    "points = viewer.add_points(hybrid[[\"frame\", \"z\", \"y\", \"x\"]].values, size=8, shading=\"spherical\")\n",
    "\n",
    "napari.run()"
   ],
   "metadata": {
    "collapsed": false,
    "ExecuteTime": {
     "end_time": "2025-03-31T18:21:11.916709Z",
     "start_time": "2025-03-31T18:21:07.175210Z"
    }
   },
   "id": "3b0b94b3ad990c44",
   "execution_count": 6
  }
 ],
 "metadata": {
  "kernelspec": {
   "display_name": "Python 3",
   "language": "python",
   "name": "python3"
  },
  "language_info": {
   "codemirror_mode": {
    "name": "ipython",
    "version": 2
   },
   "file_extension": ".py",
   "mimetype": "text/x-python",
   "name": "python",
   "nbconvert_exporter": "python",
   "pygments_lexer": "ipython2",
   "version": "2.7.6"
  }
 },
 "nbformat": 4,
 "nbformat_minor": 5
}
