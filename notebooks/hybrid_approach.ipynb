{
 "cells": [
  {
   "cell_type": "code",
   "execution_count": 1,
   "id": "a4c2381af0934356",
   "metadata": {
    "collapsed": false,
    "ExecuteTime": {
     "end_time": "2025-02-26T22:09:37.708748Z",
     "start_time": "2025-02-26T22:09:33.758723Z"
    }
   },
   "outputs": [],
   "source": [
    "%load_ext autoreload\n",
    "%autoreload 2\n",
    "import pandas as pd\n",
    "import numpy as np\n",
    "from pathlib import Path\n",
    "import matplotlib.pyplot as plt\n",
    "import seaborn as sns\n",
    "from json import load\n",
    "import tifffile\n",
    "from tqdm import tqdm\n",
    "from skimage.draw import polygon\n",
    "from matplotlib import rcParams\n",
    "from glasbey import create_palette"
   ]
  },
  {
   "cell_type": "code",
   "outputs": [],
   "source": [
    "\n",
    "palette = {\n",
    "    \"green\": \"#558150\",\n",
    "    \"beige\": \"#F1E2C3\",\n",
    "    \"brown\": \"#A7785A\",\n",
    "    \"pink\": \"#F0D6C2\",\n",
    "    \"black\": \"#0E0E0E\",\n",
    "}\n",
    "\n",
    "rcParams['font.family'] = 'sans-serif'\n",
    "rcParams['figure.facecolor'] = \"#FFFFFF00\"\n",
    "rcParams['axes.facecolor'] = \"#FFFFFF00\"\n",
    "rcParams['legend.framealpha'] = 0.2\n",
    "rcParams['axes.edgecolor'] = palette[\"black\"]\n",
    "rcParams['axes.labelcolor'] = palette[\"black\"]\n",
    "rcParams['xtick.color'] = palette[\"black\"]\n",
    "rcParams['ytick.color'] = palette[\"black\"]\n",
    "rcParams['text.color'] = palette[\"black\"]\n",
    "rcParams['axes.titlecolor'] = palette[\"black\"]\n"
   ],
   "metadata": {
    "collapsed": true,
    "ExecuteTime": {
     "end_time": "2025-02-26T22:09:37.805080Z",
     "start_time": "2025-02-26T22:09:37.709755Z"
    }
   },
   "id": "initial_id",
   "execution_count": 2
  },
  {
   "cell_type": "code",
   "outputs": [],
   "source": [
    "dog_path = Path(r\"D:\\Tracking\\NucleiTracking\\data\\interim\\lightsheet\\2025_02_06\\recon\\output.csv\")\n",
    "cellpose_path = Path(r\"D:\\Tracking\\NucleiTracking\\data\\interim\\lightsheet\\2025_02_06\\recon\\box_project\\cellpose_out\\spots.csv\")\n",
    "save_path = Path(r\"D:\\Tracking\\NucleiTracking\\data\\interim\\lightsheet\\2025_02_06\")\n",
    "# save_path.mkdir(exist_ok=True)"
   ],
   "metadata": {
    "collapsed": false,
    "ExecuteTime": {
     "end_time": "2025-02-26T22:12:50.095028Z",
     "start_time": "2025-02-26T22:12:48.859672Z"
    }
   },
   "id": "b1e130183ccfe451",
   "execution_count": 3
  },
  {
   "cell_type": "code",
   "outputs": [],
   "source": [
    "dog = pd.read_csv(dog_path)\n",
    "cellpose = pd.read_csv(cellpose_path)"
   ],
   "metadata": {
    "collapsed": false,
    "ExecuteTime": {
     "end_time": "2025-02-26T22:13:02.950731Z",
     "start_time": "2025-02-26T22:13:02.172719Z"
    }
   },
   "id": "7ccea270ac3d3636",
   "execution_count": 4
  },
  {
   "cell_type": "code",
   "outputs": [],
   "source": [
    "split_frame = 180\n",
    "\n",
    "hybrid = pd.concat([cellpose[cellpose[\"frame\"] < split_frame], dog[dog[\"frame\"] >= split_frame]], axis=0)\n",
    "hybrid.to_csv(save_path / \"hybrid.csv\")"
   ],
   "metadata": {
    "collapsed": false,
    "ExecuteTime": {
     "end_time": "2025-02-26T22:16:34.777859Z",
     "start_time": "2025-02-26T22:16:30.729388Z"
    }
   },
   "id": "7f8fc36297338929",
   "execution_count": 16
  }
 ],
 "metadata": {
  "kernelspec": {
   "display_name": "Python 3",
   "language": "python",
   "name": "python3"
  },
  "language_info": {
   "codemirror_mode": {
    "name": "ipython",
    "version": 2
   },
   "file_extension": ".py",
   "mimetype": "text/x-python",
   "name": "python",
   "nbconvert_exporter": "python",
   "pygments_lexer": "ipython2",
   "version": "2.7.6"
  }
 },
 "nbformat": 4,
 "nbformat_minor": 5
}
