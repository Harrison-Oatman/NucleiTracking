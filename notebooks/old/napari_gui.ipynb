{
 "cells": [
  {
   "cell_type": "code",
   "execution_count": 1,
   "id": "initial_id",
   "metadata": {
    "collapsed": true,
    "ExecuteTime": {
     "end_time": "2025-03-15T03:14:59.740623Z",
     "start_time": "2025-03-15T03:14:50.342740Z"
    }
   },
   "outputs": [
    {
     "name": "stdout",
     "output_type": "stream",
     "text": [
      "(400, 3)\n"
     ]
    }
   ],
   "source": [
    "import napari\n",
    "from napari.utils.theme import available_themes, get_theme, register_theme\n",
    "import numpy as np\n",
    "import skimage\n",
    "\n",
    "# blobs = skimage.data.binary_blobs(length=10, blob_size_fraction=0.5, n_dim=3)\n",
    "# \n",
    "viewer = napari.Viewer(ndisplay=3)\n",
    "\n",
    "blue_theme = get_theme('dark')\n",
    "blue_theme.id = 'blue'\n",
    "blue_theme.background = 28, 31, 48  # or as tuples\n",
    "blue_theme.foreground = [45, 52, 71]  # or as list\n",
    "blue_theme.canvas = \"#0A1121\"\n",
    "register_theme('blue', blue_theme, 'custom')\n",
    "viewer.theme = 'blue'\n",
    "\n",
    "\n",
    "# colors = [\"#FFCBE1\", \"#D6E5BD\", \"#F9E1A8\", \"#BCD8EC\", \"#DCCcEC\", \"#FFDAB4\"]\n",
    "colors = [\"#BC859F\",\"#567C4B\",\"#6789B4\",\"#6F2A2B\"]\n",
    "colors = [\"#2B5356\",\"#3D5E85\",\"#193E55\",\"#8DAB7F\", \"#C0A331\", \"#e7b5b5\"]\n",
    "probs = [0.225, 0.225, 0.225, 0.19, 0.115, 0.02]\n",
    "\n",
    "n = 20\n",
    "xrange = np.arange(n)\n",
    "yrange = np.arange(n)\n",
    "xx, yy = np.meshgrid(xrange, yrange)\n",
    "z = np.sqrt((xx - n/2)**2 + (yy - n/2)**2)\n",
    "pts = np.stack([xx.flatten(), yy.flatten(), z.flatten()], axis=-1)\n",
    "colors = np.random.choice(colors, len(pts), p=probs)\n",
    "print(pts.shape)\n",
    "\n",
    "viewer.add_points(pts, size=1, face_color=colors, border_color=\"#ABC4CF\")\n",
    "napari.run()"
   ]
  }
 ],
 "metadata": {
  "kernelspec": {
   "display_name": "Python 3",
   "language": "python",
   "name": "python3"
  },
  "language_info": {
   "codemirror_mode": {
    "name": "ipython",
    "version": 2
   },
   "file_extension": ".py",
   "mimetype": "text/x-python",
   "name": "python",
   "nbconvert_exporter": "python",
   "pygments_lexer": "ipython2",
   "version": "2.7.6"
  }
 },
 "nbformat": 4,
 "nbformat_minor": 5
}
