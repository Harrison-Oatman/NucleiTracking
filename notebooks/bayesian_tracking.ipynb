{
 "cells": [
  {
   "cell_type": "code",
   "execution_count": null,
   "id": "initial_id",
   "metadata": {
    "collapsed": true
   },
   "outputs": [],
   "source": [
    "import btrack\n",
    "from skimage.io import imread\n",
    "\n",
    "# load your segmentation data\n",
    "segmentation = imread('/path/to/segmentation.tif')\n",
    "\n",
    "# create btrack objects (with properties) from the segmentation data\n",
    "# (you can also calculate properties, based on scikit-image regionprops)\n",
    "objects = btrack.utils.segmentation_to_objects(\n",
    "  segmentation, properties=('area', )\n",
    ")\n",
    "\n",
    "# initialise a tracker session using a context manager\n",
    "with btrack.BayesianTracker() as tracker:\n",
    "\n",
    "  # configure the tracker using a config file\n",
    "  tracker.configure('/path/to/your/models/cell_config.json')\n",
    "\n",
    "  # append the objects to be tracked\n",
    "  tracker.append(objects)\n",
    "\n",
    "  # set the volume (Z axis volume limits default to [-1e5, 1e5] for 2D data)\n",
    "  tracker.volume = ((0, 1200), (0, 1600))\n",
    "\n",
    "  # track them (in interactive mode)\n",
    "  tracker.track_interactive(step_size=100)\n",
    "\n",
    "  # generate hypotheses and run the global optimizer\n",
    "  tracker.optimize()\n",
    "\n",
    "  # store the data in an HDF5 file\n",
    "  tracker.export('/path/to/tracks.h5', obj_type='obj_type_1')\n",
    "\n",
    "  # get the tracks as a python list\n",
    "  tracks = tracker.tracks\n",
    "\n",
    "  # optional: get the data in a format for napari\n",
    "  data, properties, graph = tracker.to_napari()\n",
    "\n",
    "# get the first track\n",
    "track_zero = tracks[0]\n",
    "\n",
    "# print the length of the track\n",
    "print(len(track_zero))\n",
    "\n",
    "# print all of the xyzt positions in the track\n",
    "print(track_zero.x)\n",
    "print(track_zero.y)\n",
    "print(track_zero.z)\n",
    "print(track_zero.t)\n",
    "\n",
    "# print the fate of the track\n",
    "print(track_zero.fate)\n",
    "\n",
    "# print the track ID, root node, parent node, children and generational depth\n",
    "print(track_zero.ID)\n",
    "print(track_zero.root)\n",
    "print(track_zero.parent)\n",
    "print(track_zero.children)\n",
    "print(track_zero.generation)"
   ]
  }
 ],
 "metadata": {
  "kernelspec": {
   "display_name": "Python 3",
   "language": "python",
   "name": "python3"
  },
  "language_info": {
   "codemirror_mode": {
    "name": "ipython",
    "version": 2
   },
   "file_extension": ".py",
   "mimetype": "text/x-python",
   "name": "python",
   "nbconvert_exporter": "python",
   "pygments_lexer": "ipython2",
   "version": "2.7.6"
  }
 },
 "nbformat": 4,
 "nbformat_minor": 5
}
